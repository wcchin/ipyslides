{
 "cells": [
  {
   "cell_type": "markdown",
   "metadata": {
    "slideshow": {
     "slide_type": "slide"
    }
   },
   "source": [
    "## 跨領域計畫 - 工作會議 (2016/08/26)\n",
    "\n",
    "---\n",
    "\n",
    "### 建立多層次都市人口流動時空模式於傳染病擴散風險評估\n",
    "### *各流動模式的分析架構之建立 及 各流動模式的整合架構*\n",
    "\n",
    "- 進度 - MapEquation 的理解\n",
    "- 進度 - MapEquation - 街道網路試作\n",
    "<br /> <br />\n",
    "\n",
    "---\n",
    "<div class=\"footer\">地理計算科學研究室 - 陳威全. 2016</div>"
   ]
  },
  {
   "cell_type": "markdown",
   "metadata": {
    "slideshow": {
     "slide_type": "slide"
    }
   },
   "source": [
    "### 規劃進度 - 第二年度(目前)規劃\n",
    "<div align=\"center\">\n",
    "<img src=\"figs/fig_1050812/y2_framework_plan.png\" alt=\"plan second year\" width=\"1200\"><br>\n",
    "</div>"
   ]
  },
  {
   "cell_type": "markdown",
   "metadata": {
    "slideshow": {
     "slide_type": "slide"
    }
   },
   "source": [
    "### Map Equation\n",
    "<div align=\"center\">\n",
    "<img src=\"figs/fig_1050826/mapequation_equation.png\" alt=\"plan second year\" width=\"400\"><br>\n",
    "</div>\n",
    "右邊第一項是群間的流量歧異度(entropy)，第二項是群內的流量歧異度。"
   ]
  },
  {
   "cell_type": "markdown",
   "metadata": {
    "slideshow": {
     "slide_type": "slide"
    }
   },
   "source": [
    "### Map Equation\n",
    "<div align=\"center\">\n",
    "<img src=\"figs/fig_1050826/mapequation_sample.png\" alt=\"plan second year\" width=\"600\"><br>\n",
    "</div>\n",
    "L 越小越好；Q 越大越好"
   ]
  },
  {
   "cell_type": "markdown",
   "metadata": {
    "slideshow": {
     "slide_type": "slide"
    }
   },
   "source": [
    "### Map Equation\n",
    "<div align=\"center\">\n",
    "<img src=\"figs/fig_1050826/mapequation_sample2.png\" alt=\"plan second year\" width=\"1200\"><br>\n",
    "</div>"
   ]
  },
  {
   "cell_type": "markdown",
   "metadata": {
    "slideshow": {
     "slide_type": "slide"
    }
   },
   "source": [
    "### 應用 VD 資料所產生的 FBPR 流率資料，進行 Map Equation 的分群\n",
    "<div align=\"center\">\n",
    "<img src=\"figs/fig_1050826/figure_1-3.png\" alt=\"plan second year\" width=\"1200\"><br>\n",
    "</div>"
   ]
  },
  {
   "cell_type": "markdown",
   "metadata": {
    "slideshow": {
     "slide_type": "slide"
    }
   },
   "source": [
    "### 應用 VD 資料所產生的 FBPR 流率資料，進行 Map Equation 的分群\n",
    "<div align=\"center\">\n",
    "<img src=\"figs/fig_1050826/figure_1-2.png\" alt=\"plan second year\" width=\"1200\"><br>\n",
    "</div>"
   ]
  },
  {
   "cell_type": "markdown",
   "metadata": {
    "slideshow": {
     "slide_type": "slide"
    }
   },
   "source": [
    "### 應用 VD 資料所產生的 FBPR 流率資料，進行 Map Equation 的分群\n",
    "<div align=\"center\">\n",
    "<img src=\"figs/fig_1050826/figure_1-4.png\" alt=\"plan second year\" width=\"1200\"><br>\n",
    "</div>"
   ]
  },
  {
   "cell_type": "code",
   "execution_count": null,
   "metadata": {
    "collapsed": true,
    "slideshow": {
     "slide_type": "skip"
    }
   },
   "outputs": [],
   "source": []
  }
 ],
 "metadata": {
  "celltoolbar": "Slideshow",
  "kernelspec": {
   "display_name": "Python 2",
   "language": "python",
   "name": "python2"
  },
  "language_info": {
   "codemirror_mode": {
    "name": "ipython",
    "version": 2
   },
   "file_extension": ".py",
   "mimetype": "text/x-python",
   "name": "python",
   "nbconvert_exporter": "python",
   "pygments_lexer": "ipython2",
   "version": "2.7.11"
  }
 },
 "nbformat": 4,
 "nbformat_minor": 0
}
