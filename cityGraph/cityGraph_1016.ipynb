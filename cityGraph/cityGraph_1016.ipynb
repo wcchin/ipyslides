{
 "cells": [
  {
   "cell_type": "markdown",
   "metadata": {
    "slideshow": {
     "slide_type": "slide"
    }
   },
   "source": [
    "## 跨領域計畫 - 主持人會議 (2015/10/16)\n",
    "\n",
    "---\n",
    "\n",
    "### 建立多層次都市人口流動時空模式於傳染病擴散風險評估\n",
    "### *都市人口流動*\n",
    "\n",
    "- 目前進度 - 即時資料介接\n",
    "- 目前進度 - 都市人口流動 - 歷史資料整理\n",
    "- 目前進度 - 資料展示環境規劃\n",
    "- 預期目標與規劃\n",
    "\n",
    " <br /> <br />\n",
    " \n",
    "---\n",
    "<div class=\"footer\">地理計算科學研究室 - 陳威全. 2015</div>\n"
   ]
  },
  {
   "cell_type": "markdown",
   "metadata": {
    "slideshow": {
     "slide_type": "slide"
    }
   },
   "source": [
    "## 目前進度 - 即時資料介接整理\n",
    "\n",
    "---\n",
    "臺北市即時交通資訊即時資料介接\n",
    "- 申請 (已審核通過)\n",
    "- 資料自動抓取並存到 mysql/postgresql 資料庫 (處理中)\n",
    "- 資料整理 (處理中)\n",
    "\n",
    " \n",
    "---\n",
    "<div class=\"footer\">地理計算科學研究室 - 陳威全. 2015</div>\n"
   ]
  },
  {
   "cell_type": "markdown",
   "metadata": {
    "slideshow": {
     "slide_type": "slide"
    }
   },
   "source": [
    "## 目前進度 - 歷史資料蒐集整理\n",
    "\n",
    "---\n",
    "**VD： 100-104 年度**\n",
    "- 100～104年，每月一週的每日每小時流量與流速資料\n",
    "- 初步定位好 VD 位置\n",
    "- *整合至資料庫 (處理中)*\n",
    "\n",
    " \n",
    "---\n",
    "<div class=\"footer\">地理計算科學研究室 - 陳威全. 2015</div>\n"
   ]
  },
  {
   "cell_type": "markdown",
   "metadata": {
    "slideshow": {
     "slide_type": "slide"
    }
   },
   "source": [
    "## 目前進度 - 資料展示環境規劃\n",
    "\n",
    "---\n",
    "** 方便作爲資料的觀察與呈現的展示環境 **\n",
    "- <a href=\"http://wenlab.geog.ntu.edu.tw:18003/wcchin/taipeiVD/\" target=\"_blank\">初步規劃成果</a>：\n",
    "\n",
    "<img src=\"figs/fig_1016_shiny_trafficdata.png\" alt=\"shiny traffic data\" height=\"490\" width=\"738\">\n",
    "\n",
    " \n",
    "---\n",
    "<div class=\"footer\">地理計算科學研究室 - 陳威全. 2015</div>\n"
   ]
  },
  {
   "cell_type": "markdown",
   "metadata": {
    "slideshow": {
     "slide_type": "slide"
    }
   },
   "source": [
    "## 預期目標與規劃\n",
    "\n",
    "---\n",
    "\n",
    "- 完成介接與處理即時資料的程式，並與歷史資料整合\n",
    "- 資料分析模組 - 資料庫 - 前端展示平臺 - 後臺伺服器 --- 整體架構的建設\n",
    "- 捷運、Youbike 資料整理 (歷史+即時資料)\n",
    "\n",
    "\n",
    " <br /> <br /> \n",
    "\n",
    " \n",
    "---\n",
    "<div class=\"footer\">地理計算科學研究室 - 陳威全. 2015</div>\n"
   ]
  },
  {
   "cell_type": "markdown",
   "metadata": {
    "slideshow": {
     "slide_type": "slide"
    }
   },
   "source": [
    "## 都市人口流動 (第一年)\n",
    "\n",
    "---\n",
    " 介接臺北市交通資訊 ( 已在 data.taipei 開放(不需申請)，資料整理中 )\n",
    " - 街道 - 停車資訊導引系統資料庫 (公民營停車場基本資料)\n",
    " - **街道 - 交通控制中心資料庫 (路段績效（道路速率）、車輛偵測器（VD）)**\n",
    " - 大衆運輸 - 我愛巴士5284資料庫 (車輛等即時經緯度座標、公車到離站等資訊)\n",
    " - 大衆運輸 - 捷運系統(進出站資訊)\n",
    " - 個體 - YouBike微笑單車資料庫 (即時可借車輛數、可停空位數)\n",
    "\n",
    "<br /> <br /> \n",
    "  \n",
    "工作項目\n",
    " - 設計與建立後臺資料庫\n",
    " - **設置資料介接整理與匯入資料庫的架構**\n",
    " - **設置 web-based 資料呈現與探索平臺**\n",
    " - 建設分析模式的開發環境\n",
    "\n",
    "<br />\n",
    "\n",
    "---\n",
    "<div class=\"footer\">地理計算科學研究室 - 陳威全. 2015</div>"
   ]
  },
  {
   "cell_type": "code",
   "execution_count": null,
   "metadata": {
    "collapsed": true,
    "slideshow": {
     "slide_type": "skip"
    }
   },
   "outputs": [],
   "source": []
  }
 ],
 "metadata": {
  "celltoolbar": "Slideshow",
  "kernelspec": {
   "display_name": "Python 2",
   "language": "python",
   "name": "python2"
  },
  "language_info": {
   "codemirror_mode": {
    "name": "ipython",
    "version": 2
   },
   "file_extension": ".py",
   "mimetype": "text/x-python",
   "name": "python",
   "nbconvert_exporter": "python",
   "pygments_lexer": "ipython2",
   "version": "2.7.10"
  }
 },
 "nbformat": 4,
 "nbformat_minor": 0
}
