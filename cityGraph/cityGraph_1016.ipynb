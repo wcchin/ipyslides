{
 "cells": [
  {
   "cell_type": "markdown",
   "metadata": {
    "slideshow": {
     "slide_type": "slide"
    }
   },
   "source": [
    "## 跨領域計畫 - 主持人會議 (2015/10/16)\n",
    "\n",
    "---\n",
    "\n",
    "### 建立多層次都市人口流動時空模式於傳染病擴散風險評估\n",
    "### *都市人口流動*\n",
    "\n",
    "- 目前進度 - 即時資料介接\n",
    "- 目前進度 - 都市人口流動 - 歷史資料整理\n",
    "- 目前進度 - 資料展示環境規劃\n",
    "- 預期目標與規劃\n",
    "\n",
    " <br /> <br />\n",
    " \n",
    "---\n",
    "<div class=\"footer\">地理計算科學研究室 - 陳威全. 2015</div>\n"
   ]
  },
  {
   "cell_type": "markdown",
   "metadata": {
    "slideshow": {
     "slide_type": "slide"
    }
   },
   "source": [
    "## 目前進度 - 即時資料介接整理\n",
    "\n",
    "---\n",
    "臺北市即時交通資訊即時資料介接\n",
    "- 申請 (已審核通過)\n",
    "- 資料自動抓取並存到 mysql/postgresql 資料庫 (處理中)\n",
    "- 資料整理 (處理中)\n",
    "\n",
    " \n",
    "---\n",
    "<div class=\"footer\">地理計算科學研究室 - 陳威全. 2015</div>\n"
   ]
  },
  {
   "cell_type": "markdown",
   "metadata": {
    "slideshow": {
     "slide_type": "slide"
    }
   },
   "source": [
    "## 目前進度 - 歷史資料蒐集整理\n",
    "\n",
    "---\n",
    "**VD： 100-104 年度**\n",
    "- 100～104年，每月一週的每日每小時流量與流速資料\n",
    "- 初步定位好 VD 位置\n",
    "- *整合至資料庫 (處理中)*\n",
    "\n",
    " \n",
    "---\n",
    "<div class=\"footer\">地理計算科學研究室 - 陳威全. 2015</div>\n"
   ]
  },
  {
   "cell_type": "markdown",
   "metadata": {
    "slideshow": {
     "slide_type": "slide"
    }
   },
   "source": [
    "## 目前進度 - 資料展示環境規劃\n",
    "\n",
    "---\n",
    "** 方便作爲資料的觀察與呈現的展示環境 **\n",
    "- 初步規劃成果：\n",
    "\n",
    "<img src=\"figs/fig_1016_shiny_trafficdata.png\" alt=\"shiny traffic data\" height=\"490\" width=\"738\">\n",
    "\n",
    " \n",
    "---\n",
    "<div class=\"footer\">地理計算科學研究室 - 陳威全. 2015</div>\n"
   ]
  },
  {
   "cell_type": "markdown",
   "metadata": {
    "slideshow": {
     "slide_type": "slide"
    }
   },
   "source": [
    "## 預期目標與規劃\n",
    "\n",
    "---\n",
    "\n",
    "- 完成介接與處理即時資料的程式，並與歷史資料整合\n",
    "- 資料分析模組 - 資料庫 - 前端展示平臺 - 後臺伺服器 --- 整體架構的建設\n",
    "- 捷運、Youbike 資料整理 (歷史+即時資料)\n",
    "\n",
    "\n",
    " <br /> <br /> \n",
    "\n",
    " \n",
    "---\n",
    "<div class=\"footer\">地理計算科學研究室 - 陳威全. 2015</div>\n"
   ]
  },
  {
   "cell_type": "code",
   "execution_count": null,
   "metadata": {
    "collapsed": true,
    "slideshow": {
     "slide_type": "skip"
    }
   },
   "outputs": [],
   "source": []
  }
 ],
 "metadata": {
  "celltoolbar": "Slideshow",
  "kernelspec": {
   "display_name": "Python 2",
   "language": "python",
   "name": "python2"
  },
  "language_info": {
   "codemirror_mode": {
    "name": "ipython",
    "version": 2
   },
   "file_extension": ".py",
   "mimetype": "text/x-python",
   "name": "python",
   "nbconvert_exporter": "python",
   "pygments_lexer": "ipython2",
   "version": "2.7.10"
  }
 },
 "nbformat": 4,
 "nbformat_minor": 0
}
