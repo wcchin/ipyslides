{
 "cells": [
  {
   "cell_type": "markdown",
   "metadata": {
    "slideshow": {
     "slide_type": "slide"
    }
   },
   "source": [
    "## 跨領域計畫 - 工作會議 (2016/06/17)\n",
    "\n",
    "---\n",
    "\n",
    "### 建立多層次都市人口流動時空模式於傳染病擴散風險評估\n",
    "### *都市人口流動*\n",
    "\n",
    "- 規劃進度 - 今年度(7月底) 範圍\n",
    "- 目前進度 - Youbike 資料初步分析 - 時間分群\n",
    "- 近期規劃\n",
    "<br /> <br />\n",
    "\n",
    "---\n",
    "<div class=\"footer\">地理計算科學研究室 - 陳威全. 2016</div>"
   ]
  },
  {
   "cell_type": "markdown",
   "metadata": {
    "slideshow": {
     "slide_type": "slide"
    }
   },
   "source": [
    "期中報告(5月底) 範圍\n",
    "\n",
    "<div align=\"center\">\n",
    "<img src=\"figs/fig_1050520/00_cityGraph_1styear_final_re02.png\" alt=\"plan first year\" width=\"1200\"><br>\n",
    "</div>\n",
    "\n",
    "---\n",
    "<div class=\"footer\">地理計算科學研究室 - 陳威全. 2016</div>"
   ]
  },
  {
   "cell_type": "markdown",
   "metadata": {
    "slideshow": {
     "slide_type": "slide"
    }
   },
   "source": [
    "### 目前進度 - Youbike 資料初步分析\n",
    "\n",
    "$$ Service_{index} = \\frac{bike-space}{total}$$\n",
    "- bike: 可借車數  \n",
    "- space: 可停空位  \n",
    "- total: 總車位數\n",
    "\n",
    "value range:\n",
    "- min: -1 = 都是空位，沒有車子可借\n",
    "- max: +1 = 滿滿的車子，沒空位可停"
   ]
  },
  {
   "cell_type": "markdown",
   "metadata": {
    "slideshow": {
     "slide_type": "slide"
    }
   },
   "source": [
    "<div align=\"center\">\n",
    "<img src=\"figs/fig_1050617/ubike_30_02.png\" alt=\"plan first year\" width=\"1200\"><br>\n",
    "</div>\n",
    "藍色：平日，紅色：週末; 時間：2-4月"
   ]
  },
  {
   "cell_type": "markdown",
   "metadata": {
    "slideshow": {
     "slide_type": "subslide"
    }
   },
   "source": [
    "<div align=\"center\">\n",
    "<img src=\"figs/fig_1050617/ubike_39_02.png\" alt=\"plan first year\" width=\"1200\"><br>\n",
    "</div>\n",
    "藍色：平日，紅色：週末; 時間：2-4月"
   ]
  },
  {
   "cell_type": "markdown",
   "metadata": {
    "slideshow": {
     "slide_type": "subslide"
    }
   },
   "source": [
    "<div align=\"center\">\n",
    "<img src=\"figs/fig_1050617/ubike_44_02.png\" alt=\"plan first year\" width=\"1200\"><br>\n",
    "</div>\n",
    "藍色：平日，紅色：週末; 時間：2-4月"
   ]
  },
  {
   "cell_type": "markdown",
   "metadata": {
    "slideshow": {
     "slide_type": "subslide"
    }
   },
   "source": [
    "<div align=\"center\">\n",
    "<img src=\"figs/fig_1050617/ubike_46_02.png\" alt=\"plan first year\" width=\"1200\"><br>\n",
    "</div>\n",
    "藍色：平日，紅色：週末; 時間：2-4月"
   ]
  },
  {
   "cell_type": "markdown",
   "metadata": {
    "slideshow": {
     "slide_type": "subslide"
    }
   },
   "source": [
    "<div align=\"center\">\n",
    "<img src=\"figs/fig_1050617/ubike_48_02.png\" alt=\"plan first year\" width=\"1200\"><br>\n",
    "</div>\n",
    "藍色：平日，紅色：週末; 時間：2-4月"
   ]
  },
  {
   "cell_type": "markdown",
   "metadata": {
    "slideshow": {
     "slide_type": "slide"
    }
   },
   "source": [
    "時間分群\n",
    "\n",
    "\n",
    "| station\\time | 4 | 8 | 12 | 16 | 20 | 24 | 28 |\n",
    "|---|---|---|---|---|---|---|---|\n",
    "| 基隆長興路口 | 0.3 | 0.3 | 0.3 | 0.4 | 0.3 | 0.5 | 0.5 |\n",
    "| 南港世貿公園 | -0.3 | -0.2 | -0.1 | 0.1 | -0.1 | 0.0 | -0.1 |\n",
    "| 南港車站 | -0.7 | -0.7 | 0 | 0.2 | 0.2 | 0.2 | 0.5 |\n",
    "\n",
    "對每一個站作分群: DBSCAN"
   ]
  },
  {
   "cell_type": "markdown",
   "metadata": {
    "slideshow": {
     "slide_type": "subslide"
    }
   },
   "source": [
    "時間分群結果的分佈 (Voronoi 幾何區塊)\n",
    "<div align=\"center\">\n",
    "<img src=\"figs/fig_1050617/youbike_cluster_poly.png\" alt=\"DBSCAN results of the data\" width=\"900\"><br>\n",
    "</div>\n",
    "白色部分為雜訊，其他有顏色部分依顏色區分分群，黑點部分則是Youbike站點。"
   ]
  },
  {
   "cell_type": "code",
   "execution_count": null,
   "metadata": {
    "collapsed": true,
    "slideshow": {
     "slide_type": "skip"
    }
   },
   "outputs": [],
   "source": []
  }
 ],
 "metadata": {
  "celltoolbar": "Slideshow",
  "kernelspec": {
   "display_name": "Python 2",
   "language": "python",
   "name": "python2"
  },
  "language_info": {
   "codemirror_mode": {
    "name": "ipython",
    "version": 2
   },
   "file_extension": ".py",
   "mimetype": "text/x-python",
   "name": "python",
   "nbconvert_exporter": "python",
   "pygments_lexer": "ipython2",
   "version": "2.7.11"
  }
 },
 "nbformat": 4,
 "nbformat_minor": 0
}
