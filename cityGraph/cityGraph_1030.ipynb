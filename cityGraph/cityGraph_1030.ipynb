{
 "cells": [
  {
   "cell_type": "markdown",
   "metadata": {
    "slideshow": {
     "slide_type": "slide"
    }
   },
   "source": [
    "## 跨領域計畫 - 工作會議 (2015/10/30)\n",
    "\n",
    "---\n",
    "\n",
    "### 建立多層次都市人口流動時空模式於傳染病擴散風險評估\n",
    "### *都市人口流動*\n",
    "\n",
    "- 目前進度 - 即時資料介接 - 資料庫規劃\n",
    "- 目前進度 - 資料展示環境規劃\n",
    "- 預期目標與規劃\n",
    "\n",
    " <br /> <br />\n",
    " \n",
    "---\n",
    "<div class=\"footer\">地理計算科學研究室 - 陳威全. 2015</div>\n"
   ]
  },
  {
   "cell_type": "markdown",
   "metadata": {
    "slideshow": {
     "slide_type": "slide"
    }
   },
   "source": [
    "## 目前進度 - 即時資料介接整理\n",
    "\n",
    "---\n",
    "臺北市即時交通資訊即時資料介接\n",
    "- 資料庫規劃\n",
    "- 目前完成階段\n",
    "\n",
    " \n",
    "---\n",
    "<div class=\"footer\">地理計算科學研究室 - 陳威全. 2015</div>\n"
   ]
  },
  {
   "cell_type": "markdown",
   "metadata": {
    "slideshow": {
     "slide_type": "slide"
    }
   },
   "source": [
    "<img src=\"figs/fig_1030_db_traffic_erdiagram.png\" alt=\"shiny traffic data\" height=\"490\" width=\"738\">"
   ]
  },
  {
   "cell_type": "markdown",
   "metadata": {
    "slideshow": {
     "slide_type": "slide"
    }
   },
   "source": [
    "## 目前進度 - 資料展示平臺\n",
    "\n",
    "---\n",
    "- <a href=\"http://wenlab.geog.ntu.edu.tw:18003/wcchin/vdMap/\" target=\"_blank\">初步規劃成果</a>：\n",
    "<img src=\"figs/fig_1030_shiny_leaflet.png\" alt=\"shiny traffic data\" height=\"490\" width=\"738\">\n",
    " \n",
    "---\n",
    "<div class=\"footer\">地理計算科學研究室 - 陳威全. 2015</div>\n"
   ]
  },
  {
   "cell_type": "code",
   "execution_count": null,
   "metadata": {
    "collapsed": true
   },
   "outputs": [],
   "source": []
  }
 ],
 "metadata": {
  "celltoolbar": "Slideshow",
  "kernelspec": {
   "display_name": "Python 2",
   "language": "python",
   "name": "python2"
  },
  "language_info": {
   "codemirror_mode": {
    "name": "ipython",
    "version": 2
   },
   "file_extension": ".py",
   "mimetype": "text/x-python",
   "name": "python",
   "nbconvert_exporter": "python",
   "pygments_lexer": "ipython2",
   "version": "2.7.10"
  }
 },
 "nbformat": 4,
 "nbformat_minor": 0
}
