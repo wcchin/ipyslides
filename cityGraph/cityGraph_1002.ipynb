{
 "cells": [
  {
   "cell_type": "markdown",
   "metadata": {
    "slideshow": {
     "slide_type": "slide"
    }
   },
   "source": [
    "## 跨領域計畫 - 工作會議會議 (2015/10/02)\n",
    "\n",
    "---\n",
    "#建立多層次都市人口流動時空模式於傳染病擴散風險評估\n",
    "\n",
    "- 都市人口流動\n",
    "\n",
    "<br /> <br /> <br />\n",
    " \n",
    "---\n",
    "<div class=\"footer\">地理計算科學研究室 - 陳威全. 2015</div>\n"
   ]
  },
  {
   "cell_type": "markdown",
   "metadata": {
    "slideshow": {
     "slide_type": "slide"
    }
   },
   "source": [
    "## 工作項目 (即時資料介接整理)\n",
    "\n",
    "---\n",
    "\n",
    "臺北市即時交通資訊即時資料介接\n",
    "- 申請 (已審核通過)\n",
    "- 資料自動抓取並存到 mysql 資料庫 (處理中)\n",
    "- 資料整理 (處理中)\n",
    "\n",
    "<br /> \n",
    "<br />\n",
    "\n",
    "---\n",
    "<div class=\"footer\">地理計算科學研究室 - 陳威全. 2015</div>"
   ]
  },
  {
   "cell_type": "markdown",
   "metadata": {
    "slideshow": {
     "slide_type": "slide"
    }
   },
   "source": [
    "## 工作項目 (歷史資料蒐集整理)\n",
    "\n",
    "---\n",
    "\n",
    "臺北市交通流量資料\n",
    "- VD： 100-104 年度 (資料整理中)\n",
    "- 流量調查資料： 91-103 年度 (資料抓取中)\n",
    "\n",
    "<br /> \n",
    "<br />\n",
    "\n",
    "---\n",
    "<div class=\"footer\">地理計算科學研究室 - 陳威全. 2015</div>"
   ]
  },
  {
   "cell_type": "code",
   "execution_count": null,
   "metadata": {
    "collapsed": true,
    "slideshow": {
     "slide_type": "skip"
    }
   },
   "outputs": [],
   "source": []
  }
 ],
 "metadata": {
  "celltoolbar": "Slideshow",
  "kernelspec": {
   "display_name": "Python 2",
   "language": "python",
   "name": "python2"
  },
  "language_info": {
   "codemirror_mode": {
    "name": "ipython",
    "version": 2
   },
   "file_extension": ".py",
   "mimetype": "text/x-python",
   "name": "python",
   "nbconvert_exporter": "python",
   "pygments_lexer": "ipython2",
   "version": "2.7.10"
  }
 },
 "nbformat": 4,
 "nbformat_minor": 0
}
