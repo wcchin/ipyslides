{
 "cells": [
  {
   "cell_type": "markdown",
   "metadata": {
    "slideshow": {
     "slide_type": "slide"
    }
   },
   "source": [
    "## 跨領域計畫 - 工作會議 (2016/02/26)\n",
    "\n",
    "---\n",
    "\n",
    "### 建立多層次都市人口流動時空模式於傳染病擴散風險評估\n",
    "### *都市人口流動*\n",
    "\n",
    "- 目前進度 - 即時資料應用-1~2月的週末\n",
    "- 預期目標與規劃\n",
    "\n",
    " <br /> <br />\n",
    "\n",
    "---\n",
    "<div class=\"footer\">地理計算科學研究室 - 陳威全. 2016</div>"
   ]
  },
  {
   "cell_type": "markdown",
   "metadata": {
    "slideshow": {
     "slide_type": "slide"
    }
   },
   "source": [
    "## 即時資料應用-1~2月的週末\n",
    "\n",
    "觀察兩個月的週末的平均車流速狀況的差異。\n",
    "\n",
    "1. week 1/08-10 (五、六、日) - 一般 (綠色)\n",
    "2. week 1/15-17 (五、六、日) - 大選 (橘色)\n",
    "3. week 1/22-24 (五、六、日) - 超強寒流 (藍色)\n",
    "4. week 1/29-31 (五、六、日) - 一般 (紅色)\n",
    "5. week 2/05-07 (五、六、日) - 過年、除夕 (綠色)\n",
    "6. week 2/12-14 (五、六、日) - 準備上班 (橘色)\n",
    "7. week 2/19-21 (五、六、日) - 一般 (藍色)\n",
    " \n",
    "---\n",
    "<div class=\"footer\">地理計算科學研究室 - 陳威全. 2016</div>"
   ]
  },
  {
   "cell_type": "markdown",
   "metadata": {
    "slideshow": {
     "slide_type": "slide"
    }
   },
   "source": [
    "## 即時資料應用-1月的週末\n",
    "\n",
    "一月- vd_V1NMM20 的 4條車道\n",
    "<img src=\"figs/fig_1050226/01jan/vd_V1NMM20_0_01_a.png\" alt=\"vd_01_0\" width=\"738\">\n",
    " \n",
    "---\n",
    "<div class=\"footer\">地理計算科學研究室 - 陳威全. 2016</div>"
   ]
  },
  {
   "cell_type": "markdown",
   "metadata": {
    "slideshow": {
     "slide_type": "slide"
    }
   },
   "source": [
    "## 即時資料應用-1月的週末\n",
    "\n",
    "一月- vd_V1NMM20 的 4條車道\n",
    "<img src=\"figs/fig_1050226/01jan/vd_V1NMM20_1_01_a.png\" alt=\"vd_01_1\" width=\"738\">\n",
    " \n",
    "---\n",
    "<div class=\"footer\">地理計算科學研究室 - 陳威全. 2016</div>"
   ]
  },
  {
   "cell_type": "markdown",
   "metadata": {
    "slideshow": {
     "slide_type": "slide"
    }
   },
   "source": [
    "## 即時資料應用-1月的週末\n",
    "\n",
    "一月- vd_V1NMM20 的 4條車道\n",
    "<img src=\"figs/fig_1050226/01jan/vd_V1NMM20_2_01_a.png\" alt=\"vd_01_2\" width=\"738\">\n",
    " \n",
    "---\n",
    "<div class=\"footer\">地理計算科學研究室 - 陳威全. 2016</div>"
   ]
  },
  {
   "cell_type": "markdown",
   "metadata": {
    "slideshow": {
     "slide_type": "slide"
    }
   },
   "source": [
    "## 即時資料應用-1月的週末\n",
    "\n",
    "一月- vd_V1NMM20 的 4條車道\n",
    "<img src=\"figs/fig_1050226/01jan/vd_V1NMM20_3_01_a.png\" alt=\"vd_01_3\" width=\"738\">\n",
    " \n",
    "---\n",
    "<div class=\"footer\">地理計算科學研究室 - 陳威全. 2016</div>"
   ]
  },
  {
   "cell_type": "markdown",
   "metadata": {
    "slideshow": {
     "slide_type": "slide"
    }
   },
   "source": [
    "## 即時資料應用-1月的週末\n",
    "\n",
    "一月- vd_V1XLD00 的 5 條車道\n",
    "<img src=\"figs/fig_1050226/01jan/vd_V1XLD00_0_01_a.png\" alt=\"vd_01_0\" width=\"738\">\n",
    " \n",
    "---\n",
    "<div class=\"footer\">地理計算科學研究室 - 陳威全. 2016</div>"
   ]
  },
  {
   "cell_type": "markdown",
   "metadata": {
    "slideshow": {
     "slide_type": "subslide"
    }
   },
   "source": [
    "## 即時資料應用-1月的週末\n",
    "\n",
    "一月- vd_V1XLD00 的 5 條車道\n",
    "<img src=\"figs/fig_1050226/01jan/vd_V1XLD00_1_01_a.png\" alt=\"vd_01_1\" width=\"738\">\n",
    " \n",
    "---\n",
    "<div class=\"footer\">地理計算科學研究室 - 陳威全. 2016</div>"
   ]
  },
  {
   "cell_type": "markdown",
   "metadata": {
    "slideshow": {
     "slide_type": "subslide"
    }
   },
   "source": [
    "## 即時資料應用-1月的週末\n",
    "\n",
    "一月- vd_V1XLD00 的 5 條車道\n",
    "<img src=\"figs/fig_1050226/01jan/vd_V1XLD00_2_01_a.png\" alt=\"vd_01_2\" width=\"738\">\n",
    " \n",
    "---\n",
    "<div class=\"footer\">地理計算科學研究室 - 陳威全. 2016</div>"
   ]
  },
  {
   "cell_type": "markdown",
   "metadata": {
    "slideshow": {
     "slide_type": "subslide"
    }
   },
   "source": [
    "## 即時資料應用-1月的週末\n",
    "\n",
    "一月- vd_V1XLD00 的 5 條車道\n",
    "<img src=\"figs/fig_1050226/01jan/vd_V1XLD00_3_01_a.png\" alt=\"vd_01_3\" width=\"738\">\n",
    " \n",
    "---\n",
    "<div class=\"footer\">地理計算科學研究室 - 陳威全. 2016</div>"
   ]
  },
  {
   "cell_type": "markdown",
   "metadata": {
    "slideshow": {
     "slide_type": "subslide"
    }
   },
   "source": [
    "## 即時資料應用-1月的週末\n",
    "\n",
    "一月- vd_V1XLD00 的 5 條車道\n",
    "<img src=\"figs/fig_1050226/01jan/vd_V1XLD00_4_01_a.png\" alt=\"vd_01_3\" width=\"738\">\n",
    " \n",
    "---\n",
    "<div class=\"footer\">地理計算科學研究室 - 陳威全. 2016</div>"
   ]
  },
  {
   "cell_type": "markdown",
   "metadata": {
    "slideshow": {
     "slide_type": "slide"
    }
   },
   "source": [
    "## 即時資料應用-2月的週末\n",
    "\n",
    "一月- vd_V1NQM40 的 2 條車道\n",
    "<img src=\"figs/fig_1050226/02feb/vd_V1NQM40_0_02_a.png\" alt=\"vd_02_0\" width=\"738\">\n",
    " \n",
    "---\n",
    "<div class=\"footer\">地理計算科學研究室 - 陳威全. 2016</div>"
   ]
  },
  {
   "cell_type": "markdown",
   "metadata": {
    "slideshow": {
     "slide_type": "slide"
    }
   },
   "source": [
    "## 即時資料應用-2月的週末\n",
    "\n",
    "一月- vd_V1NQM40 的 2 條車道\n",
    "<img src=\"figs/fig_1050226/02feb/vd_V1NQM40_1_02_a.png\" alt=\"vd_02_0\" width=\"738\">\n",
    " \n",
    "---\n",
    "<div class=\"footer\">地理計算科學研究室 - 陳威全. 2016</div>"
   ]
  },
  {
   "cell_type": "markdown",
   "metadata": {
    "slideshow": {
     "slide_type": "slide"
    }
   },
   "source": [
    "## 即時資料應用-2月的週末\n",
    "\n",
    "一月- vd_V03A0G0 的 2 條車道\n",
    "<img src=\"figs/fig_1050226/02feb/vd_V03A0G0_0_02_a.png\" alt=\"vd_02_1\" width=\"738\">\n",
    " \n",
    "---\n",
    "<div class=\"footer\">地理計算科學研究室 - 陳威全. 2016</div>"
   ]
  },
  {
   "cell_type": "markdown",
   "metadata": {
    "slideshow": {
     "slide_type": "slide"
    }
   },
   "source": [
    "## 即時資料應用-2月的週末\n",
    "\n",
    "一月- vd_V03A0G0 的 2 條車道\n",
    "<img src=\"figs/fig_1050226/02feb/vd_V03A0G0_1_02_a.png\" alt=\"vd_02_1\" width=\"738\">\n",
    " \n",
    "---\n",
    "<div class=\"footer\">地理計算科學研究室 - 陳威全. 2016</div>"
   ]
  },
  {
   "cell_type": "markdown",
   "metadata": {
    "slideshow": {
     "slide_type": "slide"
    }
   },
   "source": [
    "## 即時資料應用-2月的週末\n",
    "\n",
    "一月- vd_V03B0G0 的 3 條車道\n",
    "<img src=\"figs/fig_1050226/02feb/vd_V03B0G0_0_02_a.png\" alt=\"vd_02_2\" width=\"738\">\n",
    " \n",
    "---\n",
    "<div class=\"footer\">地理計算科學研究室 - 陳威全. 2016</div>"
   ]
  },
  {
   "cell_type": "markdown",
   "metadata": {
    "slideshow": {
     "slide_type": "subslide"
    }
   },
   "source": [
    "## 即時資料應用-2月的週末\n",
    "\n",
    "一月- vd_V03B0G0 的 3 條車道\n",
    "<img src=\"figs/fig_1050226/02feb/vd_V03B0G0_1_02_a.png\" alt=\"vd_02_2\" width=\"738\">\n",
    " \n",
    "---\n",
    "<div class=\"footer\">地理計算科學研究室 - 陳威全. 2016</div>"
   ]
  },
  {
   "cell_type": "markdown",
   "metadata": {
    "slideshow": {
     "slide_type": "subslide"
    }
   },
   "source": [
    "## 即時資料應用-2月的週末\n",
    "\n",
    "一月- vd_V03B0G0 的 3 條車道\n",
    "<img src=\"figs/fig_1050226/02feb/vd_V03B0G0_2_02_a.png\" alt=\"vd_02_2\" width=\"738\">\n",
    " \n",
    "---\n",
    "<div class=\"footer\">地理計算科學研究室 - 陳威全. 2016</div>"
   ]
  },
  {
   "cell_type": "markdown",
   "metadata": {
    "slideshow": {
     "slide_type": "slide"
    }
   },
   "source": [
    "## 預期目標與規劃\n",
    "\n",
    "建立一套呈現與觀察開放交通資料的架構\n",
    "\n",
    "A. 以一、二月份的資料(8周-第八週是連假)：\n",
    "    1. 觀察空間分佈\n",
    "    2. 觀察流量狀況\n",
    "    3. 整理平日(一-五)的資料：預期可以看到變化趨勢\n",
    "    4. 繪製流速分布圖\n",
    "    5. 地圖資料呈現\n",
    "\n",
    "B. 着手整理公車、Youbike 資料，試着用同樣的時段來搭配街道流速作討論。\n",
    " \n",
    "---\n",
    "<div class=\"footer\">地理計算科學研究室 - 陳威全. 2016</div>"
   ]
  },
  {
   "cell_type": "code",
   "execution_count": null,
   "metadata": {
    "collapsed": true
   },
   "outputs": [],
   "source": []
  }
 ],
 "metadata": {
  "celltoolbar": "Slideshow",
  "kernelspec": {
   "display_name": "Python 2",
   "language": "python",
   "name": "python2"
  },
  "language_info": {
   "codemirror_mode": {
    "name": "ipython",
    "version": 2
   },
   "file_extension": ".py",
   "mimetype": "text/x-python",
   "name": "python",
   "nbconvert_exporter": "python",
   "pygments_lexer": "ipython2",
   "version": "2.7.11"
  }
 },
 "nbformat": 4,
 "nbformat_minor": 0
}
