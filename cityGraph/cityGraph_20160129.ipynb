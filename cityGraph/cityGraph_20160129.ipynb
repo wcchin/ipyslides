{
 "cells": [
  {
   "cell_type": "markdown",
   "metadata": {
    "slideshow": {
     "slide_type": "slide"
    }
   },
   "source": [
    "## 跨領域計畫 - 工作會議 (2016/01/29)\n",
    "\n",
    "---\n",
    "\n",
    "### 建立多層次都市人口流動時空模式於傳染病擴散風險評估\n",
    "### *都市人口流動*\n",
    "\n",
    "- 目前進度 - 即時資料應用-1月的週末\n",
    "- 預期目標與規劃\n",
    "\n",
    " <br /> <br />\n",
    "\n",
    "---\n",
    "<div class=\"footer\">地理計算科學研究室 - 陳威全. 2016</div>"
   ]
  },
  {
   "cell_type": "markdown",
   "metadata": {
    "slideshow": {
     "slide_type": "slide"
    }
   },
   "source": [
    "## 即時資料應用-1月的週末\n",
    "\n",
    "1. week 1: 1/8-10 (五、六、日) - 應該沒什麼特別的事 (紅色R)\n",
    "2. week 2: 1/15-17 (五、六、日) - 大選 (綠色G)\n",
    "3. week 3: 1/22-24 (五、六、日) - 超強寒流 (藍色B)\n",
    " \n",
    "---\n",
    "<div class=\"footer\">地理計算科學研究室 - 陳威全. 2016</div>"
   ]
  },
  {
   "cell_type": "markdown",
   "metadata": {
    "collapsed": true,
    "slideshow": {
     "slide_type": "slide"
    }
   },
   "source": [
    "## 即時資料應用-狀況一\n",
    "\n",
    "三天的趨勢相似：\n",
    "![folium toyplot mapping](figs/fig_1050129/1_vd_V42B1E0_201601.png)\n",
    "\n",
    "\n",
    "---\n",
    "<div class=\"footer\">地理計算科學研究室 - 陳威全. 2016</div>"
   ]
  },
  {
   "cell_type": "markdown",
   "metadata": {
    "slideshow": {
     "slide_type": "subslide"
    }
   },
   "source": [
    "## 即時資料應用-狀況一\n",
    "\n",
    "三天的趨勢相似：\n",
    "![folium toyplot mapping](figs/fig_1050129/1_vd_V1250E0_201601.png)\n",
    "\n",
    "\n",
    "---\n",
    "<div class=\"footer\">地理計算科學研究室 - 陳威全. 2016</div>"
   ]
  },
  {
   "cell_type": "markdown",
   "metadata": {
    "slideshow": {
     "slide_type": "subslide"
    }
   },
   "source": [
    "## 即時資料應用-狀況一\n",
    "\n",
    "三天的趨勢相似：\n",
    "![folium toyplot mapping](figs/fig_1050129/2_vd_V1240E0_201601.png)\n",
    "\n",
    "\n",
    "---\n",
    "<div class=\"footer\">地理計算科學研究室 - 陳威全. 2016</div>"
   ]
  },
  {
   "cell_type": "markdown",
   "metadata": {
    "slideshow": {
     "slide_type": "subslide"
    }
   },
   "source": [
    "## 即時資料應用-狀況一\n",
    "\n",
    "三天的趨勢相似：\n",
    "![folium toyplot mapping](figs/fig_1050129/3_vd_V12B2E0_201601.png)\n",
    "\n",
    "\n",
    "---\n",
    "<div class=\"footer\">地理計算科學研究室 - 陳威全. 2016</div>"
   ]
  },
  {
   "cell_type": "markdown",
   "metadata": {
    "slideshow": {
     "slide_type": "slide"
    }
   },
   "source": [
    "## 即時資料應用-狀況二\n",
    "\n",
    "三天的趨勢相似：\n",
    "![folium toyplot mapping](figs/fig_1050129/2_vd_V5070A0_201601.png)\n",
    "\n",
    "\n",
    "---\n",
    "<div class=\"footer\">地理計算科學研究室 - 陳威全. 2016</div>"
   ]
  },
  {
   "cell_type": "markdown",
   "metadata": {
    "slideshow": {
     "slide_type": "slide"
    }
   },
   "source": [
    "## 即時資料應用-狀況三\n",
    "\n",
    "三天的趨勢相似：\n",
    "![folium toyplot mapping](figs/fig_1050129/4_vd_V03C0G1_201601.png)\n",
    "\n",
    "\n",
    "---\n",
    "<div class=\"footer\">地理計算科學研究室 - 陳威全. 2016</div>"
   ]
  },
  {
   "cell_type": "markdown",
   "metadata": {
    "slideshow": {
     "slide_type": "subslide"
    }
   },
   "source": [
    "## 即時資料應用-狀況三\n",
    "\n",
    "三天的趨勢相似：\n",
    "![folium toyplot mapping](figs/fig_1050129/4_vd_V1270E0_201601.png)\n",
    "\n",
    "\n",
    "---\n",
    "<div class=\"footer\">地理計算科學研究室 - 陳威全. 2016</div>"
   ]
  },
  {
   "cell_type": "markdown",
   "metadata": {
    "slideshow": {
     "slide_type": "subslide"
    }
   },
   "source": [
    "## 即時資料應用-狀況三\n",
    "\n",
    "三天的趨勢相似：\n",
    "![folium toyplot mapping](figs/fig_1050129/4_vd_V6340G0_201601.png)\n",
    "\n",
    "\n",
    "---\n",
    "<div class=\"footer\">地理計算科學研究室 - 陳威全. 2016</div>"
   ]
  },
  {
   "cell_type": "markdown",
   "metadata": {
    "slideshow": {
     "slide_type": "slide"
    }
   },
   "source": [
    "## 即時資料應用-狀況四\n",
    "\n",
    "星期五與六、日不一樣：\n",
    "![folium toyplot mapping](figs/fig_1050129/5_vd_V0130A0_201601.png)\n",
    "\n",
    "\n",
    "---\n",
    "<div class=\"footer\">地理計算科學研究室 - 陳威全. 2016</div>"
   ]
  },
  {
   "cell_type": "markdown",
   "metadata": {
    "slideshow": {
     "slide_type": "slide"
    }
   },
   "source": [
    "## 預期目標與規劃\n",
    "\n",
    "建立一套呈現與觀察開放交通資料的架構\n",
    "\n",
    "A. 以一月份的資料(四周)：\n",
    "    1. 觀察空間分佈\n",
    "    2. 觀察流量狀況\n",
    "    3. 整理平日(一-五)的資料\n",
    "    4. 整理統計資訊\n",
    "    5. 地圖資料呈現\n",
    "\n",
    "B. 整理過年資料 (二月)\n",
    " \n",
    "---\n",
    "<div class=\"footer\">地理計算科學研究室 - 陳威全. 2016</div>"
   ]
  },
  {
   "cell_type": "code",
   "execution_count": null,
   "metadata": {
    "collapsed": true,
    "slideshow": {
     "slide_type": "skip"
    }
   },
   "outputs": [],
   "source": []
  }
 ],
 "metadata": {
  "celltoolbar": "Slideshow",
  "kernelspec": {
   "display_name": "Python 2",
   "language": "python",
   "name": "python2"
  },
  "language_info": {
   "codemirror_mode": {
    "name": "ipython",
    "version": 2
   },
   "file_extension": ".py",
   "mimetype": "text/x-python",
   "name": "python",
   "nbconvert_exporter": "python",
   "pygments_lexer": "ipython2",
   "version": "2.7.11"
  }
 },
 "nbformat": 4,
 "nbformat_minor": 0
}
