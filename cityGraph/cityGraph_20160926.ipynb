{
 "cells": [
  {
   "cell_type": "markdown",
   "metadata": {
    "slideshow": {
     "slide_type": "slide"
    }
   },
   "source": [
    "## 跨領域計畫 - 工作會議 (2016/09/26)\n",
    "\n",
    "---\n",
    "\n",
    "### *各流動模式的分析架構之建立 及 各流動模式的整合架構*\n",
    "\n",
    "- 規劃進度\n",
    "- Workshop 相關\n",
    "- 進度 - MapEquation 簡單說明\n",
    "<br /> <br />\n",
    "\n",
    "---\n",
    "<div class=\"footer\">地理計算科學研究室 - 陳威全. 2016</div>"
   ]
  },
  {
   "cell_type": "markdown",
   "metadata": {
    "slideshow": {
     "slide_type": "slide"
    }
   },
   "source": [
    "### 規劃進度 - 第二年度(目前)規劃\n",
    "<div align=\"center\">\n",
    "<img src=\"figs/fig_1050812/y2_framework_plan.png\" alt=\"plan second year\" width=\"1200\"><br>\n",
    "</div>"
   ]
  },
  {
   "cell_type": "markdown",
   "metadata": {
    "slideshow": {
     "slide_type": "slide"
    }
   },
   "source": [
    "### 上週四、六的 Workshop 相關\n",
    "\n",
    "- 講者： Dr. Naoya FUJIWARA (藤原直哉)\n",
    "- 內容：\n",
    "    - 複雜網路基本概念\n",
    "    - 隨機移動 (random walker) 的基本概念\n",
    "    - 馬可夫鏈 與 PageRank 的討論\n",
    "    - 日本東京流動資料的說明 -- 已提供作比較分析應用\n",
    "    - MapEquation 用到的基本概念說明\n",
    "- 實習(我們準備)：Gephi 教學 \n",
    "    - http://wenlab.geog.ntu.edu.tw/gephi_tutorial/"
   ]
  },
  {
   "cell_type": "markdown",
   "metadata": {
    "slideshow": {
     "slide_type": "slide"
    }
   },
   "source": [
    "### Map Equation 基本概念\n",
    "- 是從資訊的「壓縮」延伸出來的方法\n",
    "- 每一個節點是一個代碼 (01...) == 節點的地址\n",
    "- 連線、方向表示節點之間的流動強度關係\n",
    "- 想象一下，如果每一個節點需要有一個絕對的門牌號碼 == 大家是同一組，則每一個門牌號碼都必須是 Unique 的，則需要更多的數字(7-8 個字元)\n",
    "- 但是如果我們知道每一個節點之間的流動關係，如果可以將一直流到彼此的節點組找出來，變成一組 == 分區\n",
    "- 分區內的 門牌是 unique 的，但區之間用另一層的代碼來記錄，\n",
    "- 當流動是在組內流動，則只需要記錄內部的代碼間的順序\n",
    "- 當節點跳出、跳入另一個組的時候，才記錄離開、進入組的代碼... 則記錄的方式可以更簡化(4-5個字元)\n",
    "- 透過這樣的分組，結果會符合：循環性高的節點之間行程一組"
   ]
  },
  {
   "cell_type": "markdown",
   "metadata": {
    "slideshow": {
     "slide_type": "subslide"
    }
   },
   "source": [
    "### Map Equation 簡單說明\n",
    "\n",
    "<div align=\"center\">\n",
    "<img src=\"figs/fig_1050926/mapequation_idea.png\" alt=\"plan second year\" width=\"900\"><br>\n",
    "</div>\n",
    "\n"
   ]
  },
  {
   "cell_type": "markdown",
   "metadata": {
    "slideshow": {
     "slide_type": "subslide"
    }
   },
   "source": [
    "### Map Equation 簡單說明\n",
    "<div align=\"center\">\n",
    "<img src=\"figs/fig_1050826/mapequation_equation.png\" alt=\"plan second year\" width=\"400\"><br>\n",
    "</div>\n",
    "右邊第一項是群間的流量歧異度(entropy)，第二項是群內的流量歧異度。"
   ]
  },
  {
   "cell_type": "markdown",
   "metadata": {
    "slideshow": {
     "slide_type": "subslide"
    }
   },
   "source": [
    "### Map Equation 簡單說明\n",
    "<div align=\"center\">\n",
    "<img src=\"figs/fig_1050826/mapequation_sample.png\" alt=\"plan second year\" width=\"600\"><br>\n",
    "</div>\n",
    "L 越小越好；Q 越大越好"
   ]
  },
  {
   "cell_type": "markdown",
   "metadata": {
    "slideshow": {
     "slide_type": "subslide"
    }
   },
   "source": [
    "### Map Equation 簡單說明\n",
    "<div align=\"center\">\n",
    "<img src=\"figs/fig_1050826/mapequation_sample2.png\" alt=\"plan second year\" width=\"1200\"><br>\n",
    "</div>"
   ]
  },
  {
   "cell_type": "code",
   "execution_count": null,
   "metadata": {
    "collapsed": true,
    "slideshow": {
     "slide_type": "skip"
    }
   },
   "outputs": [],
   "source": []
  }
 ],
 "metadata": {
  "celltoolbar": "Slideshow",
  "kernelspec": {
   "display_name": "Python 2",
   "language": "python",
   "name": "python2"
  },
  "language_info": {
   "codemirror_mode": {
    "name": "ipython",
    "version": 2
   },
   "file_extension": ".py",
   "mimetype": "text/x-python",
   "name": "python",
   "nbconvert_exporter": "python",
   "pygments_lexer": "ipython2",
   "version": "2.7.11"
  }
 },
 "nbformat": 4,
 "nbformat_minor": 0
}
