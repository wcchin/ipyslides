{
 "cells": [
  {
   "cell_type": "markdown",
   "metadata": {
    "slideshow": {
     "slide_type": "slide"
    }
   },
   "source": [
    "## 跨領域計畫 - 工作會議 (2016/03/11)\n",
    "\n",
    "---\n",
    "\n",
    "### 建立多層次都市人口流動時空模式於傳染病擴散風險評估\n",
    "### *都市人口流動*\n",
    "\n",
    "- 目前進度 - 即時資料應用-2月的週末 - 流速動態分佈圖\n",
    "- 預期目標與規劃\n",
    "\n",
    " <br /> <br />\n",
    "\n",
    "---\n",
    "<div class=\"footer\">地理計算科學研究室 - 陳威全. 2016</div>"
   ]
  },
  {
   "cell_type": "markdown",
   "metadata": {
    "slideshow": {
     "slide_type": "slide"
    }
   },
   "source": [
    "## 即時資料應用-1~2月的週末\n",
    "\n",
    "觀察兩個月的週末的平均車流速狀況的差異。\n",
    "\n",
    "1. week 2/05-07 (五、六、日) - 過年、除夕 (綠色)\n",
    "2. week 2/12-14 (五、六、日) - 準備上班 (橘色)\n",
    "3. week 2/19-21 (五、六、日) - 一般 (藍色)\n",
    " \n",
    "---\n",
    "<div class=\"footer\">地理計算科學研究室 - 陳威全. 2016</div>"
   ]
  },
  {
   "cell_type": "markdown",
   "metadata": {
    "slideshow": {
     "slide_type": "slide"
    }
   },
   "source": [
    "## 即時資料應用-2月的週末\n",
    "\n",
    "左圖說明\n",
    "<img src=\"figs/fig_1050311/vd_V1NQM40_0_02_a.png\" alt=\"vd_01_0\" width=\"600\">\n",
    "\n",
    "\n",
    "---\n",
    "<div class=\"footer\">地理計算科學研究室 - 陳威全. 2016</div>"
   ]
  },
  {
   "cell_type": "markdown",
   "metadata": {
    "slideshow": {
     "slide_type": "slide"
    }
   },
   "source": [
    "## 即時資料應用-2月的週末\n",
    "\n",
    "右圖說明\n",
    "<img src=\"figs/fig_1050311/vd_V1NQM40_0_02_b.png\" alt=\"vd_01_0\" width=\"600\">\n",
    "\n",
    "\n",
    "---\n",
    "<div class=\"footer\">地理計算科學研究室 - 陳威全. 2016</div>"
   ]
  },
  {
   "cell_type": "markdown",
   "metadata": {
    "slideshow": {
     "slide_type": "slide"
    }
   },
   "source": [
    "## 即時資料應用-2月的週末\n",
    "\n",
    "2月- vd_V1NQM40_0 的車道\n",
    "<table>\n",
    "<tr>\n",
    "<td><img src=\"figs/fig_1050311/vd_V1NQM40_0_02_a.png\" alt=\"vd_01_0\" width=\"700\"></td>\n",
    "<td><img src=\"figs/fig_1050311/vd_V1NQM40_0_02_b.png\" alt=\"vd_01_0\" width=\"700\"></td>\n",
    "</tr>\n",
    "</table>\n",
    "\n",
    "---\n",
    "<div class=\"footer\">地理計算科學研究室 - 陳威全. 2016</div>"
   ]
  },
  {
   "cell_type": "markdown",
   "metadata": {
    "slideshow": {
     "slide_type": "slide"
    }
   },
   "source": [
    "## 即時資料應用-2月的週末\n",
    "\n",
    "2月- vd_V1NQM40_1 的車道\n",
    "<table>\n",
    "<tr>\n",
    "<td><img src=\"figs/fig_1050311/vd_V1NQM40_1_02_a.png\" alt=\"vd_01_0\" width=\"700\"></td>\n",
    "<td><img src=\"figs/fig_1050311/vd_V1NQM40_1_02_b.png\" alt=\"vd_01_0\" width=\"700\"></td>\n",
    "</tr>\n",
    "</table>\n",
    "\n",
    "---\n",
    "<div class=\"footer\">地理計算科學研究室 - 陳威全. 2016</div>"
   ]
  },
  {
   "cell_type": "markdown",
   "metadata": {
    "slideshow": {
     "slide_type": "slide"
    }
   },
   "source": [
    "## 即時資料應用-2月的週末\n",
    "\n",
    "2月- vd_V03A0G0_0 的車道\n",
    "<table>\n",
    "<tr>\n",
    "<td><img src=\"figs/fig_1050311/vd_V03A0G0_0_02_a.png\" alt=\"vd_01_0\" width=\"700\"></td>\n",
    "<td><img src=\"figs/fig_1050311/vd_V03A0G0_0_02_b.png\" alt=\"vd_01_0\" width=\"700\"></td>\n",
    "</tr>\n",
    "</table>\n",
    "\n",
    "---\n",
    "<div class=\"footer\">地理計算科學研究室 - 陳威全. 2016</div>"
   ]
  },
  {
   "cell_type": "markdown",
   "metadata": {
    "slideshow": {
     "slide_type": "slide"
    }
   },
   "source": [
    "## 即時資料應用-2月的週末\n",
    "\n",
    "2月- vd_V03A0G0_1 的車道\n",
    "<table>\n",
    "<tr>\n",
    "<td><img src=\"figs/fig_1050311/vd_V03A0G0_1_02_a.png\" alt=\"vd_01_0\" width=\"700\"></td>\n",
    "<td><img src=\"figs/fig_1050311/vd_V03A0G0_1_02_b.png\" alt=\"vd_01_0\" width=\"700\"></td>\n",
    "</tr>\n",
    "</table>\n",
    "\n",
    "---\n",
    "<div class=\"footer\">地理計算科學研究室 - 陳威全. 2016</div>"
   ]
  },
  {
   "cell_type": "markdown",
   "metadata": {
    "slideshow": {
     "slide_type": "slide"
    }
   },
   "source": [
    "## 即時資料應用-2月的週末\n",
    "\n",
    "2月- vd_V03B0G0_0 的車道\n",
    "<table>\n",
    "<tr>\n",
    "<td><img src=\"figs/fig_1050311/vd_V03B0G0_0_02_a.png\" alt=\"vd_01_0\" width=\"700\"></td>\n",
    "<td><img src=\"figs/fig_1050311/vd_V03B0G0_0_02_b.png\" alt=\"vd_01_0\" width=\"700\"></td>\n",
    "</tr>\n",
    "</table>\n",
    "\n",
    "---\n",
    "<div class=\"footer\">地理計算科學研究室 - 陳威全. 2016</div>"
   ]
  },
  {
   "cell_type": "markdown",
   "metadata": {
    "slideshow": {
     "slide_type": "slide"
    }
   },
   "source": [
    "## 即時資料應用-2月的週末\n",
    "\n",
    "2月- vd_V03B0G0_1 的車道\n",
    "<table>\n",
    "<tr>\n",
    "<td><img src=\"figs/fig_1050311/vd_V03B0G0_1_02_a.png\" alt=\"vd_01_0\" width=\"700\"></td>\n",
    "<td><img src=\"figs/fig_1050311/vd_V03B0G0_1_02_b.png\" alt=\"vd_01_0\" width=\"700\"></td>\n",
    "</tr>\n",
    "</table>\n",
    "\n",
    "---\n",
    "<div class=\"footer\">地理計算科學研究室 - 陳威全. 2016</div>"
   ]
  },
  {
   "cell_type": "markdown",
   "metadata": {
    "slideshow": {
     "slide_type": "slide"
    }
   },
   "source": [
    "## 即時資料應用-2月的週末\n",
    "\n",
    "2月- vd_V03B0G0_2 的車道\n",
    "<table>\n",
    "<tr>\n",
    "<td><img src=\"figs/fig_1050311/vd_V03B0G0_2_02_a.png\" alt=\"vd_01_0\" width=\"700\"></td>\n",
    "<td><img src=\"figs/fig_1050311/vd_V03B0G0_2_02_b.png\" alt=\"vd_01_0\" width=\"700\"></td>\n",
    "</tr>\n",
    "</table>\n",
    "\n",
    "---\n",
    "<div class=\"footer\">地理計算科學研究室 - 陳威全. 2016</div>"
   ]
  },
  {
   "cell_type": "markdown",
   "metadata": {
    "slideshow": {
     "slide_type": "slide"
    }
   },
   "source": [
    "## 即時資料應用-2月的週末\n",
    "\n",
    "2月- vd_V1010A0_0 的車道\n",
    "<table>\n",
    "<tr>\n",
    "<td><img src=\"figs/fig_1050311/vd_V1010A0_0_02_a.png\" alt=\"vd_01_0\" width=\"700\"></td>\n",
    "<td><img src=\"figs/fig_1050311/vd_V1010A0_0_02_b.png\" alt=\"vd_01_0\" width=\"700\"></td>\n",
    "</tr>\n",
    "</table>\n",
    "\n",
    "---\n",
    "<div class=\"footer\">地理計算科學研究室 - 陳威全. 2016</div>"
   ]
  },
  {
   "cell_type": "markdown",
   "metadata": {
    "slideshow": {
     "slide_type": "slide"
    }
   },
   "source": [
    "## 即時資料應用-2月的週末\n",
    "\n",
    "2月- vd_V1010A0_1 的車道\n",
    "<table>\n",
    "<tr>\n",
    "<td><img src=\"figs/fig_1050311/vd_V1010A0_1_02_a.png\" alt=\"vd_01_0\" width=\"700\"></td>\n",
    "<td><img src=\"figs/fig_1050311/vd_V1010A0_1_02_b.png\" alt=\"vd_01_0\" width=\"700\"></td>\n",
    "</tr>\n",
    "</table>\n",
    "\n",
    "---\n",
    "<div class=\"footer\">地理計算科學研究室 - 陳威全. 2016</div>"
   ]
  },
  {
   "cell_type": "markdown",
   "metadata": {
    "slideshow": {
     "slide_type": "slide"
    }
   },
   "source": [
    "## 即時資料應用-2月的週末\n",
    "\n",
    "2月- vd_VM210E2_0 的車道\n",
    "<table>\n",
    "<tr>\n",
    "<td><img src=\"figs/fig_1050311/vd_VM210E2_0_02_a.png\" alt=\"vd_01_0\" width=\"700\"></td>\n",
    "<td><img src=\"figs/fig_1050311/vd_VM210E2_0_02_b.png\" alt=\"vd_01_0\" width=\"700\"></td>\n",
    "</tr>\n",
    "</table>\n",
    "\n",
    "---\n",
    "<div class=\"footer\">地理計算科學研究室 - 陳威全. 2016</div>"
   ]
  },
  {
   "cell_type": "markdown",
   "metadata": {
    "slideshow": {
     "slide_type": "slide"
    }
   },
   "source": [
    "## 即時資料應用-2月的週末\n",
    "\n",
    "2月- vd_VM210E2_1 的車道\n",
    "<table>\n",
    "<tr>\n",
    "<td><img src=\"figs/fig_1050311/vd_VM210E2_1_02_a.png\" alt=\"vd_01_0\" width=\"700\"></td>\n",
    "<td><img src=\"figs/fig_1050311/vd_VM210E2_1_02_b.png\" alt=\"vd_01_0\" width=\"700\"></td>\n",
    "</tr>\n",
    "</table>\n",
    "\n",
    "---\n",
    "<div class=\"footer\">地理計算科學研究室 - 陳威全. 2016</div>"
   ]
  },
  {
   "cell_type": "markdown",
   "metadata": {
    "slideshow": {
     "slide_type": "slide"
    }
   },
   "source": [
    "## 即時資料-空間分佈\n",
    "\n",
    "車輛偵測器位置： \n",
    "1. 已有 627 偵測器的位置資料(如圖)\n",
    "2. 即時資料有 696 個偵測器\n",
    "3. 不同車道的偵測器位置(需要進一步將位置調整，算上車道應有 1906 個位置)\n",
    "\n",
    "<img src=\"figs/fig_1050311/vd_loc_map.png\" alt=\"vd_01_0\" width=\"700\">\n",
    "\n",
    "---\n",
    "<div class=\"footer\">地理計算科學研究室 - 陳威全. 2016</div>"
   ]
  },
  {
   "cell_type": "markdown",
   "metadata": {
    "slideshow": {
     "slide_type": "slide"
    }
   },
   "source": [
    "## 預期目標與規劃\n",
    "\n",
    "建立一套呈現與觀察開放交通資料的架構\n",
    "\n",
    "A. 選取部分道路，繪製速度(公里/小時)、流率(車輛數/小時)、密度(車輛數/公里) 關係圖，以討論 mobility(移動性) 及 accessibility(可及性)。\n",
    "\n",
    "B. 着手整理公車、Youbike 資料，試着用同樣的時段來搭配街道流速作討論。\n",
    " \n",
    "---\n",
    "<div class=\"footer\">地理計算科學研究室 - 陳威全. 2016</div>"
   ]
  },
  {
   "cell_type": "markdown",
   "metadata": {
    "collapsed": true,
    "slideshow": {
     "slide_type": "slide"
    }
   },
   "source": [
    "## 預期目標與規劃\n",
    "\n",
    "流率(x) vs. 速度(y) 關係圖 (2011臺灣公路容量手冊)：\n",
    "<img src=\"figs/fig_1050311/speed_vs_volumerate.png\" alt=\"vd_01_0\" width=\"700\">\n",
    "\n",
    " \n",
    "---\n",
    "<div class=\"footer\">地理計算科學研究室 - 陳威全. 2016</div>"
   ]
  },
  {
   "cell_type": "code",
   "execution_count": null,
   "metadata": {
    "collapsed": true,
    "slideshow": {
     "slide_type": "skip"
    }
   },
   "outputs": [],
   "source": []
  }
 ],
 "metadata": {
  "celltoolbar": "Slideshow",
  "kernelspec": {
   "display_name": "Python 2",
   "language": "python",
   "name": "python2"
  },
  "language_info": {
   "codemirror_mode": {
    "name": "ipython",
    "version": 2
   },
   "file_extension": ".py",
   "mimetype": "text/x-python",
   "name": "python",
   "nbconvert_exporter": "python",
   "pygments_lexer": "ipython2",
   "version": "2.7.10"
  }
 },
 "nbformat": 4,
 "nbformat_minor": 0
}
