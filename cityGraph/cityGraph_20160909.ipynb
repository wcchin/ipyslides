{
 "cells": [
  {
   "cell_type": "markdown",
   "metadata": {
    "slideshow": {
     "slide_type": "slide"
    }
   },
   "source": [
    "## 跨領域計畫 - 主持人會議 (2016/09/09)\n",
    "\n",
    "---\n",
    "\n",
    "### *各流動模式的分析架構之建立 及 各流動模式的整合架構*\n",
    "\n",
    "- 規劃進度\n",
    "- 流量網路與資料形態\n",
    "- 進度 - MapEquation 簡單說明\n",
    "- 進度 - MapEquation - Youbike 租借流量網路試作\n",
    "- 進度 - MapEquation - 街道流量網路試作\n",
    "<br /> <br />\n",
    "\n",
    "---\n",
    "<div class=\"footer\">地理計算科學研究室 - 陳威全. 2016</div>"
   ]
  },
  {
   "cell_type": "markdown",
   "metadata": {
    "slideshow": {
     "slide_type": "slide"
    }
   },
   "source": [
    "### 規劃進度 - 第二年度(目前)規劃\n",
    "<div align=\"center\">\n",
    "<img src=\"figs/fig_1050812/y2_framework_plan.png\" alt=\"plan second year\" width=\"1200\"><br>\n",
    "</div>"
   ]
  },
  {
   "cell_type": "markdown",
   "metadata": {
    "slideshow": {
     "slide_type": "slide"
    }
   },
   "source": [
    "### 流量網路\n",
    "示意圖\n",
    "<div align=\"center\">\n",
    "<img src=\"figs/fig_1050909/flow_network.png\" alt=\"flow network\" width=\"600\"><br>\n",
    "</div>"
   ]
  },
  {
   "cell_type": "markdown",
   "metadata": {
    "slideshow": {
     "slide_type": "subslide"
    }
   },
   "source": [
    "<div align=\"center\">\n",
    "<img src=\"figs/fig_1050909/youbike_flow_201505.png\" alt=\"flow network\" width=\"1000\"><br>\n",
    "</div>\n",
    "\n",
    "https://wcchin.github.io./assets/images/inposts/ubike_od_20150101_2.svg"
   ]
  },
  {
   "cell_type": "markdown",
   "metadata": {
    "slideshow": {
     "slide_type": "subslide"
    }
   },
   "source": [
    "### how data looks\n",
    "<table>\n",
    "<tr>\n",
    "<td>\n",
    "<img src=\"figs/fig_1050909/youbike_edges.png\" alt=\"flow network\" width=\"400\"><br>\n",
    "</td>\n",
    "<td>\n",
    "<img src=\"figs/fig_1050909/street_edges.png\" alt=\"flow network\" width=\"400\"><br>\n",
    "</td>\n",
    "</tr>\n",
    "</table>"
   ]
  },
  {
   "cell_type": "markdown",
   "metadata": {
    "slideshow": {
     "slide_type": "slide"
    }
   },
   "source": [
    "### Map Equation 簡單說明\n",
    "<div align=\"center\">\n",
    "<img src=\"figs/fig_1050826/mapequation_equation.png\" alt=\"plan second year\" width=\"400\"><br>\n",
    "</div>\n",
    "右邊第一項是群間的流量歧異度(entropy)，第二項是群內的流量歧異度。"
   ]
  },
  {
   "cell_type": "markdown",
   "metadata": {
    "slideshow": {
     "slide_type": "subslide"
    }
   },
   "source": [
    "### Map Equation 簡單說明\n",
    "<div align=\"center\">\n",
    "<img src=\"figs/fig_1050826/mapequation_sample.png\" alt=\"plan second year\" width=\"600\"><br>\n",
    "</div>\n",
    "L 越小越好；Q 越大越好"
   ]
  },
  {
   "cell_type": "markdown",
   "metadata": {
    "slideshow": {
     "slide_type": "subslide"
    }
   },
   "source": [
    "### Map Equation 簡單說明\n",
    "<div align=\"center\">\n",
    "<img src=\"figs/fig_1050826/mapequation_sample2.png\" alt=\"plan second year\" width=\"1200\"><br>\n",
    "</div>"
   ]
  },
  {
   "cell_type": "markdown",
   "metadata": {
    "slideshow": {
     "slide_type": "slide"
    }
   },
   "source": [
    "### Map Equation 結果 -- Youbike OD 網路\n",
    "<div align=\"center\">\n",
    "<img src=\"figs/fig_1050909/youbike_com.png\" alt=\"plan second year\" width=\"600\"><br>\n",
    "Youbike communities\n",
    "</div>"
   ]
  },
  {
   "cell_type": "markdown",
   "metadata": {
    "slideshow": {
     "slide_type": "subslide"
    }
   },
   "source": [
    "-- Youbike OD 網路 map equation 執行結果  \n",
    "  Infomap v0.18.7 starts at [2016-09-08 22:16:03]  \n",
    "  -> Configuration: two-level  \n",
    "  -> Use undirected flow and 1st order Markov dynamics  \n",
    "Find communities with Infomap...  \n",
    "Finalizing network...  \n",
    " --> Found 9992 nodes and 25041 links.  \n",
    " --> Aggregated 10605 links to existing links.  \n",
    " --> 9796 dangling nodes (nodes with no outgoing links).  \n",
    " ==> 9992 nodes and 14436 links (with total weight 1.28843e+06).  \n",
    "Calculating global flow...   \n",
    "  -> Using undirected links.  \n",
    "Calculating one-level codelength... done!  \n",
    "  -> One-level codelength: 7.267075202  \n",
    "  \n",
    "Attempt 1/1 at [2016-09-08 22:16:03]  \n",
    "Initiated to codelength 7.26708 + 2 = 9.267075202 in 9992 modules.  \n",
    "Two-level compression: 13% 0.44% 0.043% to 9808 modules with codelength 6.27874343  \n",
    "  \n",
    "Building output tree with links...   \n",
    "  \n",
    "Best end modular solution in 2 levels:  \n",
    "Per level number of modules:         [       9808,           0] (sum: 9808)  \n",
    "Per level number of leaf nodes:      [          0,        9992] (sum: 9992)  \n",
    "Per level average child degree:      [       9808,     1.01876] (average: 4858.94)  \n",
    "Per level codelength for modules:    [1.036427199, 0.000000000] (sum: 1.036427199)  \n",
    "Per level codelength for leaf nodes: [0.000000000, 5.242316231] (sum: 5.242316231)  \n",
    "Per level codelength total:          [1.036427199, 5.242316231] (sum: 6.278743430)  \n",
    "  \n",
    "Found 9808 top modules with codelength: 6.278743  "
   ]
  },
  {
   "cell_type": "markdown",
   "metadata": {
    "slideshow": {
     "slide_type": "slide"
    }
   },
   "source": [
    "### Map Equation 結果 -- 街道網路(based on FBPR)\n",
    "<div align=\"center\">\n",
    "<img src=\"figs/fig_1050909/street_com.png\" alt=\"plan second year\" width=\"600\"><br>\n",
    "Youbike communities\n",
    "</div>"
   ]
  },
  {
   "cell_type": "markdown",
   "metadata": {
    "slideshow": {
     "slide_type": "subslide"
    }
   },
   "source": [
    "-- 街道網路 map equation 執行結果  \n",
    "  Infomap v0.18.7 starts at [2016-09-08 21:41:17]  \n",
    "  -> Configuration: two-level  \n",
    "  -> Use undirected flow and 1st order Markov dynamics  \n",
    "Find communities with Infomap...  \n",
    "Finalizing network...  \n",
    " --> Found 5527 nodes and 24264 links.  \n",
    " --> Aggregated 12132 links to existing links.  \n",
    " --> 3 dangling nodes (nodes with no outgoing links).  \n",
    " ==> 5527 nodes and 12132 links (with total weight 14.9994).  \n",
    "Calculating global flow...   \n",
    "  -> Using undirected links.  \n",
    "Calculating one-level codelength... done!  \n",
    "  -> One-level codelength: 3.624961536  \n",
    "  \n",
    "Attempt 1/1 at [2016-09-08 21:41:17]  \n",
    "Initiated to codelength 3.62496 + 2 = 5.624961536 in 5527 modules.  \n",
    "Two-level compression: 59% 0.28% 0.048% 0.013% 0.0074% to 462 modules with codelength 1.472405717  \n",
    "  \n",
    "Building output tree with links...   \n",
    "  \n",
    "Best end modular solution in 2 levels:  \n",
    "Per level number of modules:         [        462,           0] (sum: 462)  \n",
    "Per level number of leaf nodes:      [          0,        5527] (sum: 5527)  \n",
    "Per level average child degree:      [        462,     11.9632] (average: 46.6797)  \n",
    "Per level codelength for modules:    [0.062699417, 0.000000000] (sum: 0.062699417)  \n",
    "Per level codelength for leaf nodes: [0.000000000, 1.409706300] (sum: 1.409706300)  \n",
    "Per level codelength total:          [0.062699417, 1.409706300] (sum: 1.472405717)  \n",
    "  \n",
    "Found 462 top modules with codelength: 1.472406  \n"
   ]
  },
  {
   "cell_type": "markdown",
   "metadata": {
    "collapsed": true,
    "slideshow": {
     "slide_type": "slide"
    }
   },
   "source": [
    "\n",
    "## 日本學者來臺交流，舉辦 演講 、Workshop\n",
    "- 講者： Dr. Naoya FUJIWARA (藤原直哉),  \n",
    "  Center for Spatial Information Science,The University of Tokyo  \n",
    "- 日期： 9/22（四）  \n",
    "- 內容：   \n",
    "  主題1：複雜網路的概念與在城市工程上的應用  \n",
    "  主體2：動態人流的分析 - Map Equation 的介紹  \n",
    "  workshop: 流量資料分析  \n",
    "- 公告時間：詳情近期會在系上張貼相關公告  "
   ]
  },
  {
   "cell_type": "code",
   "execution_count": null,
   "metadata": {
    "collapsed": true,
    "slideshow": {
     "slide_type": "skip"
    }
   },
   "outputs": [],
   "source": []
  }
 ],
 "metadata": {
  "celltoolbar": "Slideshow",
  "kernelspec": {
   "display_name": "Python 2",
   "language": "python",
   "name": "python2"
  },
  "language_info": {
   "codemirror_mode": {
    "name": "ipython",
    "version": 2
   },
   "file_extension": ".py",
   "mimetype": "text/x-python",
   "name": "python",
   "nbconvert_exporter": "python",
   "pygments_lexer": "ipython2",
   "version": "2.7.11"
  }
 },
 "nbformat": 4,
 "nbformat_minor": 0
}
