{
 "cells": [
  {
   "cell_type": "markdown",
   "metadata": {
    "slideshow": {
     "slide_type": "slide"
    }
   },
   "source": [
    "## 跨領域計畫 - 工作會議 (2016/07/29)\n",
    "\n",
    "---\n",
    "\n",
    "### 建立多層次都市人口流動時空模式於傳染病擴散風險評估\n",
    "### *都市人口流動*\n",
    "\n",
    "- 規劃進度 - 今年度(7月底) 範圍\n",
    "- 目前進度 - Youbike 旅次視覺化(svg)\n",
    "- 目前進度 - Youbike 資料初步分析 - 時間分群\n",
    "- 近期規劃 - MapEquation\n",
    "<br /> <br />\n",
    "\n",
    "---\n",
    "<div class=\"footer\">地理計算科學研究室 - 陳威全. 2016</div>"
   ]
  },
  {
   "cell_type": "markdown",
   "metadata": {
    "slideshow": {
     "slide_type": "slide"
    }
   },
   "source": [
    "7月底範圍\n",
    "\n",
    "<div align=\"center\">\n",
    "<img src=\"figs/fig_1050520/00_cityGraph_1styear_final_re02.png\" alt=\"plan first year\" width=\"1200\"><br>\n",
    "</div>\n",
    "\n",
    "---\n",
    "<div class=\"footer\">地理計算科學研究室 - 陳威全. 2016</div>"
   ]
  },
  {
   "cell_type": "markdown",
   "metadata": {
    "slideshow": {
     "slide_type": "slide"
    }
   },
   "source": [
    "### 資料呈現\n",
    "- 捷運與Youbike 資料的視覺化網頁\n",
    "- VD - 車子移動轉向模擬 (processing)\n",
    "- Youbike 租借起迄呈現 (processing)\n",
    "- 公車移動呈現 (processing)\n"
   ]
  },
  {
   "cell_type": "markdown",
   "metadata": {
    "slideshow": {
     "slide_type": "subslide"
    }
   },
   "source": [
    "另一種視覺化的工具 -- svg  \n",
    "https://wcchin.github.io./assets/images/inposts/ubike_od_20150101_2.svg"
   ]
  },
  {
   "cell_type": "markdown",
   "metadata": {
    "slideshow": {
     "slide_type": "slide"
    }
   },
   "source": [
    "### 定點資料時空分群 - Youbike\n",
    "- 可借車子數量 (B)\n",
    "- 可還空位數量 (R)\n",
    "- T=B+R"
   ]
  },
  {
   "cell_type": "markdown",
   "metadata": {
    "slideshow": {
     "slide_type": "fragment"
    }
   },
   "source": [
    "$$ S=\\frac{(B-R)}{T} $$"
   ]
  },
  {
   "cell_type": "markdown",
   "metadata": {
    "slideshow": {
     "slide_type": "subslide"
    }
   },
   "source": [
    "| S         | 5min | 10min | 15min | ... |\n",
    "|-----------|------|-------|-------|-----|\n",
    "| station A | 0.8  | 0.7   | 0.8   | ... |\n",
    "| station B | -0.2 | -0.3  | -0.8  | ... |\n",
    "| station C | 0.7  | 0.8   | 0.9   | ... |\n",
    "<div align=\"center\">資料示意</div>  "
   ]
  },
  {
   "cell_type": "markdown",
   "metadata": {
    "slideshow": {
     "slide_type": "slide"
    }
   },
   "source": [
    "時間分群結果的分佈 (Voronoi 幾何區塊)\n",
    "<div align=\"center\">\n",
    "<img src=\"figs/fig_1050729/youbike_cluster_poly.png\" alt=\"DBSCAN results of the data\" width=\"900\"><br>\n",
    "</div>\n",
    "白色部分為雜訊，其他有顏色部分依顏色區分分群，黑點部分則是Youbike站點。"
   ]
  },
  {
   "cell_type": "markdown",
   "metadata": {
    "slideshow": {
     "slide_type": "subslide"
    }
   },
   "source": [
    "分群成功的部分，以假日的 18號分群爲例"
   ]
  },
  {
   "cell_type": "markdown",
   "metadata": {
    "slideshow": {
     "slide_type": "fragment"
    }
   },
   "source": [
    "<div align=\"center\">\n",
    "<img src=\"figs/fig_1050729/weekend_18/ubike_18_02.png\" alt=\"DBSCAN results of the data\" width=\"900\"><br>\n",
    "</div>"
   ]
  },
  {
   "cell_type": "markdown",
   "metadata": {
    "slideshow": {
     "slide_type": "subslide"
    }
   },
   "source": [
    "<div align=\"center\">\n",
    "<img src=\"figs/fig_1050729/weekend_18/ubike_34_02.png\" alt=\"DBSCAN results of the data\" width=\"900\"><br>\n",
    "</div>"
   ]
  },
  {
   "cell_type": "markdown",
   "metadata": {
    "slideshow": {
     "slide_type": "subslide"
    }
   },
   "source": [
    "<div align=\"center\">\n",
    "<img src=\"figs/fig_1050729/weekend_18/ubike_85_02.png\" alt=\"DBSCAN results of the data\" width=\"900\"><br>\n",
    "</div>"
   ]
  },
  {
   "cell_type": "markdown",
   "metadata": {
    "slideshow": {
     "slide_type": "slide"
    }
   },
   "source": [
    "討論雜訊部分，疊合土地使用分區觀察雜訊的空間分佈"
   ]
  },
  {
   "cell_type": "markdown",
   "metadata": {
    "slideshow": {
     "slide_type": "subslide"
    }
   },
   "source": [
    "<div align=\"center\">\n",
    "<img src=\"figs/fig_1050729/overlap_noise.png\" alt=\"DBSCAN results of the data\" width=\"900\"><br>\n",
    "</div>"
   ]
  },
  {
   "cell_type": "markdown",
   "metadata": {
    "slideshow": {
     "slide_type": "slide"
    }
   },
   "source": [
    "### 流量的分群 -- Map Equation\n",
    "\n",
    "- paper: http://arxiv.org/abs/0906.1405\n",
    "- 網站、程式：http://www.mapequation.org/"
   ]
  },
  {
   "cell_type": "markdown",
   "metadata": {
    "slideshow": {
     "slide_type": "subslide"
    }
   },
   "source": [
    "<div align=\"center\">\n",
    "<img src=\"figs/fig_1050729/simple_mapequation.png\" alt=\"DBSCAN results of the data\" width=\"900\"><br>\n",
    "</div>"
   ]
  },
  {
   "cell_type": "code",
   "execution_count": null,
   "metadata": {
    "collapsed": true,
    "slideshow": {
     "slide_type": "skip"
    }
   },
   "outputs": [],
   "source": []
  }
 ],
 "metadata": {
  "celltoolbar": "Slideshow",
  "kernelspec": {
   "display_name": "Python 2",
   "language": "python",
   "name": "python2"
  },
  "language_info": {
   "codemirror_mode": {
    "name": "ipython",
    "version": 2
   },
   "file_extension": ".py",
   "mimetype": "text/x-python",
   "name": "python",
   "nbconvert_exporter": "python",
   "pygments_lexer": "ipython2",
   "version": "2.7.11"
  }
 },
 "nbformat": 4,
 "nbformat_minor": 0
}
