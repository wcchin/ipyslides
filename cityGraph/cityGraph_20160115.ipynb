{
 "cells": [
  {
   "cell_type": "markdown",
   "metadata": {
    "slideshow": {
     "slide_type": "slide"
    }
   },
   "source": [
    "## 跨領域計畫 - 主持人會議 (2016/01/15)\n",
    "\n",
    "---\n",
    "\n",
    "### 建立多層次都市人口流動時空模式於傳染病擴散風險評估\n",
    "### *都市人口流動*\n",
    "\n",
    "- 目前進度 - 即時資料介接\n",
    "- 目前進度 - 資料展示環境規劃\n",
    "- 預期目標與規劃\n",
    "\n",
    " <br /> <br />\n",
    "\n"
   ]
  },
  {
   "cell_type": "markdown",
   "metadata": {
    "slideshow": {
     "slide_type": "slide"
    }
   },
   "source": [
    "## 歷史資料\n",
    "\n",
    "1. VD (車輛偵測器)\n",
    "2. MRT (捷運各站)\n",
    "3. Youbike (租借資訊)\n",
    " \n",
    "---\n",
    "<div class=\"footer\">地理計算科學研究室 - 陳威全. 2016</div>"
   ]
  },
  {
   "cell_type": "markdown",
   "metadata": {
    "slideshow": {
     "slide_type": "subslide"
    }
   },
   "source": [
    "## 歷史資料 - VD (車輛偵測器)\n",
    "\n",
    "- 時間範圍：100-104  \n",
    "- 時間單位：每小時  \n",
    "- 空間單位：設備站點  \n",
    "- 空間數量：45  \n",
    "- 資料概述：流速、流量\n",
    " \n",
    "---\n",
    "<div class=\"footer\">地理計算科學研究室 - 陳威全. 2016</div>"
   ]
  },
  {
   "cell_type": "markdown",
   "metadata": {
    "slideshow": {
     "slide_type": "subslide"
    }
   },
   "source": [
    "## 歷史資料 - VD (車輛偵測器)\n",
    "\n",
    "空間分佈：\n",
    "![folium toyplot mapping](figs/fig_1050115_vd_history.png)\n",
    "http://wenlab.geog.ntu.edu.tw:18003/wcchin/vdMap/\n",
    "\n",
    "---\n",
    "<div class=\"footer\">地理計算科學研究室 - 陳威全. 2016</div>"
   ]
  },
  {
   "cell_type": "markdown",
   "metadata": {
    "slideshow": {
     "slide_type": "subslide"
    }
   },
   "source": [
    "## 歷史資料 - MRT (臺北捷運)\n",
    "\n",
    "- 時間範圍、時間單位：\n",
    "    1. 每月資料：89/1-104/10\n",
    "    2. 每日資料：104/1-104/10\n",
    "    3. 每小時資料：104/11-\n",
    "\n",
    "\n",
    "- 空間單位：捷運站\n",
    "- 空間數量：108\n",
    "- 資料概述：各站總進出站人次\n",
    " \n",
    "---\n",
    "<div class=\"footer\">地理計算科學研究室 - 陳威全. 2016</div>"
   ]
  },
  {
   "cell_type": "markdown",
   "metadata": {
    "slideshow": {
     "slide_type": "subslide"
    }
   },
   "source": [
    "## 歷史資料 - Youbike (租借資料)\n",
    "\n",
    "- 時間範圍： 六個月前的歷史資料\n",
    "- 時間單位： timestamp\n",
    "- 空間單位： 腳踏車站\n",
    "- 空間數量： ~~\n",
    "- 資料概述： 每一趟租借與歸還的站點與時間\n",
    " \n",
    "---\n",
    "<div class=\"footer\">地理計算科學研究室 - 陳威全. 2016</div>"
   ]
  },
  {
   "cell_type": "markdown",
   "metadata": {
    "slideshow": {
     "slide_type": "skip"
    }
   },
   "source": [
    "## 歷史資料\n",
    "\n",
    "摘要簡表\n",
    " \n",
    "---\n",
    "<div class=\"footer\">地理計算科學研究室 - 陳威全. 2016</div>"
   ]
  },
  {
   "cell_type": "markdown",
   "metadata": {
    "slideshow": {
     "slide_type": "slide"
    }
   },
   "source": [
    "## 即時資料\n",
    "\n",
    "1. VD (車輛偵測器)\n",
    "2. MRT (列車現況)\n",
    "3. Youbike (站點現況)\n",
    "4. 公車 (公車位置)\n",
    " \n",
    "---\n",
    "<div class=\"footer\">地理計算科學研究室 - 陳威全. 2016</div>"
   ]
  },
  {
   "cell_type": "markdown",
   "metadata": {
    "slideshow": {
     "slide_type": "subslide"
    }
   },
   "source": [
    "## 即時資料 - VD (車輛偵測器)\n",
    "\n",
    "- 時間單位： 每5分鐘\n",
    "- 空間單位： VD設備\n",
    "- 資料概述： 平均速度、(各車道)總流量、各車道流量(分機車、小型車、大型車)\n",
    "\n",
    " \n",
    "---\n",
    "<div class=\"footer\">地理計算科學研究室 - 陳威全. 2016</div>"
   ]
  },
  {
   "cell_type": "markdown",
   "metadata": {
    "slideshow": {
     "slide_type": "subslide"
    }
   },
   "source": [
    "## 即時資料 - VD (車輛偵測器)\n",
    "\n",
    "空間分佈：\n",
    "![folium toyplot mapping](figs/fig_1050115_vd_current.png)\n",
    "http://wenlab.geog.ntu.edu.tw:18004/cityGraph/default/\n",
    " \n",
    "---\n",
    "<div class=\"footer\">地理計算科學研究室 - 陳威全. 2016</div>"
   ]
  },
  {
   "cell_type": "markdown",
   "metadata": {
    "slideshow": {
     "slide_type": "subslide"
    }
   },
   "source": [
    "## 即時資料 - MRT (臺北捷運)*\n",
    "\n",
    "- 時間單位： 每3分鐘\n",
    "- 空間單位：捷運列車\n",
    "- 資料概述：列車到離站資料\n",
    " \n",
    "---\n",
    "<div class=\"footer\">地理計算科學研究室 - 陳威全. 2016</div>"
   ]
  },
  {
   "cell_type": "markdown",
   "metadata": {
    "slideshow": {
     "slide_type": "subslide"
    }
   },
   "source": [
    "## 即時資料 - Youbike (站點狀況)\n",
    "\n",
    "- 時間單位： 每分鐘\n",
    "- 空間單位： 腳踏車站\n",
    "- 資料概述： 總車位數、目前車輛數、可停空位數\n",
    " \n",
    "---\n",
    "<div class=\"footer\">地理計算科學研究室 - 陳威全. 2016</div>"
   ]
  },
  {
   "cell_type": "markdown",
   "metadata": {
    "slideshow": {
     "slide_type": "subslide"
    }
   },
   "source": [
    "## 即時資料 - 公車\n",
    "\n",
    "- 時間單位： 每分鐘\n",
    "- 空間單位： (1) 公車；(2) 公車站\n",
    "- 資料概述： (1) 位置(經緯度)、移動速度、行車方位； (2) 公車到離站\n",
    " \n",
    "---\n",
    "<div class=\"footer\">地理計算科學研究室 - 陳威全. 2016</div>"
   ]
  },
  {
   "cell_type": "markdown",
   "metadata": {
    "collapsed": true,
    "slideshow": {
     "slide_type": "slide"
    }
   },
   "source": [
    "## 接下來的規劃 (接下來兩個月)\n",
    "\n",
    "- 接下來兩個月\n",
    "- 第一年後半年\n",
    " \n",
    "---\n",
    "<div class=\"footer\">地理計算科學研究室 - 陳威全. 2016</div>"
   ]
  },
  {
   "cell_type": "markdown",
   "metadata": {
    "collapsed": true,
    "slideshow": {
     "slide_type": "subslide"
    }
   },
   "source": [
    "## 接下來的規劃 (接下來兩個月)\n",
    "\n",
    "應用即時資料(2016/1-2) 看：\n",
    "- 一般情況(非特殊狀況)\n",
    "- 1/16\n",
    "- 春節農曆新年假日\n",
    "的臺北市交通狀況\n",
    " \n",
    "---\n",
    "<div class=\"footer\">地理計算科學研究室 - 陳威全. 2016</div>"
   ]
  },
  {
   "cell_type": "markdown",
   "metadata": {
    "slideshow": {
     "slide_type": "subslide"
    }
   },
   "source": [
    "## 接下來的規劃 (後半年)\n",
    "\n",
    "- 歷史資料的視覺化呈現系統\n",
    "- 即時資料的視覺化呈現系統\n",
    " \n",
    "---\n",
    "<div class=\"footer\">地理計算科學研究室 - 陳威全. 2016</div>"
   ]
  },
  {
   "cell_type": "code",
   "execution_count": null,
   "metadata": {
    "collapsed": true,
    "slideshow": {
     "slide_type": "skip"
    }
   },
   "outputs": [],
   "source": []
  }
 ],
 "metadata": {
  "celltoolbar": "Slideshow",
  "kernelspec": {
   "display_name": "Python 2",
   "language": "python",
   "name": "python2"
  },
  "language_info": {
   "codemirror_mode": {
    "name": "ipython",
    "version": 2
   },
   "file_extension": ".py",
   "mimetype": "text/x-python",
   "name": "python",
   "nbconvert_exporter": "python",
   "pygments_lexer": "ipython2",
   "version": "2.7.11"
  }
 },
 "nbformat": 4,
 "nbformat_minor": 0
}
