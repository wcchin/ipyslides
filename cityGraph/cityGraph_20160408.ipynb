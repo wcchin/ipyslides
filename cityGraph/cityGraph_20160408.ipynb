{
 "cells": [
  {
   "cell_type": "markdown",
   "metadata": {
    "slideshow": {
     "slide_type": "slide"
    }
   },
   "source": [
    "## 跨領域計畫 - 主持人會議 (2016/04/08)\n",
    "\n",
    "---\n",
    "\n",
    "### 建立多層次都市人口流動時空模式於傳染病擴散風險評估\n",
    "### *都市人口流動*\n",
    "\n",
    "- 目前進度 - 即時與歷史資料的呈現 - Youbike / MRT\n",
    "- 目前進度 - Youbike 資料的分析\n",
    "- 目前進度 - 路段資料分析 - Flow-Based PageRank (FBPR)\n",
    "- 第一年期末藍圖\n",
    "\n",
    "<br /> <br />\n",
    "\n",
    "---\n",
    "<div class=\"footer\">地理計算科學研究室 - 陳威全. 2016</div>"
   ]
  },
  {
   "cell_type": "markdown",
   "metadata": {
    "slideshow": {
     "slide_type": "slide"
    }
   },
   "source": [
    "Youbike 資料呈現截圖\n",
    "\n",
    "<div align=\"center\">\n",
    "<img src=\"figs/fig_1050408/django_ubike.png\" alt=\"fbpr prototype\" width=\"1200\"><br>\n",
    "</div>\n",
    "\n",
    "---\n",
    "<div class=\"footer\">地理計算科學研究室 - 陳威全. 2016</div>"
   ]
  },
  {
   "cell_type": "markdown",
   "metadata": {
    "slideshow": {
     "slide_type": "slide"
    }
   },
   "source": [
    "Youbike 分析初步嘗試 (租借站)\n",
    "\n",
    "Youbike 站的特性：\n",
    "- 有兩種服務： 可借車輛數 vs. 可還車位數\n",
    "- 用一個指標來呈現： $ 服務狀況 = (可借車輛 - 可還車位) / 總車位數 $\n",
    "- 試着比較： 平日 vs. 週末\n",
    "\n",
    "---\n",
    "<div class=\"footer\">地理計算科學研究室 - 陳威全. 2016</div>"
   ]
  },
  {
   "cell_type": "markdown",
   "metadata": {
    "slideshow": {
     "slide_type": "subslide"
    }
   },
   "source": [
    "\n",
    "<div align=\"center\">\n",
    "<img src=\"figs/fig_1050408/ubike_similar.png\" alt=\"fbpr prototype\" width=\"1200\"><br>\n",
    "</div>\n",
    "\n",
    "---\n",
    "<div class=\"footer\">地理計算科學研究室 - 陳威全. 2016</div>"
   ]
  },
  {
   "cell_type": "markdown",
   "metadata": {
    "slideshow": {
     "slide_type": "subslide"
    }
   },
   "source": [
    "<div align=\"center\">\n",
    "<img src=\"figs/fig_1050408/ubike_different.png\" alt=\"fbpr prototype\" width=\"1200\"><br>\n",
    "</div>\n",
    "\n",
    "---\n",
    "<div class=\"footer\">地理計算科學研究室 - 陳威全. 2016</div>"
   ]
  },
  {
   "cell_type": "markdown",
   "metadata": {
    "slideshow": {
     "slide_type": "subslide"
    }
   },
   "source": [
    "<div align=\"center\">\n",
    "<img src=\"figs/fig_1050408/ubike_whoknows.png\" alt=\"fbpr prototype\" width=\"1200\"><br>\n",
    "</div>\n",
    "\n",
    "---\n",
    "<div class=\"footer\">地理計算科學研究室 - 陳威全. 2016</div>"
   ]
  },
  {
   "cell_type": "markdown",
   "metadata": {
    "slideshow": {
     "slide_type": "subslide"
    }
   },
   "source": [
    "下一步分析：\n",
    "- 應用可借車輛、可還車位兩種服務資訊，進行時空分群\n",
    "- 以找出趨勢相似的站點\n",
    "\n",
    "---\n",
    "<div class=\"footer\">地理計算科學研究室 - 陳威全. 2016</div>"
   ]
  },
  {
   "cell_type": "markdown",
   "metadata": {
    "slideshow": {
     "slide_type": "slide"
    }
   },
   "source": [
    "Flow-Based PageRank Algorithm\n",
    "\n",
    "簡述：\n",
    "- 應用基因演算法求最佳解 -- 車子經過每一條路段之後的轉向率\n",
    "- 簡單來說：車子都怎麼轉，才促成了整個城市的路網流量分佈\n",
    "\n",
    "---\n",
    "<div class=\"footer\">地理計算科學研究室 - 陳威全. 2016</div>"
   ]
  },
  {
   "cell_type": "markdown",
   "metadata": {
    "slideshow": {
     "slide_type": "subslide"
    }
   },
   "source": [
    "<div align=\"center\">\n",
    "PageRank on street network - a prototype<a href=\"https://vimeo.com/161209843\"> on vimeo </a></div>\n",
    "<img src=\"figs/fig_1050408/FBPR_prototype.png\" alt=\"fbpr prototype\" width=\"900\"><br>\n",
    "\n",
    "\n",
    "---\n",
    "<div class=\"footer\">地理計算科學研究室 - 陳威全. 2016</div>"
   ]
  },
  {
   "cell_type": "markdown",
   "metadata": {
    "slideshow": {
     "slide_type": "subslide"
    }
   },
   "source": [
    "下一步規劃\n",
    "- 搭配 FBPR 結果，捕捉車子流動的趨勢\n",
    "- 改善視覺化效果\n",
    "\n",
    "---\n",
    "<div class=\"footer\">地理計算科學研究室 - 陳威全. 2016</div>"
   ]
  },
  {
   "cell_type": "markdown",
   "metadata": {
    "slideshow": {
     "slide_type": "slide"
    }
   },
   "source": [
    "<div align=\"center\">第一年期末藍圖\n",
    "\n",
    "<img src=\"figs/fig_1050408/cityGraph_1styear_final.png\" alt=\"fbpr prototype\" width=\"900\"><br>\n",
    "</div>\n",
    "\n",
    "---\n"
   ]
  },
  {
   "cell_type": "code",
   "execution_count": null,
   "metadata": {
    "collapsed": true,
    "slideshow": {
     "slide_type": "skip"
    }
   },
   "outputs": [],
   "source": []
  }
 ],
 "metadata": {
  "celltoolbar": "Slideshow",
  "kernelspec": {
   "display_name": "Python 2",
   "language": "python",
   "name": "python2"
  },
  "language_info": {
   "codemirror_mode": {
    "name": "ipython",
    "version": 2
   },
   "file_extension": ".py",
   "mimetype": "text/x-python",
   "name": "python",
   "nbconvert_exporter": "python",
   "pygments_lexer": "ipython2",
   "version": "2.7.11"
  },
  "livereveal": {
   "font-family": "Microsoft JhengHei",
   "height": 768,
   "theme": "sky",
   "transition": "trancave",
   "width": 1024
  }
 },
 "nbformat": 4,
 "nbformat_minor": 0
}
