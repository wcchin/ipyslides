{
 "cells": [
  {
   "cell_type": "markdown",
   "metadata": {
    "slideshow": {
     "slide_type": "slide"
    }
   },
   "source": [
    "## 跨領域計畫 - 主持人會議 (2016/05/20)\n",
    "\n",
    "---\n",
    "\n",
    "### 建立多層次都市人口流動時空模式於傳染病擴散風險評估\n",
    "### *都市人口流動*\n",
    "\n",
    "- 規劃進度 - 期中報告(5月底) 範圍\n",
    "- 目前進度 - 歷史資料的呈現 - Youbike 系統\n",
    "- 近期規劃\n",
    "<br /> <br />\n",
    "\n",
    "---\n",
    "<div class=\"footer\">地理計算科學研究室 - 陳威全. 2016</div>"
   ]
  },
  {
   "cell_type": "markdown",
   "metadata": {
    "slideshow": {
     "slide_type": "slide"
    }
   },
   "source": [
    "期中報告(5月底) 範圍\n",
    "\n",
    "<div align=\"center\">\n",
    "<img src=\"figs/fig_1050520/00_cityGraph_1styear_final_re02.png\" alt=\"plan first year\" width=\"1200\"><br>\n",
    "</div>\n",
    "\n",
    "---\n",
    "<div class=\"footer\">地理計算科學研究室 - 陳威全. 2016</div>"
   ]
  },
  {
   "cell_type": "markdown",
   "metadata": {
    "slideshow": {
     "slide_type": "slide"
    }
   },
   "source": [
    "Youbike 資料呈現截圖\n",
    "\n",
    "<div align=\"center\">\n",
    "<img src=\"figs/fig_1050520/01_select_date.png\" alt=\"plan first year\" width=\"1200\"><br>\n",
    "</div>\n",
    "\n",
    "<div align=\"center\"><a href=\"http://140.112.64.207:8000/\"> Youbike 歷史資料呈現平臺</a></div>\n",
    "\n",
    "---\n",
    "<div class=\"footer\">地理計算科學研究室 - 陳威全. 2016</div>"
   ]
  },
  {
   "cell_type": "markdown",
   "metadata": {
    "slideshow": {
     "slide_type": "slide"
    }
   },
   "source": [
    "Youbike 資料呈現截圖\n",
    "\n",
    "<div align=\"center\">\n",
    "<img src=\"figs/fig_1050520/02_switch_column.png\" alt=\"plan first year\" width=\"1200\"><br>\n",
    "</div>\n",
    "\n",
    "<div align=\"center\"><a href=\"http://140.112.64.207:8000/\"> Youbike 歷史資料呈現平臺</a></div>\n",
    "\n",
    "---\n",
    "<div class=\"footer\">地理計算科學研究室 - 陳威全. 2016</div>"
   ]
  },
  {
   "cell_type": "markdown",
   "metadata": {
    "slideshow": {
     "slide_type": "slide"
    }
   },
   "source": [
    "Youbike 資料呈現截圖\n",
    "\n",
    "<div align=\"center\">\n",
    "<img src=\"figs/fig_1050520/03_hover_info.png\" alt=\"plan first year\" width=\"1200\"><br>\n",
    "</div>\n",
    "\n",
    "<div align=\"center\"><a href=\"http://140.112.64.207:8000/\"> Youbike 歷史資料呈現平臺</a></div>\n",
    "\n",
    "---\n",
    "<div class=\"footer\">地理計算科學研究室 - 陳威全. 2016</div>"
   ]
  },
  {
   "cell_type": "markdown",
   "metadata": {
    "slideshow": {
     "slide_type": "slide"
    }
   },
   "source": [
    "Youbike 資料呈現截圖\n",
    "\n",
    "<div align=\"center\">\n",
    "<img src=\"figs/fig_1050520/04_bar_chart.png\" alt=\"plan first year\" width=\"1200\"><br>\n",
    "</div>\n",
    "\n",
    "<div align=\"center\"><a href=\"http://140.112.64.207:8000/\"> Youbike 歷史資料呈現平臺</a></div>\n",
    "\n",
    "---\n",
    "<div class=\"footer\">地理計算科學研究室 - 陳威全. 2016</div>"
   ]
  },
  {
   "cell_type": "markdown",
   "metadata": {
    "slideshow": {
     "slide_type": "slide"
    }
   },
   "source": [
    "Youbike 資料呈現截圖\n",
    "\n",
    "<div align=\"center\">\n",
    "<img src=\"figs/fig_1050520/05_histogram.png\" alt=\"plan first year\" width=\"1200\"><br>\n",
    "</div>\n",
    "\n",
    "<div align=\"center\"><a href=\"http://140.112.64.207:8000/\"> Youbike 歷史資料呈現平臺</a></div>\n",
    "\n",
    "---\n",
    "<div class=\"footer\">地理計算科學研究室 - 陳威全. 2016</div>"
   ]
  },
  {
   "cell_type": "markdown",
   "metadata": {
    "slideshow": {
     "slide_type": "slide"
    }
   },
   "source": [
    "Youbike 資料呈現截圖\n",
    "\n",
    "<div align=\"center\">\n",
    "<img src=\"figs/fig_1050520/06_time_line.png\" alt=\"plan first year\" width=\"1200\"><br>\n",
    "</div>\n",
    "\n",
    "<div align=\"center\"><a href=\"http://140.112.64.207:8000/\"> Youbike 歷史資料呈現平臺</a></div>\n",
    "\n",
    "---\n",
    "<div class=\"footer\">地理計算科學研究室 - 陳威全. 2016</div>"
   ]
  },
  {
   "cell_type": "markdown",
   "metadata": {
    "slideshow": {
     "slide_type": "slide"
    }
   },
   "source": [
    "### 近期規劃\n",
    "\n",
    "MRT 歷史資料\n",
    "\n",
    "已整理在資料庫中：\n",
    "- 2015/1~2015/10 : 逐日資料(每日總進站、總出站人次)\n",
    "- 2015/11～2016/3：每日逐時資料(營運時間內各小時總進站、總出站人次)\n",
    "\n",
    "規劃工作：\n",
    "- (接下來一個月內) 與 Youbike 歷史資料一樣，建設簡單的資料呈現系統\n",
    "- (七月以前) 與 Youbike 資料、VD 資料分別進行時間序列的相似性分析\n",
    "\n",
    "---\n",
    "<div class=\"footer\">地理計算科學研究室 - 陳威全. 2016</div>"
   ]
  },
  {
   "cell_type": "code",
   "execution_count": null,
   "metadata": {
    "collapsed": true,
    "slideshow": {
     "slide_type": "skip"
    }
   },
   "outputs": [],
   "source": []
  }
 ],
 "metadata": {
  "celltoolbar": "Slideshow",
  "kernelspec": {
   "display_name": "Python 2",
   "language": "python",
   "name": "python2"
  },
  "language_info": {
   "codemirror_mode": {
    "name": "ipython",
    "version": 2
   },
   "file_extension": ".py",
   "mimetype": "text/x-python",
   "name": "python",
   "nbconvert_exporter": "python",
   "pygments_lexer": "ipython2",
   "version": "2.7.11"
  },
  "livereveal": {
   "font-family": "Microsoft JhengHei",
   "height": 768,
   "theme": "sky",
   "transition": "trancave",
   "width": 1024
  }
 },
 "nbformat": 4,
 "nbformat_minor": 0
}
