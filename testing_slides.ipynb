{
 "cells": [
  {
   "cell_type": "markdown",
   "metadata": {
    "slideshow": {
     "slide_type": "slide"
    }
   },
   "source": [
    "## xxx presentation\n",
    "\n",
    "---\n",
    "#This is the title\n",
    "\n",
    "brief descriptionbrief descriptionbrief descriptionbrief descriptionbrief descriptionbrief descriptionbrief description\n",
    " <br /> <br /> <br /> <br /> <br /> <br />\n",
    " \n",
    "---\n",
    "<div class=\"footer\">Benny Chin. 2015</div>\n"
   ]
  },
  {
   "cell_type": "markdown",
   "metadata": {
    "slideshow": {
     "slide_type": "subslide"
    }
   },
   "source": [
    "## support info\n",
    "\n",
    "---\n",
    "\n",
    "title: Test\n",
    "author: Author Name\n",
    "header-includes:\n",
    "    - \\usepackage{fancyhdr}\n",
    "    - \\pagestyle{fancy}\n",
    "    - \\fancyhead[CO,CE]{This is fancy}\n",
    "    - \\fancyfoot[CO,CE]{So is this}\n",
    "    - \\fancyfoot[LE,RO]{\\thepage}\n",
    "abstract: This is a pandoc test . . . \n",
    "\n",
    "\n",
    "---\n",
    "check"
   ]
  },
  {
   "cell_type": "markdown",
   "metadata": {
    "slideshow": {
     "slide_type": "slide"
    }
   },
   "source": [
    "## headerr 1\n",
    "\n",
    "---\n",
    "Some contentSome contentSome contentSome contentSome contentSome contentSome contentSome contentSome contentSome contentSome contentSome contentSome contentSome contentSome content\n",
    "\n",
    "Some contentSome content\n",
    "Some contentSome contentSome contentSome contentSome contentSome contentSome content\n",
    "\n",
    "Some contentSome contentSome contentSome contentSome contentSome contentSome contentSome contentSome contentSome contentSome content\n",
    "\n",
    "---\n",
    "\n",
    "<div class=\"footer\">Benny Chin. 2015</div>"
   ]
  },
  {
   "cell_type": "markdown",
   "metadata": {
    "slideshow": {
     "slide_type": "slide"
    }
   },
   "source": [
    "## header 2\n",
    "\n",
    "---\n",
    "Some contentSome contentSome contentSome contentSome contentSome contentSome contentSome contentSome contentSome contentSome contentSome contentSome contentSome contentSome content\n",
    "\n",
    "Some contentSome content\n",
    "Some contentSome contentSome contentSome contentSome contentSome contentSome content\n",
    "\n",
    "Some contentSome contentSome contentSome contentSome contentSome contentSome contentSome contentSome contentSome contentSome content\n",
    "\n",
    "---\n",
    "\n",
    "<div class=\"footer\">Benny Chin. 2015</div>"
   ]
  },
  {
   "cell_type": "markdown",
   "metadata": {
    "slideshow": {
     "slide_type": "slide"
    }
   },
   "source": [
    "## header 2\n",
    "\n",
    "---"
   ]
  },
  {
   "cell_type": "code",
   "execution_count": 4,
   "metadata": {
    "collapsed": false
   },
   "outputs": [
    {
     "name": "stdout",
     "output_type": "stream",
     "text": [
      "Populating the interactive namespace from numpy and matplotlib\n"
     ]
    },
    {
     "name": "stderr",
     "output_type": "stream",
     "text": [
      "WARNING: pylab import has clobbered these variables: ['pylab']\n",
      "`%matplotlib` prevents importing * from pylab and numpy\n"
     ]
    },
    {
     "data": {
      "text/plain": [
       "[<matplotlib.lines.Line2D at 0x7f3f111aec10>]"
      ]
     },
     "execution_count": 4,
     "metadata": {},
     "output_type": "execute_result"
    },
    {
     "data": {
      "image/png": "[encoded data removed]",
      "text/plain": [
       "<matplotlib.figure.Figure at 0x7f3f11211790>"
      ]
     },
     "metadata": {},
     "output_type": "display_data"
    }
   ],
   "source": [
    "%pylab inline\n",
    "import pylab\n",
    "import numpy as np\n",
    "x = np.linspace(0, 20, 1000)  # 100 evenly-spaced values from 0 to 50\n",
    "y = np.sin(x)\n",
    "\n",
    "pylab.plot(x, y)"
   ]
  },
  {
   "cell_type": "markdown",
   "metadata": {},
   "source": [
    "\n",
    "---\n",
    "\n",
    "<div class=\"footer\">Benny Chin. 2015</div>"
   ]
  }
 ],
 "metadata": {
  "celltoolbar": "Slideshow",
  "kernelspec": {
   "display_name": "Python 2",
   "language": "python",
   "name": "python2"
  },
  "language_info": {
   "codemirror_mode": {
    "name": "ipython",
    "version": 2
   },
   "file_extension": ".py",
   "mimetype": "text/x-python",
   "name": "python",
   "nbconvert_exporter": "python",
   "pygments_lexer": "ipython2",
   "version": "2.7.10"
  }
 },
 "nbformat": 4,
 "nbformat_minor": 0
}
