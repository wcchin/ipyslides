{
 "cells": [
  {
   "cell_type": "markdown",
   "metadata": {
    "slideshow": {
     "slide_type": "slide"
    }
   },
   "source": [
    "## FOSS4G 2015\n",
    "####ASIA SPECIAL SESSION 2-1: Web and Framework \n",
    "---\n",
    "#A Web-based Framework for Monitoring Spatial-temporal Clustering of Epidemics in Taiwan\n",
    "\n",
    "- A prototype earlywarning system.\n",
    "- An example of foodborne disease.\n",
    " <br /> <br /> <br /> <br /> <br /> <br />\n",
    " \n",
    "---\n",
    "<div class=\"footer\">**Benny Chin.** 2015 (Department of Geography, National Taiwan University)</div>\n",
    "<div class=\"footer\">Tzai-Hung Wen, Fei-Ying Kuo, Hwa-Lung Yu, Ming-Che Hu</div>"
   ]
  },
  {
   "cell_type": "markdown",
   "metadata": {
    "slideshow": {
     "slide_type": "subslide"
    }
   },
   "source": [
    "### Acknowledgement\n",
    "\n",
    "---\n",
    " <br /> <br /> <br />\n",
    "This project is supported by the grant of Centers for Disease Control , R.O.C.(Taiwan).\n",
    " <br /> <br /> <br />\n",
    "\n",
    "---\n",
    "<div class=\"footer\">Benny Chin. 2015</div>"
   ]
  },
  {
   "cell_type": "markdown",
   "metadata": {
    "slideshow": {
     "slide_type": "slide"
    }
   },
   "source": [
    "## about Taiwan\n",
    "\n",
    "---\n",
    "\n",
    "<img src=\"figs/TaiwanLocation2.png\" alt=\"where is Taiwan\" height=\"490\" width=\"738\">\n",
    "\n",
    "- an island at the East Asia. \n",
    "- area: 35,882 $km^2$\n",
    "- population: 23,461,708 people\n",
    "- population density: 648.24 $person/km^2$ (2015), one of the top 10 most densesly populated countries.\n",
    "(according to wikipedia)\n",
    "\n",
    "---\n",
    "\n",
    "<div class=\"footer\">Benny Chin. 2015</div>"
   ]
  },
  {
   "cell_type": "markdown",
   "metadata": {
    "slideshow": {
     "slide_type": "slide"
    }
   },
   "source": [
    "## Foodborne disease: the illness\n",
    "---\n",
    "\n",
    "<img src=\"figs/foodborne_disease.png\" alt=\"what is foodborne disease\" height=\"490\" width=\"738\">\n",
    "\n",
    "---\n",
    "\n",
    "<div class=\"footer\">Benny Chin. 2015</div>"
   ]
  },
  {
   "cell_type": "markdown",
   "metadata": {
    "slideshow": {
     "slide_type": "subslide"
    }
   },
   "source": [
    "## Foodborne disease: how can GIS help in this problem\n",
    "---\n",
    "\n",
    "<img src=\"figs/example_activity.png\" alt=\"an example of how people get sick\" height=\"490\" width=\"738\">\n",
    "\n",
    "---\n",
    "\n",
    "<div class=\"footer\">Benny Chin. 2015</div>"
   ]
  },
  {
   "cell_type": "markdown",
   "metadata": {
    "slideshow": {
     "slide_type": "subslide"
    }
   },
   "source": [
    "## Foodborne disease: surveillance system \n",
    "\n",
    "---\n",
    "\n",
    "<img src=\"figs/foodborne_disease_GIS.png\" alt=\"trace from symtoms to source\" height=\"490\" width=\"738\">\n",
    "\n",
    "---\n",
    "\n",
    "<div class=\"footer\">Benny Chin. 2015</div>"
   ]
  },
  {
   "cell_type": "markdown",
   "metadata": {
    "slideshow": {
     "slide_type": "slide"
    }
   },
   "source": [
    "## The databases\n",
    "\n",
    "---\n",
    "The CDC, Taiwan has established several surveillance system:\n",
    "1. Real-time outbreak and disease surveillance system (RODS)\n",
    "2. Laboratory of applications and reporting system (LARS)\n",
    "3. Reporting system for comfirmed reported clusters (Reported clusters)\n",
    "\n",
    "the comparison between databases:\n",
    "\n",
    "|    | RODS | LARS | Reported clusters |\n",
    "|--- | --- | --- | --- |\n",
    "| report-time | (near) real-time | 5-10 days lag | reported on comfirmed |\n",
    "| content | symptoms | lab tested result | detail lab tested results |\n",
    "| cases from | about 180 hospitals | about 20 hospitals | comfirmed cluster area |\n",
    "\n",
    "  \n",
    "\n",
    "---\n",
    "\n",
    "<div class=\"footer\">Benny Chin. 2015</div>"
   ]
  },
  {
   "cell_type": "markdown",
   "metadata": {
    "slideshow": {
     "slide_type": "subslide"
    }
   },
   "source": [
    "## The reporting-time of the three systems\n",
    "\n",
    "---\n",
    "\n",
    "<img src=\"figs/database_time_eng.png\" alt=\"database reporting time\" height=\"490\" width=\"738\">\n",
    "\n",
    "- RODS is a better option among the three systems for surveillance purpose.\n",
    "- LARS is good for supporting the surveillance purpose.\n",
    "- Reporting system is good for verifying the clusters. \n",
    "\n",
    "---\n",
    "\n",
    "<div class=\"footer\">Benny Chin. 2015</div>"
   ]
  },
  {
   "cell_type": "markdown",
   "metadata": {
    "slideshow": {
     "slide_type": "slide"
    }
   },
   "source": [
    "## The framework and components\n",
    "\n",
    "---\n",
    "<img src=\"figs/framework_eng.png\" alt=\"framework\" height=\"490\" width=\"738\">\n",
    "\n",
    "The framework of the clusters monitoring system contain four components:\n",
    "- core system: for managing the requests and responses, and it is the controller of the framework.\n",
    "- database: for storing the cleaned and structured data, and the analysis results.\n",
    "- anlaysis modules: for running the analysis processes.\n",
    "- web-based UI: for communicating with the authorized users.\n",
    "\n",
    "---\n",
    "\n",
    "<div class=\"footer\">Benny Chin. 2015</div>"
   ]
  },
  {
   "cell_type": "markdown",
   "metadata": {
    "slideshow": {
     "slide_type": "subslide"
    }
   },
   "source": [
    "### component - Core system\n",
    "\n",
    "---\n",
    "For current prototype of the framework, we use a web application named web2py, \n",
    "an open-source, python-based,web application framework, to construct a dynamic website.  \n",
    "Web2py is a simple and powerful (enough) web application framework for our monitoring system. \n",
    "\n",
    "web2py:\n",
    "- follows a MVC architectural pattern: model-view-controller\n",
    "- can be running with rocket, tornado, cherrypy, paste...\n",
    "- has its own template language, can be used with mako, jinja2...\n",
    "\n",
    "---\n",
    "\n",
    "<div class=\"footer\">Benny Chin. 2015</div>"
   ]
  },
  {
   "cell_type": "markdown",
   "metadata": {
    "slideshow": {
     "slide_type": "subslide"
    }
   },
   "source": [
    "### component - Database\n",
    "\n",
    "---\n",
    "Postgresql:\n",
    "- the raw data: input from the surveillance and reporting systems.\n",
    "- the spatial data: including hospital info, administrative boundaries, sales POI.\n",
    "- analysis results: where the clusters located, when the clusters start and stop. \n",
    "\n",
    "---\n",
    "\n",
    "<div class=\"footer\">Benny Chin. 2015</div>"
   ]
  },
  {
   "cell_type": "markdown",
   "metadata": {
    "slideshow": {
     "slide_type": "subslide"
    }
   },
   "source": [
    "### component - Analysis modules\n",
    "\n",
    "---\n",
    "\n",
    "analyzing modules is writen in python environment:\n",
    "1. clustering analysis models - st-dbscan...\n",
    "2. spatial data manipulations - proximity, network connectivity, joins... \n",
    "3. visualizations\n",
    "\n",
    "---\n",
    "\n",
    "<div class=\"footer\">Benny Chin. 2015</div>"
   ]
  },
  {
   "cell_type": "markdown",
   "metadata": {
    "slideshow": {
     "slide_type": "subslide"
    }
   },
   "source": [
    "### component - Web-based UI\n",
    "\n",
    "---\n",
    "\n",
    "- showing the map: Leafletjs, MapBox\n",
    "- showing the charts: Bokeh, Plotly, Mpld3\n",
    "\n",
    "---\n",
    "\n",
    "<div class=\"footer\">Benny Chin. 2015</div>"
   ]
  },
  {
   "cell_type": "markdown",
   "metadata": {
    "slideshow": {
     "slide_type": "slide"
    }
   },
   "source": [
    "## The  warning flowmap\n",
    "\n",
    "---\n",
    "\n",
    "<img src=\"figs/warning_workflow.png\" alt=\"warning workflow\" height=\"300\" width=\"500\">\n",
    "\n",
    "1. identifying temporal anomaly with high value of patients from RODS data\n",
    "2. investigating the spatial-temporal distribution from temporal anomalys\n",
    "3. compare the results with LARS data to identify the potential sources\n",
    "\n",
    "---\n",
    "\n",
    "<div class=\"footer\">Benny Chin. 2015</div>"
   ]
  },
  {
   "cell_type": "markdown",
   "metadata": {
    "slideshow": {
     "slide_type": "subslide"
    }
   },
   "source": [
    "### workflow - temporal anomaly\n",
    "\n",
    "---\n",
    "\n",
    "<img src=\"figs/temporal_anomaly_eng.png\" alt=\"temporal anomaly\" height=\"490\" width=\"738\">\n",
    "\n",
    "Temporal anomaly is those time-point with higher values of patients (with the symptoms) than the regular situation.  \n",
    "For example: \n",
    "- each dots represent the number of patients in a day at the hospital;\n",
    "- dots in purple means the number of patients is less than 50;\n",
    "- dots in red means the number of patients is more than 50. \n",
    "\n",
    "\n",
    "---\n",
    "\n",
    "<div class=\"footer\">Benny Chin. 2015</div>"
   ]
  },
  {
   "cell_type": "markdown",
   "metadata": {
    "slideshow": {
     "slide_type": "subslide"
    }
   },
   "source": [
    "### workflow - space-time hotspot\n",
    "\n",
    "---\n",
    "\n",
    "<img src=\"figs/spatial_anomaly_eng.png\" alt=\"spatial anomaly\" height=\"490\" width=\"738\">\n",
    "\n",
    "space-time hotspot represent the hotspot of the temporal anomalies.  \n",
    "For example:\n",
    "- 3 nearby hospitals; \n",
    "- the red dots represent the temporal anomaly of each hospital on each day;\n",
    "- the hotspot appeared at around the four hospitals starting about from day 7.\n",
    "\n",
    "---\n",
    "\n",
    "<div class=\"footer\">Benny Chin. 2015</div>"
   ]
  },
  {
   "cell_type": "markdown",
   "metadata": {
    "slideshow": {
     "slide_type": "slide"
    }
   },
   "source": [
    "##Screenshots\n",
    "\n",
    "---\n",
    "Some screenshots of the prototype web-based monitoring framework.\n",
    "\n",
    "---\n",
    "\n",
    "<div class=\"footer\">Benny Chin. 2015</div>"
   ]
  },
  {
   "cell_type": "markdown",
   "metadata": {
    "slideshow": {
     "slide_type": "slide"
    }
   },
   "source": [
    "### Screenshots - index page\n",
    "\n",
    "---\n",
    "<img src=\"figs/indexPage_01.png\" alt=\"screenshot indexpage\" height=\"490\" width=\"738\">\n",
    "\n",
    "- the warning message\n",
    "- data update history\n",
    "- thumbnails and links of the maps and charts\n",
    "\n",
    "---\n",
    "\n",
    "<div class=\"footer\">Benny Chin. 2015</div>"
   ]
  },
  {
   "cell_type": "markdown",
   "metadata": {
    "slideshow": {
     "slide_type": "slide"
    }
   },
   "source": [
    "### Screenshots - RODS (spatial)\n",
    "\n",
    "---\n",
    "\n",
    "<img src=\"figs/RODS_spatial.png\" alt=\"screenshot RODS spatial\" height=\"490\" width=\"738\">\n",
    "\n",
    "- spatial distribution and the numbers of patients with acute diarrhea symptoms within the last month\n",
    "- query with dates in the left panel\n",
    "\n",
    "---\n",
    "\n",
    "<div class=\"footer\">Benny Chin. 2015</div>"
   ]
  },
  {
   "cell_type": "markdown",
   "metadata": {
    "slideshow": {
     "slide_type": "subslide"
    }
   },
   "source": [
    "### Screenshots - RODS (temporal)\n",
    "\n",
    "---\n",
    "\n",
    "<img src=\"figs/RODS_temporal.png\" alt=\"screenshot RODS temporal\" height=\"490\" width=\"738\">\n",
    "\n",
    "- temporal distribution of the total number of patients with acute diarrhea symptoms within the last month\n",
    "- query with dates in the left panel\n",
    "\n",
    "---\n",
    "\n",
    "<div class=\"footer\">Benny Chin. 2015</div>"
   ]
  },
  {
   "cell_type": "markdown",
   "metadata": {
    "slideshow": {
     "slide_type": "slide"
    }
   },
   "source": [
    "### Screenshots - LARS (spatial)\n",
    "\n",
    "---\n",
    "\n",
    "<img src=\"figs/LAB_spatial.png\" alt=\"screenshot lars spatial\" height=\"490\" width=\"738\">\n",
    "\n",
    "- spatial distribution and the numbers of patients with ROTA virus as the pathogen within the last month\n",
    "- query with dates in the left panel\n",
    "\n",
    "---\n",
    "\n",
    "<div class=\"footer\">Benny Chin. 2015</div>"
   ]
  },
  {
   "cell_type": "markdown",
   "metadata": {
    "slideshow": {
     "slide_type": "subslide"
    }
   },
   "source": [
    "### Screenshots - LARS (temporal)\n",
    "\n",
    "---\n",
    "\n",
    "<img src=\"figs/LAB_temporal.png\" alt=\"screenshot lars temporal\" height=\"490\" width=\"738\">\n",
    "\n",
    "- temporal distribution of the total numbers of patients with Rota virus and Salmonella species as the pathogens in the last week\n",
    "- query with dates in the left panel\n",
    "\n",
    "---\n",
    "\n",
    "<div class=\"footer\">Benny Chin. 2015</div>"
   ]
  },
  {
   "cell_type": "markdown",
   "metadata": {
    "slideshow": {
     "slide_type": "slide"
    }
   },
   "source": [
    "### Screenshots - hotspots identified (temporal)\n",
    "\n",
    "---\n",
    "\n",
    "<img src=\"figs/hotspot_temporal.png\" alt=\"screenshot hotspot temporal\" height=\"490\" width=\"738\">\n",
    "\n",
    "- identified hotspots\n",
    "- reported cluster from the Reporting System\n",
    "\n",
    "---\n",
    "\n",
    "<div class=\"footer\">Benny Chin. 2015</div>"
   ]
  },
  {
   "cell_type": "markdown",
   "metadata": {
    "slideshow": {
     "slide_type": "subslide"
    }
   },
   "source": [
    "### Screenshots - hotspots identified (spatial)\n",
    "\n",
    "---\n",
    "\n",
    "<img src=\"figs/hotspot_spatial.png\" alt=\"screenshot hotspot spatial\" height=\"490\" width=\"738\">\n",
    "\n",
    "- the identified hotspot (red as core, blue as border)\n",
    "\n",
    "---\n",
    "\n",
    "<div class=\"footer\">Benny Chin. 2015</div>"
   ]
  },
  {
   "cell_type": "markdown",
   "metadata": {
    "slideshow": {
     "slide_type": "subslide"
    }
   },
   "source": [
    "### Screenshots - hotspot matrix\n",
    "\n",
    "---\n",
    "\n",
    "<img src=\"figs/hotspotmatrix_page_0601.png\" alt=\"screenshot hotspot matrix\" height=\"490\" width=\"738\">\n",
    "\n",
    "- the related hospital\n",
    "- the number of patients within the hotspot time-range\n",
    "\n",
    "---\n",
    "\n",
    "<div class=\"footer\">Benny Chin. 2015</div>"
   ]
  },
  {
   "cell_type": "markdown",
   "metadata": {
    "slideshow": {
     "slide_type": "subslide"
    }
   },
   "source": [
    "### Screenshots - hotspot vs.  reported cluster\n",
    "\n",
    "---\n",
    "<img src=\"figs/DBSCAN_spatial_distribution.png\" alt=\"screenshot compare with reported cluster\" height=\"490\" width=\"738\">\n",
    "\n",
    "- the identified hotspot compared with the reported clusters\n",
    "\n",
    "---\n",
    "\n",
    "<div class=\"footer\">Benny Chin. 2015</div>"
   ]
  },
  {
   "cell_type": "markdown",
   "metadata": {
    "slideshow": {
     "slide_type": "slide"
    }
   },
   "source": [
    "## Thank you!\n",
    "\n",
    "---\n",
    "\n",
    "- ### Questions?\n",
    "- ### Suggestions?\n",
    "<br /> <br /> <br /> <br />\n",
    "\n",
    "My contact info.:  \n",
    "- Benny Chin  \n",
    "- wcchin.88@gmail.com\n",
    " <br /> \n",
    "---\n",
    "\n",
    "<div class=\"footer\">Benny Chin. 2015</div>"
   ]
  }
 ],
 "metadata": {
  "celltoolbar": "Slideshow",
  "kernelspec": {
   "display_name": "Python 2",
   "language": "python",
   "name": "python2"
  },
  "language_info": {
   "codemirror_mode": {
    "name": "ipython",
    "version": 2
   },
   "file_extension": ".py",
   "mimetype": "text/x-python",
   "name": "python",
   "nbconvert_exporter": "python",
   "pygments_lexer": "ipython2",
   "version": "2.7.10"
  }
 },
 "nbformat": 4,
 "nbformat_minor": 0
}
