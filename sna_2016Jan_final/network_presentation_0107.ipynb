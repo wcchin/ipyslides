{
 "cells": [
  {
   "cell_type": "markdown",
   "metadata": {
    "slideshow": {
     "slide_type": "slide"
    }
   },
   "source": [
    "##### <div align=\"center\">從學術出版看「地理」學<br>Seeing \"Geography\" from research publications</div> \n",
    "-------------\n",
    "<br>\n",
    "網絡資料分析與模式 - 期末報告\n",
    "<br>\n",
    "以學術出版的「關鍵字」網絡看地理學過去20年來的研究重點之發展趨勢之初探\n",
    "<br>\n",
    "<div align=\"right\">學生 **陳威全**</div>  \n",
    "  \n",
    "-------------\n",
    "<div align=\"center\">陳威全 2016</div>"
   ]
  },
  {
   "cell_type": "markdown",
   "metadata": {
    "slideshow": {
     "slide_type": "slide"
    }
   },
   "source": [
    "##### Data - source\n",
    "-------------\n",
    "- 資料來源: web of science - web of knowledge \n",
    "- 抓資料根據： 期刊名稱在 JCR (Journal Citation Report) 分類中，屬於 Geography(SSCI,72本) 或 Physical Geography(SCI,45本)，共111本期刊(存在分類重疊的期刊)\n",
    "- 時間範圍：最早(1956)-2013 (2013/9/9 抓的資料)，總共 184,448 篇文章\n",
    "- 限制1：不是每一本期刊都有完整的電子記錄\n",
    "  \n",
    "-------------\n",
    "<div align=\"center\">從學術出版看「地理」學 - 陳威全 2016 </div>"
   ]
  },
  {
   "cell_type": "markdown",
   "metadata": {
    "slideshow": {
     "slide_type": "subslide"
    }
   },
   "source": [
    "##### Data - keywords\n",
    "-------------\n",
    "\n",
    "- 有關鍵字的文章，從 1987年左右開始才出現\n",
    "- 因資料量龐大，本研究用 5年爲時間單位，依文章發表年份，將關鍵字網絡切成6組(並且後續用分組的第一年爲標示)： \n",
    "    - 1985-1989,\n",
    "    - 1990-1994,\n",
    "    - 1995-1999,\n",
    "    - 2000-2004,\n",
    "    - 2005-2009,\n",
    "    - 2010-2013。\n",
    "- 限制2：早期的關鍵字記錄可能不完整，或沒有關鍵字\n",
    "  \n",
    "-------------\n",
    "<div align=\"center\">從學術出版看「地理」學 - *陳威全 2016*</div>"
   ]
  },
  {
   "cell_type": "markdown",
   "metadata": {
    "slideshow": {
     "slide_type": "slide"
    }
   },
   "source": [
    "##### Data - 2 mode to co-occurrance network\n",
    "\n",
    "從文章-關鍵字的2元網絡，轉成關鍵字共同出現網絡\n",
    "<div align=\"center\"><img src=\"figs/2modenetwork.png\" alt=\"data - keyword cooccurrance\" width=\"500\"></div>\n",
    "\n",
    "-------------\n",
    "<div align=\"center\">從學術出版看「地理」學 - *陳威全 2016*</div>"
   ]
  },
  {
   "cell_type": "markdown",
   "metadata": {
    "slideshow": {
     "slide_type": "slide"
    }
   },
   "source": [
    "##### Data - Giant component\n",
    "\n",
    "只保留最大的component(節點最多的)\n",
    "<div align=\"center\"><img src=\"figs/components.png\" alt=\"data - giant components\" width=\"500\"></div>\n",
    "\n",
    "-------------\n",
    "<div align=\"center\">從學術出版看「地理」學 - *陳威全 2016*</div>"
   ]
  },
  {
   "cell_type": "markdown",
   "metadata": {
    "slideshow": {
     "slide_type": "subslide"
    }
   },
   "source": [
    "##### Data - Giant component - removal components' size histogram\n",
    "-------------\n",
    "\n",
    "被移除掉的 component 的大小（節點數）的直方圖\n",
    "<div align=\"center\"><img src=\"figs/non-giant-connected-components.png\" alt=\"data - giant components\" width=\"500\"></div>\n",
    "\n",
    "-------------\n",
    "<div align=\"center\">從學術出版看「地理」學 - *陳威全 2016*</div>"
   ]
  },
  {
   "cell_type": "markdown",
   "metadata": {
    "slideshow": {
     "slide_type": "slide"
    }
   },
   "source": [
    "##### Analysis - Community detection\n",
    "\n",
    "- GN algorithm: 上課教的基礎概念，在大網絡下不適用，運算複雜度太高。\n",
    "- Louvain algorithm：試着最大化模組化指標(modularity)\n",
    "\n",
    "- Louvain algorithm：簡單來說，結果會產生更一個分組方式，而這個分組方式是可以達到最佳的模組化指標的分組(community)結果。\n",
    "- 但，關鍵字網絡在 Louvain algorithm 最佳化模組指標的結果下，會出現有一部分「組」的節點特別多，其他的「組」的節點相對很少。\n",
    "\n",
    "-------------\n",
    "<div align=\"center\">從學術出版看「地理」學 - *陳威全 2016*</div>"
   ]
  },
  {
   "cell_type": "markdown",
   "metadata": {
    "slideshow": {
     "slide_type": "subslide"
    }
   },
   "source": [
    "##### Analysis - Community detection\n",
    "\n",
    "但，在學術圈中，往往看起來彼此相關的領域，通常都可以再更進一步細分成子領域。  \n",
    "\n",
    "所以，是否要針對看起來很大的組，試着進行下一層的分組？\n",
    "\n",
    "\n",
    "-------------\n",
    "<div align=\"center\">從學術出版看「地理」學 - *陳威全 2016*</div>"
   ]
  },
  {
   "cell_type": "markdown",
   "metadata": {
    "slideshow": {
     "slide_type": "subslide"
    }
   },
   "source": [
    "##### Analysis - Community detection\n",
    "\n",
    "(我的一些稍作修改)，加入重複多層分組的過程(recursive community detection)：  \n",
    "\n",
    "0.初次的分組，進入 1. ；  \n",
    "1.在完成分組之後，針對每一個「組」，進行 2.；  \n",
    "2.針對組內的節點，再進行一次分組，進入 3. 的判斷；  \n",
    "3.看子網絡的分組的模組化指標是否有高於上一層的最佳模組化指標，若是則進行 4.， 若否則進行 5.  \n",
    "4.若是，則確定要分組，然後回到 1.；  \n",
    "5.若否，則這組節點不接受剛剛的這次分組，即這些節點屬於同一組。  \n",
    "\n",
    "這只是一個初步嘗試！\n",
    "\n",
    "-------------\n",
    "<div align=\"center\">從學術出版看「地理」學 - *陳威全 2016*</div>"
   ]
  },
  {
   "cell_type": "markdown",
   "metadata": {
    "slideshow": {
     "slide_type": "slide"
    }
   },
   "source": [
    "##### Analysis - Representation node of community\n",
    "\n",
    "分組之後，誰可以代表這個組呢？  \n",
    "本研究用基本的 PageRank 進行判斷，看哪個節點的 PR 最高，選其作爲該組代表。\n",
    "\n",
    "-------------\n",
    "<div align=\"center\">從學術出版看「地理」學 - *陳威全 2016*</div>"
   ]
  },
  {
   "cell_type": "markdown",
   "metadata": {
    "slideshow": {
     "slide_type": "slide"
    }
   },
   "source": [
    "##### Result - Keyword cooccurance network\n",
    "\n",
    "https://wcchin.shinyapps.io/keywords_geography_co_occur/\n",
    "<div align=\"center\"><img src=\"figs/result_1.png\" alt=\"data - giant components\" width=\"500\"></div>\n",
    "\n",
    "-------------\n",
    "<div align=\"center\">從學術出版看「地理」學 - *陳威全 2016*</div>"
   ]
  },
  {
   "cell_type": "markdown",
   "metadata": {
    "slideshow": {
     "slide_type": "subslide"
    }
   },
   "source": [
    "##### Result - Keyword cooccurance network\n",
    "\n",
    "https://wcchin.shinyapps.io/keywords_geography_co_occur/\n",
    "<div align=\"center\"><img src=\"figs/result_2.png\" alt=\"data - giant components\" width=\"500\"></div>\n",
    "\n",
    "-------------\n",
    "<div align=\"center\">從學術出版看「地理」學 - *陳威全 2016*</div>"
   ]
  },
  {
   "cell_type": "markdown",
   "metadata": {
    "slideshow": {
     "slide_type": "subslide"
    }
   },
   "source": [
    "##### Result - Keyword cooccurance network - community network\n",
    "\n",
    "https://wcchin.shinyapps.io/keywords_geography_community/\n",
    "<div align=\"center\"><img src=\"figs/result_3.png\" alt=\"data - giant components\" width=\"500\"></div>\n",
    "\n",
    "-------------\n",
    "<div align=\"center\">從學術出版看「地理」學 - *陳威全 2016*</div>"
   ]
  },
  {
   "cell_type": "markdown",
   "metadata": {
    "slideshow": {
     "slide_type": "slide"
    }
   },
   "source": [
    "##### Next? - simple descriptive information\n",
    "\n",
    "對各時間斷面，及其下層的各組，進行基本的網絡結構特性的計算：\n",
    "- diameter / average path length：各關鍵字之間的距離。\n",
    "- degree 頻率分布圖 / scale-free ： 探討網絡的長相與過去的研究進行比較\n",
    "- 模組化指標的高低之比較\n",
    "\n",
    "-------------\n",
    "<div align=\"center\">從學術出版看「地理」學 - *陳威全 2016*</div>"
   ]
  },
  {
   "cell_type": "markdown",
   "metadata": {
    "slideshow": {
     "slide_type": "slide"
    }
   },
   "source": [
    "##### Next? - community detection method\n",
    "\n",
    "重複往下式分組方法方面(單時間斷面)：\n",
    "- 比較：進行下一層的方式，與只算一次全域模組化指標的方式的結果。\n",
    "- 觀察：視覺化呈現上下層之間的關係(矩陣圖)\n",
    "- 討論：用分組、上下層關係，討論學術版圖的分佈\n",
    "\n",
    "-------------\n",
    "<div align=\"center\">從學術出版看「地理」學 - *陳威全 2016*</div>"
   ]
  },
  {
   "cell_type": "markdown",
   "metadata": {
    "slideshow": {
     "slide_type": "subslide"
    }
   },
   "source": [
    "##### Next? - 加入時間順序\n",
    "\n",
    "時間面向(跨時間斷面)：\n",
    "- 比較：各時間斷面間，重要關鍵字(組)的項目差異。\n",
    "- 觀察：觀察學術版圖的變化\n",
    "- 討論：試着討論發展趨勢\n",
    "\n",
    "-------------\n",
    "<div align=\"center\">從學術出版看「地理」學 - *陳威全 2016*</div>"
   ]
  },
  {
   "cell_type": "markdown",
   "metadata": {
    "slideshow": {
     "slide_type": "subslide"
    }
   },
   "source": [
    "##### Next? - Directed co-occurance network\n",
    "\n",
    "用有向的連線，表示共同出現連線中兩節點的最早出現順序差異：\n",
    "- 觀察：哪些關鍵字是跨時段、跨子領域間的關鍵字\n",
    "- ...(待進一步思考)\n",
    "\n",
    "-------------\n",
    "<div align=\"center\">從學術出版看「地理」學 - *陳威全 2016*</div>"
   ]
  },
  {
   "cell_type": "markdown",
   "metadata": {
    "slideshow": {
     "slide_type": "slide"
    }
   },
   "source": [
    "##### Conclusion\n",
    "\n",
    "- 一篇文章的關鍵字可以反映其核心概念(技術、背景等)。\n",
    "- 關鍵字共同出現的關係，則可以捕捉概念與概念之間的關聯強度。\n",
    "- 透過偵測關鍵字的分組，本研究試着探討一個學術領域中的學術版圖，及其隨時間的變化趨勢。\n",
    "\n",
    "-------------\n",
    "<div align=\"center\">從學術出版看「地理」學 - *陳威全 2016*</div>"
   ]
  },
  {
   "cell_type": "markdown",
   "metadata": {},
   "source": []
  }
 ],
 "metadata": {
  "celltoolbar": "Slideshow",
  "kernelspec": {
   "display_name": "Python 2",
   "language": "python",
   "name": "python2"
  },
  "language_info": {
   "codemirror_mode": {
    "name": "ipython",
    "version": 2
   },
   "file_extension": ".py",
   "mimetype": "text/x-python",
   "name": "python",
   "nbconvert_exporter": "python",
   "pygments_lexer": "ipython2",
   "version": "2.7.11"
  }
 },
 "nbformat": 4,
 "nbformat_minor": 0
}
