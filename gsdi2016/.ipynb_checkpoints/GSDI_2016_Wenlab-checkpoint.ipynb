{
 "cells": [
  {
   "cell_type": "markdown",
   "metadata": {
    "collapsed": true,
    "slideshow": {
     "slide_type": "slide"
    }
   },
   "source": [
    "#### @ GSDI - 2016/12/01\n",
    "\n",
    "## Profiling Topological Characteristics of Street Network to Identify Urban Traffic Congestion  in Taipei City\n",
    "\n",
    "Session: S05504b-3  \n",
    "**Smart Transportation** - \n",
    "*SDI for the Smart Homeland*  \n",
    "room: 504b\n",
    "time: 13:30-15:00\n",
    "\n",
    "Authors: Tzai-Hung Wen, Wei-Chien-Benny Chin\n",
    "\n",
    "---\n",
    "** Benny Chin**, PhD student  \n",
    "*NTU Geography*  \n",
    "wcchin.88@gmail.com"
   ]
  },
  {
   "cell_type": "markdown",
   "metadata": {
    "slideshow": {
     "slide_type": "slide"
    }
   },
   "source": [
    "*about this talk*\n",
    "- the data: detecting urban mobility\n",
    "- the analysis: modelling movements on urban street system\n",
    "- the visualization: seeing vehicle movement in urban street system"
   ]
  },
  {
   "cell_type": "markdown",
   "metadata": {
    "slideshow": {
     "slide_type": "slide"
    }
   },
   "source": [
    "# detecting urban mobility\n",
    "- source of data -- Taipei City Open Data Platform\n",
    "- getting the data"
   ]
  },
  {
   "cell_type": "markdown",
   "metadata": {
    "slideshow": {
     "slide_type": "slide"
    }
   },
   "source": [
    "# The Taipei City open data platform\n",
    "link: <a href=\"http://data.taipei/\" target=\"blank\">data.taipei</a>  \n",
    "\n",
    "Public transportation system related:\n",
    "- bus service\n",
    "- mass rapid transit (MRT)\n",
    "- bicycle sharing system (Youbike)  \n",
    "\n",
    "Private transportation related:\n",
    "- streets' status (vehicle detector, VD)\n",
    "- changeable-message-sign (CMS)\n",
    "- parking lot information"
   ]
  },
  {
   "cell_type": "markdown",
   "metadata": {
    "slideshow": {
     "slide_type": "subslide"
    }
   },
   "source": [
    "## The open data portal\n",
    "link: <a href=\"https://taipeicity.github.io/traffic_realtime/\" target=\"blank\">a list of the Taipei City open data API</a>\n",
    "\n",
    "- The real-time data are updated in every 5 minutes.\n",
    "- The real-time data are all in xml/json (gzipped format).\n",
    "- The non-real-time data (e.g. MRT ridership data) are in ods/csv format. "
   ]
  },
  {
   "cell_type": "markdown",
   "metadata": {
    "slideshow": {
     "slide_type": "slide"
    }
   },
   "source": [
    "# Tools for interfacing the open data API\n",
    "\n",
    "- getting data (python)\n",
    "- preparing table and push to database and csv (python-pandas)\n",
    "- storing data (postgresql)\n",
    "- operating system (lubuntu)\n",
    "- remote backup (openmediavault+rsync)"
   ]
  },
  {
   "cell_type": "markdown",
   "metadata": {
    "slideshow": {
     "slide_type": "subslide"
    }
   },
   "source": [
    "## Focus on the four moving modes\n",
    "\n",
    "| Dataset                |  format       |  source                                                                                    | time resolution | \n",
    "|------------------------|---------------|--------------------------------------------------------------------------------------------|-------------------| \n",
    "| Street status (VD)     |  gzipped XML  |  http://data.taipei/tisv/VDDATA                                                            |  every 5 minutes  | \n",
    "| Bus Location           |  gzipped JSON |  http://data.taipei/bus/BUSDATA                                                            |  every minute     | \n",
    "| Youbike station status |  gzipped JSON |  http://data.taipei/youbike                                                                |  every 1 minutes  | \n",
    "| MRT station riderships |  csv          |  <small><a href=\"http://data.taipei/opendata/datalist/datasetMeta?oid=1d71c478-205f-42c5-8386-35f86d74fdd1\">http://data.taipei/opendata/datalist/datasetMeta?oid=1d71c478-205f-42c5-8386-35f86d74fdd1</a></small> |  every hour      | \n",
    " \n"
   ]
  },
  {
   "cell_type": "markdown",
   "metadata": {
    "slideshow": {
     "slide_type": "subslide"
    }
   },
   "source": [
    "### Street status (Vehicle Detector)\n",
    "| No. | column    | data type | info.                                | \n",
    "|-----|-----------|-----------|--------------------------------------| \n",
    "| 1   | timestamp | bigint    | time of record (unix timestamp)      | \n",
    "| 2   | vdid      | text      | ID code of VD                        | \n",
    "| 3   | LaneNo    | integer   | lane number of the street            | \n",
    "| 4   | AvgSpeed  | numeric   | average speed                        | \n",
    "| 5   | Lvolume   | integer   | volume of large vehicle              | \n",
    "| 6   | Mvolume   | integer   | volume of medium vehicle             | \n",
    "| 7   | Svolume   | integer   | volume of small vehicle              | \n",
    "| 8   | Volume    | integer   | total volume                         | \n",
    "| 9   | datetime2 | timestamp | time of record (‘%Y-%m-%d %H:%M:%S’) | \n"
   ]
  },
  {
   "cell_type": "markdown",
   "metadata": {
    "slideshow": {
     "slide_type": "subslide"
    }
   },
   "source": [
    "### Bus location\n",
    "| No. | column     | data type        | info.                                | \n",
    "|-----|------------|------------------|--------------------------------------| \n",
    "| 1   | timestamp  | bigint           | time of record (unix timestamp)      | \n",
    "| 2   | busID      | text             | bus plate no.                        | \n",
    "| 3   | carID      | integer          | bus id                               | \n",
    "| 4   | routeID    | integer          | route id                             | \n",
    "| 5   | goBack     | text             | outbound/inbound                     | \n",
    "| 6   | dutyStatus | text             | In-service/not-in-service            | \n",
    "| 7   | longitude  | double precision | current location (longitude)         | \n",
    "| 8   | latitude   | double precision | current location (latitude)          | \n",
    "| 9   | speed      | double precision | current speed                        | \n",
    "| 10  | azimuth    | double precision | Current heading (azimuth)            | \n",
    "| 11  | datetime2  | timestamp        | time of record (‘%Y-%m-%d %H:%M:%S’) | \n"
   ]
  },
  {
   "cell_type": "markdown",
   "metadata": {
    "slideshow": {
     "slide_type": "subslide"
    }
   },
   "source": [
    "### Youbike station status\n",
    "| No. | column    | data type | info.                                | \n",
    "|-----|-----------|-----------|--------------------------------------| \n",
    "| 1   | timestamp | bigint    | time of record (unix timestamp)      | \n",
    "| 2   | sno       | text      | station ID                           | \n",
    "| 3   | tot       | smallint  | total docks                          | \n",
    "| 4   | bemp      | smallint  | available docks                      | \n",
    "| 5   | sbi       | smallint  | available bicycles                   | \n",
    "| 6   | act       | boolean   | in service                           | \n",
    "| 7   | datetime2 | timestamp | time of record (‘%Y-%m-%d %H:%M:%S’) | \n"
   ]
  },
  {
   "cell_type": "markdown",
   "metadata": {
    "slideshow": {
     "slide_type": "subslide"
    }
   },
   "source": [
    "### MRT station riderships\n",
    "| No. | column  | data type | info.                       | \n",
    "|-----|---------|-----------|-----------------------------| \n",
    "| 1   | date    | timestamp | time of record (‘%Y-%m-%d’) | \n",
    "| 2   | hour    | smallint  | hour of record              | \n",
    "| 3   | station | text      | station name                | \n",
    "| 4   | leave   | bigint    | ridership (leaving)         | \n",
    "| 5   | enter   | bigint    | ridership (entering)        | \n"
   ]
  },
  {
   "cell_type": "markdown",
   "metadata": {
    "slideshow": {
     "slide_type": "slide"
    }
   },
   "source": [
    "# modelling movements on street system\n",
    "- the movements\n",
    "- the congestions"
   ]
  },
  {
   "cell_type": "markdown",
   "metadata": {
    "slideshow": {
     "slide_type": "subslide"
    }
   },
   "source": [
    "### Locations of Vehicle Detector (VD)\n",
    "<img src=\"figures/streetvd.png\" width=\"600\">"
   ]
  },
  {
   "cell_type": "markdown",
   "metadata": {
    "slideshow": {
     "slide_type": "slide"
    }
   },
   "source": [
    "# modelling vehicle movements\n",
    "<img src=\"figures/simple_idea.png\" width=\"600\">"
   ]
  },
  {
   "cell_type": "markdown",
   "metadata": {
    "slideshow": {
     "slide_type": "subslide"
    }
   },
   "source": [
    "## study framework\n",
    "<img src=\"figures/new_framework2.png\" width=\"1000\">"
   ]
  },
  {
   "cell_type": "markdown",
   "metadata": {
    "slideshow": {
     "slide_type": "notes"
    }
   },
   "source": [
    "Dual graph: a representation of street network where nodes are street segments, and edges are the connection(intersection) between the street segment."
   ]
  },
  {
   "cell_type": "markdown",
   "metadata": {
    "slideshow": {
     "slide_type": "subslide"
    }
   },
   "source": [
    "### A random walk model\n",
    "<img src=\"figures/car.gif\" width=\"600\">"
   ]
  },
  {
   "cell_type": "markdown",
   "metadata": {
    "slideshow": {
     "slide_type": "subslide"
    }
   },
   "source": [
    "### A random walk model on Taipei City street system <small><a href=\"https://vimeo.com/168713881\" target=\"blank\">https://vimeo.com/168713881</a></small>"
   ]
  },
  {
   "cell_type": "markdown",
   "metadata": {
    "slideshow": {
     "slide_type": "subslide"
    }
   },
   "source": [
    "### Google's PageRank and traffic flow\n",
    "PageRank is an algorithm for identifying where people would gather under the movement within a networked space.  \n",
    "It uses a random move model (random surfer), and analyses the hyperlink connectivity, namely the referencing network to identify the key webpages"
   ]
  },
  {
   "cell_type": "markdown",
   "metadata": {
    "slideshow": {
     "slide_type": "fragment"
    }
   },
   "source": [
    "basic form of PageRank algorithm  \n",
    "$$ PR_t(i) = \\sum_{j \\in IN(i)} PR_{t-1}(j) \\times \\frac{1}{outdeg(j)} $$\n",
    "$ IN(i) $: incoming node set of $ i $;  \n",
    "$ outdeg(j) $: the out-degree of $ j $."
   ]
  },
  {
   "cell_type": "markdown",
   "metadata": {
    "slideshow": {
     "slide_type": "subslide"
    }
   },
   "source": [
    "### FBPR equation\n",
    "\n",
    "$$ FBPR_t(i) = \\sum_{j \\in IN(i)} FBPR_{t-1}(j) \\times turning(j,i) $$\n",
    "$$ turning(j,i) = \\frac{Attr(i)}{\\sum_{p \\in OUT(j)}Attr(p) } $$\n",
    "$ Attr(k) $: attractiveness of node $ k $;  \n",
    "$ out(j) $: outgoing node set of $ j $. "
   ]
  },
  {
   "cell_type": "markdown",
   "metadata": {
    "slideshow": {
     "slide_type": "subslide"
    }
   },
   "source": [
    "### the idea\n",
    "<img src=\"figures/prefered_turn2.png\" width=\"400\">"
   ]
  },
  {
   "cell_type": "markdown",
   "metadata": {
    "slideshow": {
     "slide_type": "subslide"
    }
   },
   "source": [
    "#### the FBPR algorithm\n",
    "<img src=\"figures/FBPR_framework.png\" width=\"800\">"
   ]
  },
  {
   "cell_type": "markdown",
   "metadata": {
    "slideshow": {
     "slide_type": "slide"
    }
   },
   "source": [
    "# put together the result to find congestions\n",
    "<img src=\"figures/putting_together_the_results.png\" width=\"500\"> "
   ]
  },
  {
   "cell_type": "markdown",
   "metadata": {
    "slideshow": {
     "slide_type": "subslide"
    }
   },
   "source": [
    "## study framework\n",
    "<img src=\"figures/new_framework2.png\" width=\"1000\">"
   ]
  },
  {
   "cell_type": "markdown",
   "metadata": {
    "slideshow": {
     "slide_type": "subslide"
    }
   },
   "source": [
    "### congested segments locations\n",
    "<img src=\"figures/congested_segment_map.png\" width=\"400\">"
   ]
  },
  {
   "cell_type": "markdown",
   "metadata": {
    "slideshow": {
     "slide_type": "subslide"
    }
   },
   "source": [
    "### distances from congested segments to the important facilities\n",
    "<img src=\"figures/fig_distance.png\" width=\"600\">"
   ]
  },
  {
   "cell_type": "markdown",
   "metadata": {
    "slideshow": {
     "slide_type": "slide"
    }
   },
   "source": [
    "## seeing vehicle movement and congestion in urban street system <small><a href=\"https://vimeo.com/168714357\" target=\"blank\">https://vimeo.com/168714357</a></small>"
   ]
  },
  {
   "cell_type": "markdown",
   "metadata": {
    "slideshow": {
     "slide_type": "slide"
    }
   },
   "source": [
    "## next...\n",
    "- modelling the speed of streets by integrating the bus and VD data\n",
    "- understanding the relationships between Youbike and MRT\n"
   ]
  },
  {
   "cell_type": "markdown",
   "metadata": {
    "slideshow": {
     "slide_type": "subslide"
    }
   },
   "source": [
    "## a day of bus movement in one minute <small><a href=\"https://vimeo.com/174331241\" target=\"blank\">https://vimeo.com/174331241</a></small>"
   ]
  },
  {
   "cell_type": "markdown",
   "metadata": {
    "collapsed": true,
    "slideshow": {
     "slide_type": "slide"
    }
   },
   "source": [
    "### Thanks for listening!  \n",
    "### Questions or Comments?\n",
    "\n",
    "---\n",
    "\n",
    "Benny Chin,  \n",
    "Department of Geography, National Taiwan University.  \n",
    "email: wcchin.88@gmail.com  "
   ]
  },
  {
   "cell_type": "code",
   "execution_count": null,
   "metadata": {
    "collapsed": true,
    "slideshow": {
     "slide_type": "skip"
    }
   },
   "outputs": [],
   "source": []
  }
 ],
 "metadata": {
  "celltoolbar": "Slideshow",
  "kernelspec": {
   "display_name": "Python 2",
   "language": "python",
   "name": "python2"
  },
  "language_info": {
   "codemirror_mode": {
    "name": "ipython",
    "version": 2
   },
   "file_extension": ".py",
   "mimetype": "text/x-python",
   "name": "python",
   "nbconvert_exporter": "python",
   "pygments_lexer": "ipython2",
   "version": "2.7.11"
  }
 },
 "nbformat": 4,
 "nbformat_minor": 0
}
