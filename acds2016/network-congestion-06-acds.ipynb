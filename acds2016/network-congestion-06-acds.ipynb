{
 "cells": [
  {
   "cell_type": "markdown",
   "metadata": {
    "slideshow": {
     "slide_type": "slide"
    }
   },
   "source": [
    "# 分析街道拓撲結構於探討城市交通擁塞問題\n",
    "\n",
    "第八屆發展研究年會 2016 - C3 空間資料與永續發展\n",
    "\n",
    "星期日, 10月16日, 2016 / 09:10-10:50(2) / 國立臺灣大學地理環境資源學系-202室\n"
   ]
  },
  {
   "cell_type": "markdown",
   "metadata": {
    "slideshow": {
     "slide_type": "fragment"
    }
   },
   "source": [
    "<small><b>陳威全</b> (國立臺灣大學 - 地理環境資源學系)</small>"
   ]
  },
  {
   "cell_type": "markdown",
   "metadata": {
    "collapsed": true,
    "slideshow": {
     "slide_type": "subslide"
    }
   },
   "source": [
    "## 交通擁塞的三個面向\n",
    "- 連接性 (connectivity): 這一段路可以更快的通向哪些地方？\n",
    "- 需求 (demand): 有多少車子(需要)經過這路段？\n",
    "- 設計 (design): 這區域的路段網絡結構是否太複雜？"
   ]
  },
  {
   "cell_type": "markdown",
   "metadata": {
    "slideshow": {
     "slide_type": "subslide"
    }
   },
   "source": [
    "這研究的目的是想找出影響  \n",
    "<big>交通擁塞</big>\n",
    "的 \n",
    "<big>網絡特性</big>.  \n",
    "<br>\n",
    "### 分析街道拓撲結構 -- 探討城市交通擁塞問題"
   ]
  },
  {
   "cell_type": "markdown",
   "metadata": {
    "slideshow": {
     "slide_type": "slide"
    }
   },
   "source": [
    "有兩個部分:\n",
    "### 移動的車子，及相互連接的路網\n",
    "請想象一下，\n",
    "有很多的<b>道路路段</b>，他們彼此相互連在一起，  \n",
    "並且有很多<b>車子</b>在這上面移動 ...  \n",
    "<div align=\"center\">\n",
    "<img src=\"fig/streets_01.png\" alt=\"streets and cars\" width=\"600\"><br>\n",
    "</div>\n",
    "  \n",
    "  \n",
    "- 移動者與路網之間的關係，其實與網際網路中的瀏覽者與 WWW 之間的結構很相似"
   ]
  },
  {
   "cell_type": "markdown",
   "metadata": {
    "slideshow": {
     "slide_type": "subslide"
    }
   },
   "source": [
    "#### 從簡單的模型開始思考\n",
    "  \n",
    "以一個簡單的路網結構爲例:  \n",
    "- 當一輛車子走在路上的時候，會沿着道路走...  \n",
    "- 當車子走到交叉路口，可能會往前走、可能會左轉、可能會右轉...  \n",
    "\n",
    "一開始,  \n",
    "先假設車子左轉、右轉、直走的機率是一樣的。 "
   ]
  },
  {
   "cell_type": "markdown",
   "metadata": {
    "slideshow": {
     "slide_type": "subslide"
    }
   },
   "source": [
    "<div align=\"center\"><img src=\"fig/car.gif\" alt=\"random turn\" width=\"700\"></div><br>"
   ]
  },
  {
   "cell_type": "markdown",
   "metadata": {
    "slideshow": {
     "slide_type": "subslide"
    }
   },
   "source": [
    "<div align=\"center\">\n",
    "<sup><sub>simulating car movements with random turns</sub></sup>\n",
    "<img src=\"fig/random_turn.png\" alt=\"random turn\" width=\"400\"><br>\n",
    "轉向至每一個相連的路段的機率都 = $ 1/3 $</div>\n",
    "<br>"
   ]
  },
  {
   "cell_type": "markdown",
   "metadata": {
    "slideshow": {
     "slide_type": "subslide"
    }
   },
   "source": [
    "將這個模型延伸到臺北市路網"
   ]
  },
  {
   "cell_type": "code",
   "execution_count": 3,
   "metadata": {
    "collapsed": false,
    "scrolled": true,
    "slideshow": {
     "slide_type": "skip"
    }
   },
   "outputs": [],
   "source": [
    "from IPython.display import HTML\n",
    "random_move = HTML('<iframe src=\"https://player.vimeo.com/video/168713881\" width=\"640\"\\\n",
    "height=\"360\" frameborder=\"0\" webkitallowfullscreen mozallowfullscreen \\\n",
    "allowfullscreen></iframe><p><a href=\"https://vimeo.com/168713881\">\\\n",
    "simulation - moving cars on streets taking turn randomly - v0.2</a>\\\n",
    "from <a href=\"https://vimeo.com/user11082431\">Benny Chin</a> on \\\n",
    "<a href=\"https://vimeo.com\">Vimeo</a>.</p>')"
   ]
  },
  {
   "cell_type": "code",
   "execution_count": 4,
   "metadata": {
    "collapsed": false,
    "slideshow": {
     "slide_type": "fragment"
    }
   },
   "outputs": [
    {
     "data": {
      "text/html": [
       "<iframe src=\"https://player.vimeo.com/video/168713881\" width=\"640\"height=\"360\" frameborder=\"0\" webkitallowfullscreen mozallowfullscreen allowfullscreen></iframe><p><a href=\"https://vimeo.com/168713881\">simulation - moving cars on streets taking turn randomly - v0.2</a>from <a href=\"https://vimeo.com/user11082431\">Benny Chin</a> on <a href=\"https://vimeo.com\">Vimeo</a>.</p>"
      ],
      "text/plain": [
       "<IPython.core.display.HTML object>"
      ]
     },
     "execution_count": 4,
     "metadata": {},
     "output_type": "execute_result"
    }
   ],
   "source": [
    "random_move"
   ]
  },
  {
   "cell_type": "markdown",
   "metadata": {
    "slideshow": {
     "slide_type": "subslide"
    }
   },
   "source": [
    "這是一個隨機移動模型(random walk model)：\n",
    "<b>人會在一個空間中依循道路隨意的移動的模型</b>。\n",
    "\n",
    "隨機移動模型在一定的條件下，最後停留在每一個地點的人數會逐漸進入穩定的狀態。\n",
    "- 條件1：可能經過的路段是固定的\n",
    "- 條件2：每一路段當下的車輛數(t)，只會受到其相連路段的前一時刻(t-1)的車輛數所影響\n",
    "- 條件3：路段間的轉移機率是固定的\n",
    "\n",
    "如果隨機移動的過程符合上述條件，透過一些隨機移動模型的計算方法，\n",
    "則可以算出在這樣的移動特性下，每一段路段上的流量(停留)的多寡。"
   ]
  },
  {
   "cell_type": "markdown",
   "metadata": {
    "slideshow": {
     "slide_type": "subslide"
    }
   },
   "source": [
    "PageRank 基本形態 (Brin & Page, 1998)  "
   ]
  },
  {
   "cell_type": "markdown",
   "metadata": {
    "slideshow": {
     "slide_type": "subslide"
    }
   },
   "source": [
    "$$ PR_{t}(i) = \\sum_{j\\in IN(i)} PR_{t-1}(j) \\times \\frac{1}{outdeg(j)} $$  \n",
    "$$ IN(i) : 指向 i 節點的鄰居; $$ \n",
    "$$ outdeg(j): j 節點的指出數. $$"
   ]
  },
  {
   "cell_type": "markdown",
   "metadata": {
    "slideshow": {
     "slide_type": "subslide"
    }
   },
   "source": [
    "<div align=\"center\">\n",
    "PageRank (基本形態) 的示意圖\n",
    "<img src=\"fig/PR_demo.png\" alt=\"webpage network\" width=\"400\"><br>\n",
    "選擇每一個(相連)的下一個目標的機率都 $ =  1/3 $</div>\n",
    "<br>"
   ]
  },
  {
   "cell_type": "markdown",
   "metadata": {
    "slideshow": {
     "slide_type": "subslide"
    }
   },
   "source": [
    "所以，  \n",
    "我們用 PageRank 分析街道路網，  \n",
    "以偵測出關鍵的路段 --車子都會經過-- 的路段。  "
   ]
  },
  {
   "cell_type": "markdown",
   "metadata": {
    "slideshow": {
     "slide_type": "fragment"
    }
   },
   "source": [
    "PageRank 的結果可以反映街道的「關鍵程度」。  \n",
    "其實際意義反映的是"
   ]
  },
  {
   "cell_type": "markdown",
   "metadata": {
    "slideshow": {
     "slide_type": "fragment"
    }
   },
   "source": [
    "### 潛在的(流過) 需求量"
   ]
  },
  {
   "cell_type": "markdown",
   "metadata": {
    "slideshow": {
     "slide_type": "slide"
    }
   },
   "source": [
    "### 但是,\n",
    "真實世界中，  \n",
    "車子的流動不是完全的隨機移動。  \n"
   ]
  },
  {
   "cell_type": "markdown",
   "metadata": {
    "slideshow": {
     "slide_type": "subslide"
    }
   },
   "source": [
    "<div align=\"center\">\n",
    "<img src=\"fig/prefered_turn.png\" alt=\"main street vs. secondary street\" width=\"400\"><br>\n",
    "比方說， 主要幹道 vs. 小巷道</div>\n",
    "<br>"
   ]
  },
  {
   "cell_type": "markdown",
   "metadata": {
    "slideshow": {
     "slide_type": "fragment"
    }
   },
   "source": [
    "基本上大多數的車子會往「高引力」的方向走."
   ]
  },
  {
   "cell_type": "markdown",
   "metadata": {
    "slideshow": {
     "slide_type": "subslide"
    }
   },
   "source": [
    "爲了可以捕捉這種移動方式,  \n",
    "我們加入了一個路段特性的概念 -- 吸引程度 ($attr$) -- 來反映目的地路段之間的差異狀況。 \n",
    "\n",
    "$ attr $ 的物理意義是，目的地路段吸引車子流動過去的能力"
   ]
  },
  {
   "cell_type": "markdown",
   "metadata": {
    "slideshow": {
     "slide_type": "fragment"
    }
   },
   "source": [
    "透過這樣的一個特性，進一步調整路段之間轉向機率的計算方式。  \n",
    "\n",
    "轉向機率:  "
   ]
  },
  {
   "cell_type": "markdown",
   "metadata": {
    "slideshow": {
     "slide_type": "fragment"
    }
   },
   "source": [
    "$$ turn(j,i) = \\frac{attr(i)}{\\sum_{k\\in OUT(j)}attr(k)} $$"
   ]
  },
  {
   "cell_type": "markdown",
   "metadata": {
    "slideshow": {
     "slide_type": "subslide"
    }
   },
   "source": [
    "<div align=\"center\">\n",
    "<img src=\"fig/prefered_turn.png\" alt=\"main street vs. secondary street\" width=\"400\"><br></div>\n",
    "<br>"
   ]
  },
  {
   "cell_type": "markdown",
   "metadata": {
    "slideshow": {
     "slide_type": "fragment"
    }
   },
   "source": [
    "<div align=\"center\">\n",
    "$ attr(A) = 2 $  \n",
    "$ attr(B) = 5 $  \n",
    "$ attr(C) = 3 $  \n",
    "$ turn(O,B) = \\frac{5}{2+3+5} = 0.5$</div>"
   ]
  },
  {
   "cell_type": "markdown",
   "metadata": {
    "slideshow": {
     "slide_type": "subslide"
    }
   },
   "source": [
    "但，我們如何知道影響路段吸引程度的空間分佈狀況呢？  \n",
    "- 應用部分已知路段的資料，透過「基因演算法」調校所有路段的吸引程度。\n",
    "- GA 的配適度： FBPR 運算結果的已知路段部分與已知路段的流速之間的 Spearman's rank correlation"
   ]
  },
  {
   "cell_type": "markdown",
   "metadata": {
    "slideshow": {
     "slide_type": "fragment"
    }
   },
   "source": [
    "修改的 PR: Flow-based PageRank (FBPR):  "
   ]
  },
  {
   "cell_type": "markdown",
   "metadata": {
    "slideshow": {
     "slide_type": "fragment"
    }
   },
   "source": [
    "$$ FBPR_{t}(i) = \\sum_{j\\in IN(i)} FBPR_{t-1}(j) \\times turn(j,i) $$  "
   ]
  },
  {
   "cell_type": "markdown",
   "metadata": {
    "slideshow": {
     "slide_type": "subslide"
    }
   },
   "source": [
    "<div align=\"center\"><img src=\"fig/car2.gif\" alt=\"random turn\" width=\"700\"></div><br>"
   ]
  },
  {
   "cell_type": "markdown",
   "metadata": {
    "slideshow": {
     "slide_type": "subslide"
    }
   },
   "source": [
    "吸引程度可以透過 GA 調校，  \n",
    "然後，轉向機率就可以透過吸引程度計算出來  \n",
    "  \n",
    "並且，我們就可以進一步計算 \n",
    "#### 路段的區域複雜度 (local complexity). "
   ]
  },
  {
   "cell_type": "markdown",
   "metadata": {
    "slideshow": {
     "slide_type": "fragment"
    }
   },
   "source": [
    "$$ entropy(j) = -\\sum_{k \\in OUT(j)} (turn(j,k) \\times ln(turn(j,k))) $$\n",
    "#### 轉出複雜度 (outgoing entropy)\n",
    "<small>從該路段轉出去的車子是否都走向同一個方向，  \n",
    "或是平均的走向所有可轉出的目的地.</small>"
   ]
  },
  {
   "cell_type": "markdown",
   "metadata": {
    "slideshow": {
     "slide_type": "subslide"
    }
   },
   "source": [
    "<div align=\"center\">\n",
    "主導的轉出 vs. 均勻的轉出\n",
    "<img src=\"fig/entropy.png\" alt=\"entropy\" width=\"1020\"><br>\n",
    "轉出複雜度 -- 區域的複雜度</div>\n",
    "<br>"
   ]
  },
  {
   "cell_type": "markdown",
   "metadata": {
    "slideshow": {
     "slide_type": "slide"
    }
   },
   "source": [
    "小結,  \n",
    "- 有 2 個部分: <b>移動的車子</b> 及 <b>路網</b>\n",
    "- <b>轉向機率</b> 路段之間移動的機率\n",
    "- FBPR 分數分佈 可捕捉 <b>潛在的需求</b> 分佈\n",
    "- 轉出複雜度可反映路段的 <b>區域的複雜度</b> "
   ]
  },
  {
   "cell_type": "markdown",
   "metadata": {
    "slideshow": {
     "slide_type": "skip"
    }
   },
   "source": [
    "#### 關於擁塞的三個概念\n",
    "- 連接性: 對街道路網執行修改的 PR 演算法(FBPR)，這是一個捕捉隨機移動者模式的演算法\n",
    "- 潛在需求: FBPR scores 的分佈\n",
    "- 區域複雜度: 轉出複雜度的分佈\n"
   ]
  },
  {
   "cell_type": "markdown",
   "metadata": {
    "slideshow": {
     "slide_type": "fragment"
    }
   },
   "source": [
    "### 這研究的目的： 從街道的結構特性與現有的流量資料，分析容易形成擁塞的區域路段"
   ]
  },
  {
   "cell_type": "markdown",
   "metadata": {
    "collapsed": true,
    "slideshow": {
     "slide_type": "slide"
    }
   },
   "source": [
    "# 交通擁塞問題\n",
    "是世界各大城市幾乎每天都會發生的問題.  \n",
    "  \n",
    "在很多發展中國家，路網的承載能力的提升速度追不上車子擁有狀況的增加速度，導致逐漸嚴重的擁塞狀況。"
   ]
  },
  {
   "cell_type": "markdown",
   "metadata": {
    "slideshow": {
     "slide_type": "subslide"
    }
   },
   "source": [
    "<div align=\"center\">\n",
    "<small>擁塞: 是一個時空問題</small>\n",
    "<img src=\"fig/00_googletraffic.png\" alt=\"google traffic\" width=\"1024\"><br>\n",
    "臺北市</div>\n",
    "<br>"
   ]
  },
  {
   "cell_type": "markdown",
   "metadata": {
    "slideshow": {
     "slide_type": "subslide"
    }
   },
   "source": [
    "<small>(除了不預期的事件,如 交通事故)</small>  \n",
    "交通擁塞會發生，是因爲  \n",
    "大多數的人試着在同樣的時間，  \n",
    "前往同樣的目的地 (工作地點、學校)，  \n",
    "造就了 對街道路網 上很高的壓力。  \n",
    "<br>\n",
    "<br>\n",
    "尖峯時間:\n",
    "- 需求上升\n",
    "- 複雜的街道容易形成擁塞"
   ]
  },
  {
   "cell_type": "markdown",
   "metadata": {
    "slideshow": {
     "slide_type": "slide"
    }
   },
   "source": [
    "# 架構"
   ]
  },
  {
   "cell_type": "markdown",
   "metadata": {
    "slideshow": {
     "slide_type": "subslide"
    }
   },
   "source": [
    "1. 應用<b>路網結構</b>與部分的<b>流量資料</b> 結合 <b>FBPR</b>，  \n",
    "2. 計算整體路網的<b>潛在流量分佈</b>，  \n",
    "3. 過程中調校出<b>轉向機率</b>的分佈，  \n",
    "    進一步計算成<b>轉出複雜度</b>，  \n",
    "5. 整合潛在流量分佈與轉出複雜度分佈，  \n",
    "    偵測出<b>容易擁塞的區段</b>。"
   ]
  },
  {
   "cell_type": "markdown",
   "metadata": {
    "slideshow": {
     "slide_type": "fragment"
    }
   },
   "source": [
    "<div align=\"center\">\n",
    "<img src=\"fig/04_studyframework.png\" alt=\"study framework\" width=\"800\"><br>\n",
    "研究流程</div>\n",
    "<br>"
   ]
  },
  {
   "cell_type": "markdown",
   "metadata": {
    "slideshow": {
     "slide_type": "subslide"
    }
   },
   "source": [
    "<div align=\"center\">\n",
    "<img src=\"fig/01_study_area.png\" alt=\"something about Taipei\" width=\"800\"><br>\n",
    "臺北市 </div>\n",
    "<br>"
   ]
  },
  {
   "cell_type": "markdown",
   "metadata": {
    "slideshow": {
     "slide_type": "skip"
    }
   },
   "source": [
    "### the connectivity\n",
    "the ability of streets for bringing people to their destination.\n"
   ]
  },
  {
   "cell_type": "markdown",
   "metadata": {
    "slideshow": {
     "slide_type": "skip"
    }
   },
   "source": [
    "- analysis unit (nodes): street segment\n",
    "- connection (links): intersection of street segments\n",
    "- network: the dual graph of street network"
   ]
  },
  {
   "cell_type": "markdown",
   "metadata": {
    "slideshow": {
     "slide_type": "skip"
    }
   },
   "source": [
    "<div align=\"center\">\n",
    "<img src=\"fig/dual_representing.png\" alt=\"dual representation\" width=\"800\"><br>\n",
    "from street network to its dual graph</div>\n",
    "<br>"
   ]
  },
  {
   "cell_type": "markdown",
   "metadata": {
    "slideshow": {
     "slide_type": "skip"
    }
   },
   "source": [
    "### the (potential) demands\n",
    "the potential number of vehicles passing by the street?"
   ]
  },
  {
   "cell_type": "markdown",
   "metadata": {
    "slideshow": {
     "slide_type": "skip"
    }
   },
   "source": [
    "the vehicle detector (VD) data: the real traffic volume data\n",
    "- a sensor under the street, that count the number of vehicles that is passing above it. \n",
    "- located at most of the major streets in Taipei City"
   ]
  },
  {
   "cell_type": "markdown",
   "metadata": {
    "slideshow": {
     "slide_type": "skip"
    }
   },
   "source": [
    "<div align=\"center\">\n",
    "<img src=\"fig/03_streetvd.png\" alt=\"VD location and study area\" width=\"400\"><br>\n",
    "the street network, and VD location</div>\n",
    "<br>"
   ]
  },
  {
   "cell_type": "markdown",
   "metadata": {
    "slideshow": {
     "slide_type": "skip"
    }
   },
   "source": [
    "### the design\n",
    "is the network structure too complex?"
   ]
  },
  {
   "cell_type": "markdown",
   "metadata": {
    "slideshow": {
     "slide_type": "skip"
    }
   },
   "source": [
    "- moving speed will be slowed down  \n",
    "  if more vehicles are turning to different  \n",
    "  direction from a same street.\n",
    "- the complexity of turning probability  \n",
    "  between streets is a key measurement  \n",
    "  to understand traffic congestion"
   ]
  },
  {
   "cell_type": "markdown",
   "metadata": {
    "collapsed": true,
    "slideshow": {
     "slide_type": "slide"
    }
   },
   "source": [
    "# 結果\n"
   ]
  },
  {
   "cell_type": "markdown",
   "metadata": {
    "slideshow": {
     "slide_type": "slide"
    }
   },
   "source": [
    "## 臺北市的 FBPR 移動模式 -- 模擬狀況"
   ]
  },
  {
   "cell_type": "code",
   "execution_count": 2,
   "metadata": {
    "collapsed": false,
    "slideshow": {
     "slide_type": "skip"
    }
   },
   "outputs": [],
   "source": [
    "from IPython.display import HTML\n",
    "FBPR_movement = HTML('<iframe src=\"https://player.vimeo.com/video/168714357\" width=\"640\"\\\n",
    "height=\"360\" frameborder=\"0\" webkitallowfullscreen mozallowfullscreen \\\n",
    "allowfullscreen></iframe><p><a href=\"https://vimeo.com/168714357\">\\\n",
    "simulation - moving cars on streets turning with the estimated probability\\\n",
    "- v0.2</a> from <a href=\"https://vimeo.com/user11082431\">Benny Chin</a>\\\n",
    "on <a href=\"https://vimeo.com\">Vimeo</a>.</p>')"
   ]
  },
  {
   "cell_type": "code",
   "execution_count": 3,
   "metadata": {
    "collapsed": false,
    "slideshow": {
     "slide_type": "subslide"
    }
   },
   "outputs": [
    {
     "data": {
      "text/html": [
       "<iframe src=\"https://player.vimeo.com/video/168714357\" width=\"640\"height=\"360\" frameborder=\"0\" webkitallowfullscreen mozallowfullscreen allowfullscreen></iframe><p><a href=\"https://vimeo.com/168714357\">simulation - moving cars on streets turning with the estimated probability- v0.2</a> from <a href=\"https://vimeo.com/user11082431\">Benny Chin</a>on <a href=\"https://vimeo.com\">Vimeo</a>.</p>"
      ],
      "text/plain": [
       "<IPython.core.display.HTML object>"
      ]
     },
     "execution_count": 3,
     "metadata": {},
     "output_type": "execute_result"
    }
   ],
   "source": [
    "FBPR_movement"
   ]
  },
  {
   "cell_type": "markdown",
   "metadata": {
    "slideshow": {
     "slide_type": "slide"
    }
   },
   "source": [
    "## 潛在流量需求(FBPR) 與 \n",
    "## 轉出複雜度 (outgoing entropy) \n",
    "的空間分佈"
   ]
  },
  {
   "cell_type": "markdown",
   "metadata": {
    "slideshow": {
     "slide_type": "subslide"
    }
   },
   "source": [
    "<div align=\"center\">\n",
    "<img src=\"fig/06_fbpr.png\" alt=\"FBPR distribution\" width=\"800\"><br>\n",
    "潛在流量需求(FBPR) 空間分佈</div>\n",
    "<br>"
   ]
  },
  {
   "cell_type": "markdown",
   "metadata": {
    "slideshow": {
     "slide_type": "subslide"
    }
   },
   "source": [
    "<div align=\"center\">\n",
    "<img src=\"fig/07_entropy.png\" alt=\"outgoing entropy distribution\" width=\"800\"><br>\n",
    "轉出複雜度 (outgoing entropy) 空間分佈</div>\n",
    "<br>"
   ]
  },
  {
   "cell_type": "markdown",
   "metadata": {
    "slideshow": {
     "slide_type": "slide"
    }
   },
   "source": [
    "## 容易擁塞的路段與區域 vs. 官方擁塞路段"
   ]
  },
  {
   "cell_type": "markdown",
   "metadata": {
    "slideshow": {
     "slide_type": "subslide"
    }
   },
   "source": [
    "<div align=\"center\">\n",
    "<img src=\"fig/08_congested.png\" alt=\"congested segment\" width=\"800\"><br>\n",
    "容易擁塞路段： 高潛在需求與高轉出複雜度的重疊路段</div>\n",
    "<br>"
   ]
  },
  {
   "cell_type": "markdown",
   "metadata": {
    "slideshow": {
     "slide_type": "slide"
    }
   },
   "source": [
    "# 討論"
   ]
  },
  {
   "cell_type": "markdown",
   "metadata": {
    "slideshow": {
     "slide_type": "subslide"
    }
   },
   "source": [
    "## 從一個簡單的模型，到一個擁塞模型\n",
    "- 2 個部分: 移動的車子 & 相互連接的路段\n",
    "- 對隨機移動模型加入了「吸引程度」的概念\n",
    "- 計算了轉向機率\n",
    "- 估計了所有路段的潛在需求\n",
    "- 量測了轉出複雜度\n",
    "- 建立了 FBPR 演算法"
   ]
  },
  {
   "cell_type": "markdown",
   "metadata": {
    "slideshow": {
     "slide_type": "subslide"
    }
   },
   "source": [
    "這研究提出來的架構，  \n",
    "是基於<b>目前可蒐集到的</b>路段流率資料。所以，是\n",
    "#### 試着填補其他路段的流量狀況，回推整個系統的流動分佈的過程。  "
   ]
  },
  {
   "cell_type": "markdown",
   "metadata": {
    "slideshow": {
     "slide_type": "fragment"
    }
   },
   "source": [
    "### 以瞭解一個 城市的日常問題"
   ]
  },
  {
   "cell_type": "markdown",
   "metadata": {
    "slideshow": {
     "slide_type": "subslide"
    }
   },
   "source": [
    "### 連接性與設計 ( Design )\n",
    "- 街道的結構是否讓某些路段 <b>註定</b> 會容易擁塞  \n",
    "- 路網結構的問題"
   ]
  },
  {
   "cell_type": "markdown",
   "metadata": {
    "slideshow": {
     "slide_type": "fragment"
    }
   },
   "source": [
    "### 如何應用網路分析的方法，捕捉街道路網的連接性與設計的特性，作爲分析街道的基礎？"
   ]
  },
  {
   "cell_type": "markdown",
   "metadata": {
    "slideshow": {
     "slide_type": "subslide"
    }
   },
   "source": [
    "### 潛在需求與密度 ( Density )\n",
    "- 城市的佈局(layout)\n",
    "- 各個區域的功能\n",
    "- 人口密度"
   ]
  },
  {
   "cell_type": "markdown",
   "metadata": {
    "slideshow": {
     "slide_type": "fragment"
    }
   },
   "source": [
    "### 在現有的路網結構下，以及在目前的流動需求下，車子會聚集在哪些區域？ -- 潛在需求"
   ]
  },
  {
   "cell_type": "markdown",
   "metadata": {
    "slideshow": {
     "slide_type": "subslide"
    }
   },
   "source": [
    "### 複雜度與多樣性 ( Diversity )\n",
    "- 車子轉向的狀況與移動的關係 ?\n",
    "- 附件建成環境的特性， 可及功能 (Access function) vs. 流動功能 (movement function) ?\n",
    "- 附近其他交通工具的影響？"
   ]
  },
  {
   "cell_type": "markdown",
   "metadata": {
    "slideshow": {
     "slide_type": "fragment"
    }
   },
   "source": [
    "### 車子的轉向狀況對移動速度的影響與原因爲何？"
   ]
  },
  {
   "cell_type": "markdown",
   "metadata": {
    "slideshow": {
     "slide_type": "slide"
    }
   },
   "source": [
    "## 下一步\n",
    "- 進一步改善分析方法以加入其他特性如\n",
    "    - 如高架道路、隧道...\n",
    "    - damping factor (捕捉車子進入或離開街道系統的因子)\n",
    "    - 移動方向及容量 (雙向道路及車道數)\n",
    "- 分析複雜度、流率 與周邊建成環境之間的關係\n",
    "    - 可及功能及流動功能\n",
    "    - 複雜度與速度\n",
    "    - 公共交通與大衆運輸"
   ]
  },
  {
   "cell_type": "markdown",
   "metadata": {
    "collapsed": true,
    "slideshow": {
     "slide_type": "slide"
    }
   },
   "source": [
    "## 以上，感謝聆聽。\n"
   ]
  },
  {
   "cell_type": "markdown",
   "metadata": {
    "collapsed": true,
    "slideshow": {
     "slide_type": "fragment"
    }
   },
   "source": [
    "### 關於我: \n",
    "陳威全,  \n",
    "臺大地理系的一個博士班學生。\n",
    "wcchin.88@gmail.com  \n",
    "http://wcchin.github.io/\n",
    "\n",
    "links:  \n",
    "- simulation video 1 - random turn: https://vimeo.com/168713881\n",
    "- simulation video 2 - FBPR turn: https://vimeo.com/168714357\n",
    "- 於發展年會研討會用的簡報: http://bit.ly/acds2016chin\n"
   ]
  },
  {
   "cell_type": "code",
   "execution_count": null,
   "metadata": {
    "collapsed": true,
    "slideshow": {
     "slide_type": "skip"
    }
   },
   "outputs": [],
   "source": []
  }
 ],
 "metadata": {
  "celltoolbar": "Slideshow",
  "kernelspec": {
   "display_name": "Python 2",
   "language": "python",
   "name": "python2"
  },
  "language_info": {
   "codemirror_mode": {
    "name": "ipython",
    "version": 2
   },
   "file_extension": ".py",
   "mimetype": "text/x-python",
   "name": "python",
   "nbconvert_exporter": "python",
   "pygments_lexer": "ipython2",
   "version": "2.7.11"
  },
  "livereveal": {
   "center": true,
   "start_slideshow_at": "selected",
   "theme": "sky",
   "transition": "concave"
  }
 },
 "nbformat": 4,
 "nbformat_minor": 0
}
