{
 "cells": [
  {
   "cell_type": "code",
   "execution_count": 1,
   "metadata": {
    "collapsed": false,
    "slideshow": {
     "slide_type": "skip"
    }
   },
   "outputs": [],
   "source": [
    "from datetime import date as Date"
   ]
  },
  {
   "cell_type": "code",
   "execution_count": 2,
   "metadata": {
    "collapsed": false,
    "slideshow": {
     "slide_type": "skip"
    }
   },
   "outputs": [
    {
     "name": "stdout",
     "output_type": "stream",
     "text": [
      "大家好\n"
     ]
    }
   ],
   "source": [
    "class mid_term_presentation():\n",
    "    def __init__(self):\n",
    "        self.title = \"從研究論文的發表看「地理」領域 - 人與文\"\n",
    "        self.eng_title = \"Seeing 'Geography' from \\\n",
    "            research publications - People and Papers\"\n",
    "        self.author = \"陳威全\"\n",
    "        self.date = Date(2015,11,19)\n",
    "    \n",
    "    def openning(self):\n",
    "        return \"大家好\"\n",
    "print mid_term_presentation().openning()"
   ]
  },
  {
   "cell_type": "markdown",
   "metadata": {
    "slideshow": {
     "slide_type": "slide"
    }
   },
   "source": [
    "### <div align=\"center\">從研究論文的發表看「地理」領域 - 人的關係，與文的關係</div> \n",
    "### <div align=\"center\">Seeing \"Geography\" from research publications - People and Papers </div> \n",
    "\n",
    "\n",
    "<br>\n",
    "<br>\n",
    "<div align=\"right\">**陳威全**</div>  \n",
    "<div align=\"right\">2015/11/19</div>  \n",
    "\n",
    "-------------\n",
    "<div align=\"center\">*陳威全 2015* @ Network Data Analysis and models </div>"
   ]
  },
  {
   "cell_type": "markdown",
   "metadata": {
    "slideshow": {
     "slide_type": "slide"
    }
   },
   "source": [
    "#### topic = 時間 & 空間 & 群聚\n",
    "\n",
    "-------------\n",
    "\n",
    "<div align=\"center\"><img src=\"figs/drawing_overview.png\" alt=\"mapping the topics\" height=\"500\"></div>"
   ]
  },
  {
   "cell_type": "markdown",
   "metadata": {
    "slideshow": {
     "slide_type": "subslide"
    }
   },
   "source": [
    "#### topic = 時間 & 空間 & 群聚<font size=4> - 左上：細胞層次的應用</font>\n",
    "\n",
    "-------------\n",
    "\n",
    "<div align=\"center\"><img src=\"figs/drawing_topleft.png\" alt=\"mapping the topics\" height=\"500\"></div>"
   ]
  },
  {
   "cell_type": "markdown",
   "metadata": {
    "slideshow": {
     "slide_type": "subslide"
    }
   },
   "source": [
    "#### topic = 時間 & 空間 & 群聚<font size=4> - 左上：細胞層次的應用</font>\n",
    "\n",
    "-------------\n",
    "\n",
    "<div align=\"center\"><img src=\"figs/drawing_topleft.png\" alt=\"mapping the topics\" height=\"500\"></div>"
   ]
  },
  {
   "cell_type": "markdown",
   "metadata": {
    "slideshow": {
     "slide_type": "subslide"
    }
   },
   "source": [
    "#### topic = 時間 & 空間 & 群聚<font size=4> - 右上：醫學上的應用</font>\n",
    "\n",
    "-------------\n",
    "\n",
    "<div align=\"center\"><img src=\"figs/drawing_topright.png\" alt=\"mapping the topics\" height=\"500\"></div>"
   ]
  },
  {
   "cell_type": "markdown",
   "metadata": {
    "slideshow": {
     "slide_type": "subslide"
    }
   },
   "source": [
    "#### topic = 時間 & 空間 & 群聚<font size=4> - 左下：生物、生態領域</font>\n",
    "\n",
    "-------------\n",
    "\n",
    "<div align=\"center\"><img src=\"figs/drawing_bottomleft.png\" alt=\"mapping the topics\" height=\"500\"></div>"
   ]
  },
  {
   "cell_type": "markdown",
   "metadata": {
    "slideshow": {
     "slide_type": "subslide"
    }
   },
   "source": [
    "#### topic = 時間 & 空間 & 群聚<font size=4> - 右下：自然環境領域</font>\n",
    "\n",
    "-------------\n",
    "\n",
    "<div align=\"center\"><img src=\"figs/drawing_bottomright.png\" alt=\"mapping the topics\" height=\"500\"></div>"
   ]
  },
  {
   "cell_type": "markdown",
   "metadata": {
    "slideshow": {
     "slide_type": "subslide"
    }
   },
   "source": [
    "#### topic = 時間 & 空間 & 群聚<font size=4> - 中間：左爲疾病相關；右爲模式相關</font>\n",
    "\n",
    "-------------\n",
    "\n",
    "<div align=\"center\"><img src=\"figs/drawing_center.png\" alt=\"mapping the topics\" height=\"500\"></div>"
   ]
  },
  {
   "cell_type": "markdown",
   "metadata": {
    "slideshow": {
     "slide_type": "subslide"
    }
   },
   "source": [
    "#### topic = 時間 & 空間 & 群聚<font size=4> - 小結</font>\n",
    "\n",
    "-------------\n",
    "\n",
    "<div align=\"center\"><img src=\"figs/drawing_summary.png\" alt=\"mapping the topics\" height=\"500\"></div>"
   ]
  },
  {
   "cell_type": "markdown",
   "metadata": {
    "slideshow": {
     "slide_type": "slide"
    }
   },
   "source": [
    "以上，demo 的是如何從發表的論文，透過關鍵字的共同出現關係網絡的分析，\n",
    "### <div align=\"center\"> 從整個大方向中定義出「子領域」的邊界</div>"
   ]
  },
  {
   "cell_type": "markdown",
   "metadata": {
    "slideshow": {
     "slide_type": "subslide"
    }
   },
   "source": [
    "<div align=\"center\">\n",
    "<h2>那,接下來...</h2>\n",
    "</div>\n",
    "\n",
    "- 「關鍵字 -- 文章 -- 作者」 看哪些作者屬於哪個子領域  \n",
    "- 「共同作者(發表)」關係，看作者之間的分隔度，以及找出「跨領域」的那些人、「只跟自己人混」的那些人... 觀察其特性  \n",
    "- 「文章引用關係」，找出文章之間的互動、上下游等結構上的角色，並進一步看子領域之間的關係  \n"
   ]
  },
  {
   "cell_type": "markdown",
   "metadata": {
    "slideshow": {
     "slide_type": "slide"
    }
   },
   "source": [
    "有意見、有疑問、或有興趣的人，可以在會後找我聊聊，討論討論。  \n",
    "\n",
    "我：\n",
    "- 姓名：陳威全  \n",
    "- 研究室：地理系 501  \n",
    "- email：wcchin.88@gmail.com"
   ]
  },
  {
   "cell_type": "code",
   "execution_count": 3,
   "metadata": {
    "collapsed": false
   },
   "outputs": [
    {
     "name": "stdout",
     "output_type": "stream",
     "text": [
      "謝謝大家\n"
     ]
    }
   ],
   "source": [
    "print \"謝謝大家\""
   ]
  },
  {
   "cell_type": "code",
   "execution_count": null,
   "metadata": {
    "collapsed": true,
    "slideshow": {
     "slide_type": "skip"
    }
   },
   "outputs": [],
   "source": []
  }
 ],
 "metadata": {
  "celltoolbar": "Slideshow",
  "kernelspec": {
   "display_name": "Python 2",
   "language": "python",
   "name": "python2"
  },
  "language_info": {
   "codemirror_mode": {
    "name": "ipython",
    "version": 2
   },
   "file_extension": ".py",
   "mimetype": "text/x-python",
   "name": "python",
   "nbconvert_exporter": "python",
   "pygments_lexer": "ipython2",
   "version": "2.7.10"
  }
 },
 "nbformat": 4,
 "nbformat_minor": 0
}
