{
 "cells": [
  {
   "cell_type": "markdown",
   "metadata": {
    "slideshow": {
     "slide_type": "slide"
    }
   },
   "source": [
    "equations:\n",
    "$$\\gamma = \\frac{ d_{\\gamma} - d_{min} }{ d_{max} - d_{min} }$$\n",
    "I(d) as the impact effect of distance decay on distance $d$\n",
    "$$ I(d) = e^{-\\frac{d}{d_{\\gamma}}}$$"
   ]
  },
  {
   "cell_type": "markdown",
   "metadata": {
    "slideshow": {
     "slide_type": "slide"
    }
   },
   "source": [
    "example: \n",
    "$$ d{min} = 5 km $$\n",
    "$$ d{max} = 10 km $$\n",
    "so, when $\\gamma = 0.00, d_{\\gamma} = 5 km $; \n",
    "$$ I(5) = e^{-\\frac{5}{5}} = \\frac{1}{e} $$\n",
    "$$ I(10) = e^{-\\frac{10}{5}} = \\frac{1}{e^2} $$\n",
    "\n",
    "and $\\gamma = 1.00, d_{\\gamma} = 10 km $\n",
    "$$ I'(5) = e^{-\\frac{5}{10}} = \\frac{1}{\\sqrt[2]{e}} $$\n",
    "$$ I'(10) = e^{-\\frac{10}{10}} = \\frac{1}{e} $$\n",
    "\n"
   ]
  },
  {
   "cell_type": "markdown",
   "metadata": {
    "slideshow": {
     "slide_type": "slide"
    }
   },
   "source": [
    "in summary:\n",
    "\n",
    "with different $d$ and with same $\\gamma$:\n",
    "$$ I(5) > I(10) $$\n",
    "$$ I'(5) > I'(10) $$\n",
    "上面的例子表示距離遞減效果是沒問題的。\n",
    "\n",
    "with same $d$ and with different $\\gamma$, \n",
    "$$ \\gamma = 0  \\& \\gamma = 1 $$\n",
    "$$ I(5) < I'(5) $$\n",
    "$$ I(10) < I'(10) $$"
   ]
  },
  {
   "cell_type": "markdown",
   "metadata": {
    "slideshow": {
     "slide_type": "slide"
    }
   },
   "source": [
    "在同樣的距離$d$下，\n",
    "\n",
    "當 $d_{\\gamma}$ 越小 ， 距離遞減效果越明顯；\n",
    "\n",
    "當 $d_{\\gamma}$ 越大 ， 距離遞減效果越不明顯；"
   ]
  }
 ],
 "metadata": {
  "celltoolbar": "Slideshow",
  "kernelspec": {
   "display_name": "Python 2",
   "language": "python",
   "name": "python2"
  },
  "language_info": {
   "codemirror_mode": {
    "name": "ipython",
    "version": 2
   },
   "file_extension": ".py",
   "mimetype": "text/x-python",
   "name": "python",
   "nbconvert_exporter": "python",
   "pygments_lexer": "ipython2",
   "version": "2.7.10"
  }
 },
 "nbformat": 4,
 "nbformat_minor": 0
}
