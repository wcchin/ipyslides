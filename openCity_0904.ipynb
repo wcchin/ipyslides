{
 "cells": [
  {
   "cell_type": "markdown",
   "metadata": {
    "slideshow": {
     "slide_type": "slide"
    }
   },
   "source": [
    "## 跨領域計畫 第一次主持人會議 (2015/09/04)\n",
    "\n",
    "---\n",
    "#建立多層次都市人口流動時空模式於傳染病擴散風險評估\n",
    "\n",
    "- 都市人口流動\n",
    "- 多層次時空模式\n",
    "- 擴散風險\n",
    "\n",
    "<br /> <br /> <br />\n",
    " \n",
    "---\n",
    "<div class=\"footer\">地理計算科學研究室 - 陳威全. 2015</div>\n"
   ]
  },
  {
   "cell_type": "markdown",
   "metadata": {
    "slideshow": {
     "slide_type": "slide"
    }
   },
   "source": [
    "## 現已發展之系統雛形\n",
    "\n",
    "---\n",
    "流動 <--> 擴散 初探\n",
    "- 現有已初步完成傳染病擴散分析系統雛形\n",
    "  <img src=\"figs/difussion_system_0b.png\" alt=\"照片1\" height=\"490\" width=\"738\">\n",
    "<br /> \n",
    "- 完成並以此系統爲基礎建設 web-based 分析環境架構\n",
    "\n",
    "<br /> \n",
    "<br />\n",
    "\n",
    "---\n",
    "<div class=\"footer\">地理計算科學研究室 - 陳威全. 2015</div>"
   ]
  },
  {
   "cell_type": "markdown",
   "metadata": {
    "slideshow": {
     "slide_type": "subslide"
    }
   },
   "source": [
    "## 現已發展之系統雛形\n",
    "\n",
    "---\n",
    "流動 <--> 擴散 初探\n",
    "- 現有已初步完成傳染病擴散分析系統雛形\n",
    "  <img src=\"figs/difussion_system_1b.png\" alt=\"照片1\" height=\"490\" width=\"738\">\n",
    "<br /> \n",
    "- 完成並以此系統爲基礎建設 web-based 分析環境架構\n",
    "\n",
    "<br /> \n",
    "<br />\n",
    "\n",
    "---\n",
    "<div class=\"footer\">地理計算科學研究室 - 陳威全. 2015</div>"
   ]
  },
  {
   "cell_type": "markdown",
   "metadata": {
    "slideshow": {
     "slide_type": "subslide"
    }
   },
   "source": [
    "## 現已發展之系統雛形\n",
    "\n",
    "---\n",
    "流動 <--> 擴散 初探\n",
    "- 現有已初步完成傳染病擴散分析系統雛形\n",
    "  <img src=\"figs/difussion_system_2b.png\" alt=\"照片1\" height=\"490\" width=\"738\">\n",
    "<br /> \n",
    "- 完成並以此系統爲基礎建設 web-based 分析環境架構\n",
    "\n",
    "<br /> \n",
    "<br />\n",
    "\n",
    "---\n",
    "<div class=\"footer\">地理計算科學研究室 - 陳威全. 2015</div>"
   ]
  },
  {
   "cell_type": "markdown",
   "metadata": {
    "slideshow": {
     "slide_type": "subslide"
    }
   },
   "source": [
    "## 現已發展之系統雛形\n",
    "\n",
    "---\n",
    "流動 <--> 擴散 初探\n",
    "- 現有已初步完成傳染病擴散分析系統雛形\n",
    "  <img src=\"figs/difussion_system_3b.png\" alt=\"照片1\" height=\"490\" width=\"738\">\n",
    "<br /> \n",
    "- 完成並以此系統爲基礎建設 web-based 分析環境架構\n",
    "\n",
    "<br /> \n",
    "<br />\n",
    "\n",
    "---\n",
    "<div class=\"footer\">地理計算科學研究室 - 陳威全. 2015</div>"
   ]
  },
  {
   "cell_type": "markdown",
   "metadata": {
    "slideshow": {
     "slide_type": "slide"
    }
   },
   "source": [
    "## 都市人口流動 (第一年)\n",
    "\n",
    "---\n",
    " 介接臺北市交通資訊 (目前申請中)\n",
    " - 街道 - 停車資訊導引系統資料庫 (公民營停車場基本資料)\n",
    " - 街道 - 交通控制中心資料庫 (路段績效（道路速率）、車輛偵測器（VD）)\n",
    " - 大衆運輸 - 我愛巴士5284資料庫 (車輛等即時經緯度座標、公車到離站等資訊)\n",
    " - 大衆運輸 - 捷運系統(進出站資訊)\n",
    " - 個體 - YouBike微笑單車資料庫 (即時可借車輛數、可停空位數)\n",
    "\n",
    "<br /> <br /> \n",
    "  \n",
    "工作項目\n",
    " - 設計與建立後臺資料庫\n",
    " - 設置資料介接整理與匯入資料庫的架構\n",
    " - 設置 web-based 資料呈現與探索平臺\n",
    " - 建設分析模式的開發環境\n",
    "\n",
    "<br />\n",
    "\n",
    "---\n",
    "<div class=\"footer\">地理計算科學研究室 - 陳威全. 2015</div>"
   ]
  },
  {
   "cell_type": "markdown",
   "metadata": {
    "slideshow": {
     "slide_type": "slide"
    }
   },
   "source": [
    "## 多層次時空模式 (第二年)\n",
    "\n",
    "---\n",
    "人口移動模型\n",
    "- gravity model\n",
    "- radiation model\n",
    "\n",
    "<br /> \n",
    "路網網絡分析模式推估\n",
    "- 街道車流\n",
    "- 大衆運輸人流\n",
    "- 個體 (腳踏車、步行)人流\n",
    "\n",
    "<br /> \n",
    "整合各層人流\n",
    " - 區域間人的流動網絡\n",
    " - 隱藏馬可夫鏈架構\n",
    "\n",
    "<br />\n",
    "\n",
    "---\n",
    "<div class=\"footer\">地理計算科學研究室 - 陳威全. 2015</div>"
   ]
  },
  {
   "cell_type": "markdown",
   "metadata": {
    "slideshow": {
     "slide_type": "slide"
    }
   },
   "source": [
    "## 擴散風險 (第三年)\n",
    "\n",
    "---\n",
    "擴散模式\n",
    " - 整合疾病擴散模式 (SIR, SLIR...)\n",
    " - 以人口移動模型爲基礎，發展時空擴散模式\n",
    " \n",
    "<br /> \n",
    "風險推估\n",
    " - 計算擴散風險等疾病感染相關參考值\n",
    " - 依據歷史與即時人口移動資料，及其他即時環境資訊，進行擴散風險的推估與校正\n",
    " \n",
    "<br />\n",
    "模式驗證與試跑\n",
    " - 以某一實際掌握的疾病擴散資料爲例，進行模式的驗證\n",
    " - 對當下進行中的疾病擴散進行模擬擴散分析\n",
    "<br /> \n",
    "\n",
    "---\n",
    "<div class=\"footer\">地理計算科學研究室 - 陳威全. 2015</div>"
   ]
  },
  {
   "cell_type": "markdown",
   "metadata": {
    "slideshow": {
     "slide_type": "slide"
    }
   },
   "source": [
    "## 目前進行中工作\n",
    "\n",
    "---\n",
    " - 計畫內容調整規劃中  \n",
    " - 臺北市交通資料申請中  \n",
    " - 資料庫初步建設中  \n",
    " - 架設平臺的系統測試中\n",
    "\n",
    "<br /> \n",
    "<br />\n",
    "<br /> \n",
    "\n",
    "---\n",
    "<div class=\"footer\">地理計算科學研究室 - 陳威全. 2015</div>"
   ]
  }
 ],
 "metadata": {
  "celltoolbar": "Slideshow",
  "kernelspec": {
   "display_name": "Python 2",
   "language": "python",
   "name": "python2"
  },
  "language_info": {
   "codemirror_mode": {
    "name": "ipython",
    "version": 2
   },
   "file_extension": ".py",
   "mimetype": "text/x-python",
   "name": "python",
   "nbconvert_exporter": "python",
   "pygments_lexer": "ipython2",
   "version": "2.7.10"
  }
 },
 "nbformat": 4,
 "nbformat_minor": 0
}
